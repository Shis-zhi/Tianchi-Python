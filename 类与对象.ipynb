{
 "cells": [
  {
   "cell_type": "markdown",
   "metadata": {},
   "source": [
    "# 1. 对象 = 属性＋方法  \n",
    "对象是类的实例。换句话说，类主要定义对象的结构，然后我们以类为模板创建对象。类不但包含方法定义，而且还包含所有实例共享的数据。"
   ]
  },
  {
   "cell_type": "markdown",
   "metadata": {},
   "source": [
    "### 封装：信息隐蔽技术\n",
    "我们可以使用关键字 class 定义 Python 类，关键字后面紧跟类的名称、分号和类的实现。"
   ]
  },
  {
   "cell_type": "code",
   "execution_count": 1,
   "metadata": {},
   "outputs": [
    {
     "name": "stdout",
     "output_type": "stream",
     "text": [
      "<__main__.Turtle object at 0x000001A48DABC9A0>\n",
      "<class '__main__.Turtle'>\n",
      "<class '__main__.Turtle'>\n",
      "Turtle\n",
      "我正在很努力的向前爬...\n",
      "我正在飞快的向前跑...\n",
      "咬死你咬死你!!\n",
      "<class 'type'>\n"
     ]
    }
   ],
   "source": [
    "class Turtle: # Python中的类名约定以大写字母开头\n",
    "    \"\"\"关于类的一个简单例子\"\"\"\n",
    " # 属性\n",
    "    color = 'green'\n",
    "    weight = 10\n",
    "    legs = 4\n",
    "    shell = True\n",
    "    mouth = '大嘴'\n",
    "    # 方法\n",
    "    def climb(self):\n",
    "        print('我正在很努力的向前爬...')\n",
    "    def run(self):\n",
    "         print('我正在飞快的向前跑...')\n",
    "    def bite(self):\n",
    "        print('咬死你咬死你!!')\n",
    "    def eat(self):\n",
    "        print('有得吃，真满足...')\n",
    "    def sleep(self):\n",
    "        print('困了，睡了，晚安，zzz')\n",
    "        \n",
    "tt = Turtle()\n",
    "print(tt)\n",
    "\n",
    "print(type(tt))\n",
    " \n",
    "print(tt.__class__)\n",
    " \n",
    "print(tt.__class__.__name__)\n",
    " \n",
    "tt.climb()\n",
    " \n",
    "tt.run()\n",
    " \n",
    "tt.bite()\n",
    " \n",
    "print(type(Turtle))"
   ]
  },
  {
   "cell_type": "markdown",
   "metadata": {},
   "source": [
    "### 继承：子类自动共享父类之间数据和方法的机制"
   ]
  },
  {
   "cell_type": "code",
   "execution_count": 2,
   "metadata": {},
   "outputs": [
    {
     "name": "stdout",
     "output_type": "stream",
     "text": [
      "[1, 2, 5, 7, 8, 9]\n"
     ]
    }
   ],
   "source": [
    "class MyList(list):\n",
    "    pass\n",
    "lst = MyList([1, 5, 2, 7, 8])\n",
    "lst.append(9)\n",
    "lst.sort()\n",
    "print(lst)"
   ]
  },
  {
   "cell_type": "markdown",
   "metadata": {},
   "source": [
    "### 多态：不同对象对同一方法响应不同的行动"
   ]
  },
  {
   "cell_type": "code",
   "execution_count": 3,
   "metadata": {},
   "outputs": [
    {
     "name": "stdout",
     "output_type": "stream",
     "text": [
      "pig is walking\n"
     ]
    }
   ],
   "source": [
    "class Animal:\n",
    "    def run(self):\n",
    "        raise AttributeError('子类必须实现这个方法')\n",
    "class People(Animal):\n",
    "    def run(self):\n",
    "        print('人正在走')\n",
    "class Pig(Animal):\n",
    "    def run(self):\n",
    "        print('pig is walking')\n",
    "class Dog(Animal):\n",
    "    def run(self):\n",
    "        print('dog is running')\n",
    "def func(animal):\n",
    "        animal.run()\n",
    "func(Pig())"
   ]
  },
  {
   "cell_type": "markdown",
   "metadata": {},
   "source": [
    "# 2.self是什么？\n",
    "Python的self相当于C++中的this指针。"
   ]
  },
  {
   "cell_type": "code",
   "execution_count": 4,
   "metadata": {},
   "outputs": [
    {
     "name": "stdout",
     "output_type": "stream",
     "text": [
      "<__main__.Test object at 0x000001A48DACE610>\n",
      "<class '__main__.Test'>\n"
     ]
    }
   ],
   "source": [
    "class Test:\n",
    "    def prt(self):\n",
    "        print(self)\n",
    "        print(self.__class__)\n",
    "t = Test()\n",
    "t.prt()"
   ]
  },
  {
   "cell_type": "markdown",
   "metadata": {},
   "source": [
    "类的方法与普通的函数只有一个特别的区别 —— 它们必须有一个额外的第一个参数名称（对应于该实例，即该对象本身），按照惯例它的名称是 self 。在调用方法时，我们无需明确提供与参数 self 相对应的参数。"
   ]
  },
  {
   "cell_type": "code",
   "execution_count": 5,
   "metadata": {},
   "outputs": [
    {
     "name": "stdout",
     "output_type": "stream",
     "text": [
      "我叫球A,该死的，谁踢我...\n",
      "我叫球B,该死的，谁踢我...\n"
     ]
    }
   ],
   "source": [
    "class Ball:\n",
    "    def setName(self, name):\n",
    "        self.name = name\n",
    "    def kick(self):\n",
    "        print(\"我叫%s,该死的，谁踢我...\" % self.name)\n",
    "a = Ball()\n",
    "a.setName(\"球A\")\n",
    "b = Ball()\n",
    "b.setName(\"球B\")\n",
    "c = Ball()\n",
    "c.setName(\"球C\")\n",
    "a.kick()\n",
    "b.kick()"
   ]
  },
  {
   "cell_type": "markdown",
   "metadata": {},
   "source": [
    "# 3.Python的魔法方法\n",
    "据说，Python 的对象天生拥有一些神奇的方法，它们是面向对象的 Python 的一切...   \n",
    "它们是可以给你的类增加魔力的特殊方法...   \n",
    "如果你的对象实现了这些方法中的某一个，那么这个方法就会在特殊的情况下被 Python 所调用，而这一切都是自动发生的...   \n",
    "类有一个名为 __init__(self[, param1, param2...]) 的魔法方法，该方法在类实例化时会自动调用。"
   ]
  },
  {
   "cell_type": "code",
   "execution_count": 6,
   "metadata": {},
   "outputs": [
    {
     "name": "stdout",
     "output_type": "stream",
     "text": [
      "我叫球A,该死的，谁踢我...\n",
      "我叫球B,该死的，谁踢我...\n"
     ]
    }
   ],
   "source": [
    "\n",
    "class Ball:\n",
    "    def __init__(self, name):\n",
    "        self.name = name\n",
    "    def kick(self):\n",
    "        print(\"我叫%s,该死的，谁踢我...\" % self.name)\n",
    "a = Ball(\"球A\")\n",
    "b = Ball(\"球B\")\n",
    "c = Ball(\"球C\")\n",
    "a.kick()\n",
    "b.kick()"
   ]
  },
  {
   "cell_type": "markdown",
   "metadata": {},
   "source": [
    "# 4.公有和私有\n",
    "在 Python 中定义私有变量只需要在变量名或函数名前加上“__”两个下划线，那么这个函数或变量就会为私有的了。"
   ]
  },
  {
   "cell_type": "code",
   "execution_count": 8,
   "metadata": {},
   "outputs": [
    {
     "name": "stdout",
     "output_type": "stream",
     "text": [
      "1\n",
      "2\n",
      "2\n",
      "2\n"
     ]
    },
    {
     "ename": "AttributeError",
     "evalue": "'JustCounter' object has no attribute '__secretCount'",
     "output_type": "error",
     "traceback": [
      "\u001b[1;31m---------------------------------------------------------------------------\u001b[0m",
      "\u001b[1;31mAttributeError\u001b[0m                            Traceback (most recent call last)",
      "\u001b[1;32m<ipython-input-8-ecf095a6d543>\u001b[0m in \u001b[0;36m<module>\u001b[1;34m\u001b[0m\n\u001b[0;32m     12\u001b[0m \u001b[0mprint\u001b[0m\u001b[1;33m(\u001b[0m\u001b[0mcounter\u001b[0m\u001b[1;33m.\u001b[0m\u001b[0mpublicCount\u001b[0m\u001b[1;33m)\u001b[0m\u001b[1;33m\u001b[0m\u001b[1;33m\u001b[0m\u001b[0m\n\u001b[0;32m     13\u001b[0m \u001b[0mprint\u001b[0m\u001b[1;33m(\u001b[0m\u001b[0mcounter\u001b[0m\u001b[1;33m.\u001b[0m\u001b[0m_JustCounter__secretCount\u001b[0m\u001b[1;33m)\u001b[0m\u001b[1;33m\u001b[0m\u001b[1;33m\u001b[0m\u001b[0m\n\u001b[1;32m---> 14\u001b[1;33m \u001b[0mprint\u001b[0m\u001b[1;33m(\u001b[0m\u001b[0mcounter\u001b[0m\u001b[1;33m.\u001b[0m\u001b[0m__secretCount\u001b[0m\u001b[1;33m)\u001b[0m\u001b[1;33m\u001b[0m\u001b[1;33m\u001b[0m\u001b[0m\n\u001b[0m",
      "\u001b[1;31mAttributeError\u001b[0m: 'JustCounter' object has no attribute '__secretCount'"
     ]
    }
   ],
   "source": [
    "### 类的私有属性实例\n",
    "class JustCounter:\n",
    "    __secretCount = 0 # 私有变量\n",
    "    publicCount = 0 # 公开变量\n",
    "    def count(self):\n",
    "        self.__secretCount += 1\n",
    "        self.publicCount += 1\n",
    "        print(self.__secretCount)\n",
    "counter = JustCounter()\n",
    "counter.count() \n",
    "counter.count() \n",
    "print(counter.publicCount) \n",
    "print(counter._JustCounter__secretCount) \n",
    "print(counter.__secretCount)"
   ]
  },
  {
   "cell_type": "code",
   "execution_count": 9,
   "metadata": {},
   "outputs": [
    {
     "name": "stdout",
     "output_type": "stream",
     "text": [
      "name :  Shis-zhi的Github\n",
      "url :  https://github.com/Shis-zhi\n",
      "这是公共方法\n",
      "这是私有方法\n"
     ]
    },
    {
     "ename": "AttributeError",
     "evalue": "'Site' object has no attribute '__foo'",
     "output_type": "error",
     "traceback": [
      "\u001b[1;31m---------------------------------------------------------------------------\u001b[0m",
      "\u001b[1;31mAttributeError\u001b[0m                            Traceback (most recent call last)",
      "\u001b[1;32m<ipython-input-9-d7a6bddd98a5>\u001b[0m in \u001b[0;36m<module>\u001b[1;34m\u001b[0m\n\u001b[0;32m     15\u001b[0m \u001b[0mx\u001b[0m\u001b[1;33m.\u001b[0m\u001b[0mwho\u001b[0m\u001b[1;33m(\u001b[0m\u001b[1;33m)\u001b[0m\u001b[1;33m\u001b[0m\u001b[1;33m\u001b[0m\u001b[0m\n\u001b[0;32m     16\u001b[0m \u001b[0mx\u001b[0m\u001b[1;33m.\u001b[0m\u001b[0mfoo\u001b[0m\u001b[1;33m(\u001b[0m\u001b[1;33m)\u001b[0m\u001b[1;33m\u001b[0m\u001b[1;33m\u001b[0m\u001b[0m\n\u001b[1;32m---> 17\u001b[1;33m \u001b[0mx\u001b[0m\u001b[1;33m.\u001b[0m\u001b[0m__foo\u001b[0m\u001b[1;33m(\u001b[0m\u001b[1;33m)\u001b[0m\u001b[1;33m\u001b[0m\u001b[1;33m\u001b[0m\u001b[0m\n\u001b[0m",
      "\u001b[1;31mAttributeError\u001b[0m: 'Site' object has no attribute '__foo'"
     ]
    }
   ],
   "source": [
    "###　类的私有方法实例\n",
    "class Site:\n",
    "    def __init__(self, name, url):\n",
    "        self.name = name # publi\n",
    "        self.__url = url # private\n",
    "    def who(self):\n",
    "        print('name : ', self.name)\n",
    "        print('url : ', self.__url)\n",
    "    def __foo(self): # 私有方法\n",
    "        print('这是私有方法')\n",
    "    def foo(self): # 公共方法\n",
    "        print('这是公共方法')\n",
    "        self.__foo()\n",
    "x = Site('Shis-zhi的Github', 'https://github.com/Shis-zhi')\n",
    "x.who()\n",
    "x.foo()\n",
    "x.__foo()"
   ]
  },
  {
   "cell_type": "markdown",
   "metadata": {},
   "source": [
    "# 5.继承\n",
    "Python同样支持类的继承，派生类的定义如下所示\n",
    "```python\n",
    "class DerivedClassName(BaseClassName):\n",
    "    <statement-1>\n",
    "    ·\n",
    "    ·\n",
    "    ·\n",
    "    <statement-N>\n",
    "```\n",
    "BaseClassName （示例中的基类名）必须与派生类定义在一个作用域内。除了类，还可以用表达式，基类定义在另一个模块中时这一点非常有用：\n",
    "```python\n",
    "class DerivedClassName(modname.BaseClassName):\n",
    "    <statement-1> \n",
    "    .\n",
    "    .\n",
    "    .\n",
    "    <statement-N>\n",
    "```"
   ]
  },
  {
   "cell_type": "code",
   "execution_count": 11,
   "metadata": {},
   "outputs": [
    {
     "name": "stdout",
     "output_type": "stream",
     "text": [
      "Shiszhi 说: 我 10 岁了，我在读 3 年级\n"
     ]
    }
   ],
   "source": [
    "### 如果子类中定义与父类同名的方法或属性，则会自动覆盖父类对应的方法或属性。\n",
    "# 类定义\n",
    "class people:\n",
    " # 定义基本属性\n",
    "    name = ''\n",
    "    age = 0\n",
    " # 定义私有属性,私有属性在类外部无法直接进行访问\n",
    "    __weight = 0\n",
    " # 定义构造方法\n",
    "    def __init__(self, n, a, w):\n",
    "        self.name = n\n",
    "        self.age = a\n",
    "        self.__weight = w\n",
    "    def speak(self):\n",
    "        print(\"%s 说: 我 %d 岁。\" % (self.name, self.age))\n",
    "# 单继承示例\n",
    "class student(people):\n",
    "    grade = ''\n",
    "    def __init__(self, n, a, w, g):\n",
    " # 调用父类的构函\n",
    "        people.__init__(self, n, a, w)\n",
    "        self.grade = g\n",
    " # 覆写父类的方法\n",
    "    def speak(self):\n",
    "        print(\"%s 说: 我 %d 岁了，我在读 %d 年级\" % (self.name, self.age, self.grade))\n",
    "s = student('Shiszhi', 10, 60, 3)\n",
    "s.speak()\n"
   ]
  },
  {
   "cell_type": "code",
   "execution_count": 16,
   "metadata": {},
   "outputs": [
    {
     "name": "stdout",
     "output_type": "stream",
     "text": [
      "我的位置 4 4\n",
      "吃货的梦想就是天天有得吃！\n"
     ]
    },
    {
     "ename": "AttributeError",
     "evalue": "'Shark' object has no attribute 'x'",
     "output_type": "error",
     "traceback": [
      "\u001b[1;31m---------------------------------------------------------------------------\u001b[0m",
      "\u001b[1;31mAttributeError\u001b[0m                            Traceback (most recent call last)",
      "\u001b[1;32m<ipython-input-16-9aa4225eeccf>\u001b[0m in \u001b[0;36m<module>\u001b[1;34m\u001b[0m\n\u001b[0;32m     27\u001b[0m \u001b[0ms\u001b[0m \u001b[1;33m=\u001b[0m \u001b[0mShark\u001b[0m\u001b[1;33m(\u001b[0m\u001b[1;33m)\u001b[0m\u001b[1;33m\u001b[0m\u001b[1;33m\u001b[0m\u001b[0m\n\u001b[0;32m     28\u001b[0m \u001b[0ms\u001b[0m\u001b[1;33m.\u001b[0m\u001b[0meat\u001b[0m\u001b[1;33m(\u001b[0m\u001b[1;33m)\u001b[0m\u001b[1;33m\u001b[0m\u001b[1;33m\u001b[0m\u001b[0m\n\u001b[1;32m---> 29\u001b[1;33m \u001b[0ms\u001b[0m\u001b[1;33m.\u001b[0m\u001b[0mmove\u001b[0m\u001b[1;33m(\u001b[0m\u001b[1;33m)\u001b[0m\u001b[1;33m\u001b[0m\u001b[1;33m\u001b[0m\u001b[0m\n\u001b[0m",
      "\u001b[1;32m<ipython-input-16-9aa4225eeccf>\u001b[0m in \u001b[0;36mmove\u001b[1;34m(self)\u001b[0m\n\u001b[0;32m      5\u001b[0m         \u001b[0mself\u001b[0m\u001b[1;33m.\u001b[0m\u001b[0my\u001b[0m \u001b[1;33m=\u001b[0m \u001b[0mr\u001b[0m\u001b[1;33m.\u001b[0m\u001b[0mrandint\u001b[0m\u001b[1;33m(\u001b[0m\u001b[1;36m0\u001b[0m\u001b[1;33m,\u001b[0m \u001b[1;36m10\u001b[0m\u001b[1;33m)\u001b[0m\u001b[1;33m\u001b[0m\u001b[1;33m\u001b[0m\u001b[0m\n\u001b[0;32m      6\u001b[0m     \u001b[1;32mdef\u001b[0m \u001b[0mmove\u001b[0m\u001b[1;33m(\u001b[0m\u001b[0mself\u001b[0m\u001b[1;33m)\u001b[0m\u001b[1;33m:\u001b[0m\u001b[1;33m\u001b[0m\u001b[1;33m\u001b[0m\u001b[0m\n\u001b[1;32m----> 7\u001b[1;33m         \u001b[0mself\u001b[0m\u001b[1;33m.\u001b[0m\u001b[0mx\u001b[0m \u001b[1;33m-=\u001b[0m \u001b[1;36m1\u001b[0m\u001b[1;33m\u001b[0m\u001b[1;33m\u001b[0m\u001b[0m\n\u001b[0m\u001b[0;32m      8\u001b[0m         \u001b[0mprint\u001b[0m\u001b[1;33m(\u001b[0m\u001b[1;34m\"我的位置\"\u001b[0m\u001b[1;33m,\u001b[0m \u001b[0mself\u001b[0m\u001b[1;33m.\u001b[0m\u001b[0mx\u001b[0m\u001b[1;33m,\u001b[0m \u001b[0mself\u001b[0m\u001b[1;33m.\u001b[0m\u001b[0my\u001b[0m\u001b[1;33m)\u001b[0m\u001b[1;33m\u001b[0m\u001b[1;33m\u001b[0m\u001b[0m\n\u001b[0;32m      9\u001b[0m \u001b[1;32mclass\u001b[0m \u001b[0mGoldFish\u001b[0m\u001b[1;33m(\u001b[0m\u001b[0mFish\u001b[0m\u001b[1;33m)\u001b[0m\u001b[1;33m:\u001b[0m \u001b[1;31m# 金鱼\u001b[0m\u001b[1;33m\u001b[0m\u001b[1;33m\u001b[0m\u001b[0m\n",
      "\u001b[1;31mAttributeError\u001b[0m: 'Shark' object has no attribute 'x'"
     ]
    }
   ],
   "source": [
    "import random as r\n",
    "class Fish:\n",
    "    def __init__(self):\n",
    "        self.x = r.randint(0, 10)\n",
    "        self.y = r.randint(0, 10)\n",
    "    def move(self):\n",
    "        self.x -= 1\n",
    "        print(\"我的位置\", self.x, self.y)\n",
    "class GoldFish(Fish): # 金鱼\n",
    "    pass\n",
    "class Carp(Fish): # 鲤鱼\n",
    "    pass\n",
    "class Salmon(Fish): # 三文鱼\n",
    "    pass\n",
    "class Shark(Fish): # 鲨鱼\n",
    "    def __init__(self):\n",
    "        self.hungry = True\n",
    "    def eat(self):\n",
    "        if self.hungry:\n",
    "            print(\"吃货的梦想就是天天有得吃！\")\n",
    "            self.hungry = False\n",
    "        else:\n",
    "            print(\"太撑了，吃不下了！\")\n",
    "            self.hungry = True\n",
    "g = GoldFish()\n",
    "g.move() \n",
    "s = Shark()\n",
    "s.eat() \n",
    "s.move() "
   ]
  },
  {
   "cell_type": "markdown",
   "metadata": {},
   "source": [
    "Shark的魔法方法中并没有x和y两个属性。  \n",
    "为了解决这个问题，可以采用以下两种方式："
   ]
  },
  {
   "cell_type": "markdown",
   "metadata": {},
   "source": [
    "1.调用未绑定的父类方法Fish.\\_\\_init\\_\\_(self)"
   ]
  },
  {
   "cell_type": "code",
   "execution_count": 17,
   "metadata": {},
   "outputs": [],
   "source": [
    "class Shark(Fish): # 鲨鱼\n",
    "    def __init__(self):\n",
    "        Fish.__init__(self)\n",
    "        self.hungry = True\n",
    "    def eat(self):\n",
    "        if self.hungry:\n",
    "            print(\"吃货的梦想就是天天有得吃！\")\n",
    "            self.hungry = False\n",
    "        else:\n",
    "            print(\"太撑了，吃不下了！\")\n",
    "            self.hungry = True"
   ]
  },
  {
   "cell_type": "markdown",
   "metadata": {},
   "source": [
    "2.使用super()函数 super().\\_\\_init\\_\\_() "
   ]
  },
  {
   "cell_type": "code",
   "execution_count": 18,
   "metadata": {},
   "outputs": [],
   "source": [
    "class Shark(Fish): # 鲨鱼\n",
    "    def __init__(self):\n",
    "        super().__init__()\n",
    "        self.hungry = True\n",
    "    def eat(self):\n",
    "        if self.hungry:\n",
    "            print(\"吃货的梦想就是天天有得吃！\")\n",
    "            self.hungry = False\n",
    "        else:\n",
    "            print(\"太撑了，吃不下了！\")\n",
    "            self.hungry = True"
   ]
  },
  {
   "cell_type": "markdown",
   "metadata": {},
   "source": [
    "Python虽然支持多继承的形式，但我们一般不使用多继承，因为容易引起混乱。\n",
    "```python\n",
    "class DerivedClassName(Base1, Base2, Base3):\n",
    "    <statement-1>\n",
    "    .\n",
    "    .\n",
    "    .\n",
    "    <statement-N>\n",
    "```\n",
    "需要注意圆括号中父类的顺序，若是父类中有相同的方法名，而在子类使用时未指定，Python 从左至右搜索，即**方法在子类中未找到时，从左到右查找父类中是否包含方法**。"
   ]
  },
  {
   "cell_type": "markdown",
   "metadata": {},
   "source": [
    "# 6.组合"
   ]
  },
  {
   "cell_type": "code",
   "execution_count": 20,
   "metadata": {},
   "outputs": [
    {
     "name": "stdout",
     "output_type": "stream",
     "text": [
      "水池里面有乌龟2只，小鱼3条\n"
     ]
    }
   ],
   "source": [
    "class Turtle:\n",
    "    def __init__(self, x):\n",
    "        self.num = x\n",
    "class Fish:\n",
    "    def __init__(self, x):\n",
    "        self.num = x\n",
    "class Pool:\n",
    "    def __init__(self, x, y):\n",
    "        self.turtle = Turtle(x)\n",
    "        self.fish = Fish(y)\n",
    "    def print_num(self):\n",
    "        print(\"水池里面有乌龟%s只，小鱼%s条\" % (self.turtle.num, self.fish.num))\n",
    "p = Pool(2, 3)\n",
    "p.print_num()\n",
    "# 水池里面有乌龟2只，小鱼3条"
   ]
  },
  {
   "cell_type": "markdown",
   "metadata": {},
   "source": [
    "# 7.类、类对象和实例对象\n",
    "![avatar](data:image/png;base64,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)\n"
   ]
  },
  {
   "cell_type": "markdown",
   "metadata": {},
   "source": [
    "类对象：创建一个类，其实也是一个对象，也在内存开辟了一块空间，称为类对象，类对象只有一个\n",
    "```python\n",
    "# 类对象\n",
    "class A(object):\n",
    "    pass\n",
    "\n",
    "```"
   ]
  },
  {
   "cell_type": "markdown",
   "metadata": {},
   "source": [
    "实例对象:就是通过实例化类创建的对象，称为实例对象，实例对象可以有多个"
   ]
  },
  {
   "cell_type": "markdown",
   "metadata": {},
   "source": [
    "类属性:类里面方法外面定义的变量称为类属性。类属性所属于类对象并且多个实例对象之间共享同一个类属性，说白了就是类属性所有的通过该类实例化的对象都能共享。"
   ]
  },
  {
   "cell_type": "markdown",
   "metadata": {},
   "source": [
    "实例属性：实例属性和具体的某个实例对象有关系，并且一个实例对象和另外一个实例对象是不共享属性的，说白了实例属性只能在自己的对象里面使用，其他的对象不能直接使用，因为 self 是谁调用，它的值就属于该对象。"
   ]
  },
  {
   "cell_type": "markdown",
   "metadata": {},
   "source": [
    "类属性和实例属性区别\n",
    "1. 类属性：类外面，可以通过 实例对象.类属性 和 类名.类属性 进行调用。类里面，通过 self.类属性\n",
    "和 类名.类属性 进行调用。\n",
    "2. 实例属性 ：类外面，可以通过 实例对象.实例属性 调用。类里面，通过 self.实例属性 调用。\n",
    "3. 实例属性就相当于局部变量。出了这个类或者这个类的实例对象，就没有作用了。\n",
    "4. 类属性就相当于类里面的全局变量，可以和这个类的所有实例对象共享。\n"
   ]
  },
  {
   "cell_type": "markdown",
   "metadata": {},
   "source": [
    "# 8.绑定\n",
    "Python 严格要求方法需要有实例才能被调用，这种限制其实就是 Python 所谓的绑定概念。  \n",
    "Python 对象的数据属性通常存储在名为 .__ dict__ 的字典中，我们可以直接访问 \\_\\_dict\\__ ，或利用 Python 的内置函数 vars() 获取 .__ dict__ 。\n"
   ]
  },
  {
   "cell_type": "code",
   "execution_count": 21,
   "metadata": {},
   "outputs": [
    {
     "name": "stdout",
     "output_type": "stream",
     "text": [
      "{}\n",
      "{}\n",
      "{'__module__': '__main__', 'setXY': <function CC.setXY at 0x000001A48F519550>, 'printXY': <function CC.printXY at 0x000001A48F5195E0>, '__dict__': <attribute '__dict__' of 'CC' objects>, '__weakref__': <attribute '__weakref__' of 'CC' objects>, '__doc__': None}\n",
      "{'x': 4, 'y': 5}\n",
      "{'__module__': '__main__', 'setXY': <function CC.setXY at 0x000001A48F519550>, 'printXY': <function CC.printXY at 0x000001A48F5195E0>, '__dict__': <attribute '__dict__' of 'CC' objects>, '__weakref__': <attribute '__weakref__' of 'CC' objects>, '__doc__': None}\n",
      "{'__module__': '__main__', 'setXY': <function CC.setXY at 0x000001A48F519550>, 'printXY': <function CC.printXY at 0x000001A48F5195E0>, '__dict__': <attribute '__dict__' of 'CC' objects>, '__weakref__': <attribute '__weakref__' of 'CC' objects>, '__doc__': None}\n"
     ]
    }
   ],
   "source": [
    "class CC:\n",
    "    def setXY(self, x, y):\n",
    "        self.x = x\n",
    "        self.y = y\n",
    "    def printXY(self):\n",
    "        print(self.x, self.y)\n",
    "dd = CC()\n",
    "print(dd.__dict__)\n",
    "print(vars(dd))\n",
    "print(CC.__dict__)\n",
    "dd.setXY(4, 5)\n",
    "print(dd.__dict__)\n",
    "print(vars(CC))\n",
    "print(CC.__dict__)"
   ]
  },
  {
   "cell_type": "markdown",
   "metadata": {},
   "source": [
    "# 9.一些相关的内置函数（BIF）\n"
   ]
  },
  {
   "cell_type": "markdown",
   "metadata": {},
   "source": [
    "1. issubclass(class, classinfo) 方法用于判断参数 class 是否是类型参数 classinfo 的子类。\n",
    "2. 一个类被认为是其自身的子类。\n",
    "3. classinfo可以是类对象的元组，只要class是其中任何一个候选类的子类，则返回 True 。"
   ]
  },
  {
   "cell_type": "code",
   "execution_count": 22,
   "metadata": {},
   "outputs": [
    {
     "name": "stdout",
     "output_type": "stream",
     "text": [
      "True\n",
      "True\n",
      "False\n",
      "True\n"
     ]
    }
   ],
   "source": [
    "class A:\n",
    "    pass\n",
    "class B(A):\n",
    "    pass\n",
    "print(issubclass(B, A)) # True\n",
    "print(issubclass(B, B)) # True\n",
    "print(issubclass(A, B)) # False\n",
    "print(issubclass(B, object)) # True"
   ]
  },
  {
   "cell_type": "markdown",
   "metadata": {},
   "source": [
    "1. isinstance(object, classinfo) 方法用于判断一个对象是否是一个已知的类型，类似 type() 。\n",
    "2. type() 不会认为子类是一种父类类型，不考虑继承关系。\n",
    "3. isinstance() 会认为子类是一种父类类型，考虑继承关系。\n",
    "4. 如果第一个参数不是对象，则永远返回 False 。\n",
    "5. 如果第二个参数不是类或者由类对象组成的元组，会抛出一个 TypeError 异常。"
   ]
  },
  {
   "cell_type": "code",
   "execution_count": 23,
   "metadata": {},
   "outputs": [
    {
     "name": "stdout",
     "output_type": "stream",
     "text": [
      "True\n",
      "False\n",
      "True\n",
      "True\n",
      "True\n",
      "True\n",
      "False\n"
     ]
    }
   ],
   "source": [
    "a = 2\n",
    "print(isinstance(a, int))  \n",
    "print(isinstance(a, str))  \n",
    "print(isinstance(a, (str, int, list)))  \n",
    "class A:\n",
    "    pass\n",
    "class B(A):\n",
    "    pass\n",
    "print(isinstance(A(), A))  \n",
    "print(type(A()) == A)  \n",
    "print(isinstance(B(), A))  \n",
    "print(type(B()) == A)  "
   ]
  },
  {
   "cell_type": "markdown",
   "metadata": {},
   "source": [
    "hasattr(object, name) 用于判断对象是否包含对应的属性。"
   ]
  },
  {
   "cell_type": "code",
   "execution_count": 24,
   "metadata": {},
   "outputs": [
    {
     "name": "stdout",
     "output_type": "stream",
     "text": [
      "True\n",
      "True\n",
      "True\n",
      "False\n"
     ]
    }
   ],
   "source": [
    "class Coordinate:\n",
    "    x = 10\n",
    "    y = -5\n",
    "    z = 0\n",
    "point1 = Coordinate()\n",
    "print(hasattr(point1, 'x'))  \n",
    "print(hasattr(point1, 'y'))  \n",
    "print(hasattr(point1, 'z'))  \n",
    "print(hasattr(point1, 'no'))  "
   ]
  },
  {
   "cell_type": "markdown",
   "metadata": {},
   "source": [
    "getattr(object, name\\[, default\\]) 用于返回一个对象属性值,如果要返回的属性不存在，但default存在，那么返回default值，否则报错。"
   ]
  },
  {
   "cell_type": "code",
   "execution_count": 25,
   "metadata": {},
   "outputs": [
    {
     "name": "stdout",
     "output_type": "stream",
     "text": [
      "1\n",
      "3\n"
     ]
    },
    {
     "ename": "AttributeError",
     "evalue": "'A' object has no attribute 'bar2'",
     "output_type": "error",
     "traceback": [
      "\u001b[1;31m---------------------------------------------------------------------------\u001b[0m",
      "\u001b[1;31mAttributeError\u001b[0m                            Traceback (most recent call last)",
      "\u001b[1;32m<ipython-input-25-09a6f7ff4a01>\u001b[0m in \u001b[0;36m<module>\u001b[1;34m\u001b[0m\n\u001b[0;32m      4\u001b[0m \u001b[0mprint\u001b[0m\u001b[1;33m(\u001b[0m\u001b[0mgetattr\u001b[0m\u001b[1;33m(\u001b[0m\u001b[0ma\u001b[0m\u001b[1;33m,\u001b[0m \u001b[1;34m'bar'\u001b[0m\u001b[1;33m)\u001b[0m\u001b[1;33m)\u001b[0m\u001b[1;33m\u001b[0m\u001b[1;33m\u001b[0m\u001b[0m\n\u001b[0;32m      5\u001b[0m \u001b[0mprint\u001b[0m\u001b[1;33m(\u001b[0m\u001b[0mgetattr\u001b[0m\u001b[1;33m(\u001b[0m\u001b[0ma\u001b[0m\u001b[1;33m,\u001b[0m \u001b[1;34m'bar2'\u001b[0m\u001b[1;33m,\u001b[0m \u001b[1;36m3\u001b[0m\u001b[1;33m)\u001b[0m\u001b[1;33m)\u001b[0m\u001b[1;33m\u001b[0m\u001b[1;33m\u001b[0m\u001b[0m\n\u001b[1;32m----> 6\u001b[1;33m \u001b[0mprint\u001b[0m\u001b[1;33m(\u001b[0m\u001b[0mgetattr\u001b[0m\u001b[1;33m(\u001b[0m\u001b[0ma\u001b[0m\u001b[1;33m,\u001b[0m \u001b[1;34m'bar2'\u001b[0m\u001b[1;33m)\u001b[0m\u001b[1;33m)\u001b[0m\u001b[1;33m\u001b[0m\u001b[1;33m\u001b[0m\u001b[0m\n\u001b[0m",
      "\u001b[1;31mAttributeError\u001b[0m: 'A' object has no attribute 'bar2'"
     ]
    }
   ],
   "source": [
    "class A(object):\n",
    "    bar = 1\n",
    "a = A()\n",
    "print(getattr(a, 'bar'))  \n",
    "print(getattr(a, 'bar2', 3))  \n",
    "print(getattr(a, 'bar2'))"
   ]
  },
  {
   "cell_type": "markdown",
   "metadata": {},
   "source": [
    "setattr(object, name, value) 对应函数 getattr() ，用于设置属性值，该属性不一定是存在的。"
   ]
  },
  {
   "cell_type": "code",
   "execution_count": 26,
   "metadata": {},
   "outputs": [
    {
     "name": "stdout",
     "output_type": "stream",
     "text": [
      "1\n",
      "5\n",
      "28\n"
     ]
    }
   ],
   "source": [
    "class A(object):\n",
    "    bar = 1\n",
    "a = A()\n",
    "print(getattr(a, 'bar'))\n",
    "setattr(a, 'bar', 5)\n",
    "print(a.bar) \n",
    "setattr(a, \"age\", 28)\n",
    "print(a.age)"
   ]
  },
  {
   "cell_type": "markdown",
   "metadata": {},
   "source": [
    "delattr(object, name) 用于删除属性。"
   ]
  },
  {
   "cell_type": "code",
   "execution_count": 27,
   "metadata": {},
   "outputs": [
    {
     "name": "stdout",
     "output_type": "stream",
     "text": [
      "x =  10\n",
      "y =  -5\n",
      "z =  0\n",
      "--删除 z 属性后--\n",
      "x =  10\n",
      "y =  -5\n"
     ]
    },
    {
     "ename": "AttributeError",
     "evalue": "'Coordinate' object has no attribute 'z'",
     "output_type": "error",
     "traceback": [
      "\u001b[1;31m---------------------------------------------------------------------------\u001b[0m",
      "\u001b[1;31mAttributeError\u001b[0m                            Traceback (most recent call last)",
      "\u001b[1;32m<ipython-input-27-6d41d8cebf31>\u001b[0m in \u001b[0;36m<module>\u001b[1;34m\u001b[0m\n\u001b[0;32m     14\u001b[0m \u001b[0mprint\u001b[0m\u001b[1;33m(\u001b[0m\u001b[1;34m'x = '\u001b[0m\u001b[1;33m,\u001b[0m \u001b[0mpoint1\u001b[0m\u001b[1;33m.\u001b[0m\u001b[0mx\u001b[0m\u001b[1;33m)\u001b[0m\u001b[1;33m\u001b[0m\u001b[1;33m\u001b[0m\u001b[0m\n\u001b[0;32m     15\u001b[0m \u001b[0mprint\u001b[0m\u001b[1;33m(\u001b[0m\u001b[1;34m'y = '\u001b[0m\u001b[1;33m,\u001b[0m \u001b[0mpoint1\u001b[0m\u001b[1;33m.\u001b[0m\u001b[0my\u001b[0m\u001b[1;33m)\u001b[0m\u001b[1;33m\u001b[0m\u001b[1;33m\u001b[0m\u001b[0m\n\u001b[1;32m---> 16\u001b[1;33m \u001b[0mprint\u001b[0m\u001b[1;33m(\u001b[0m\u001b[1;34m'z = '\u001b[0m\u001b[1;33m,\u001b[0m \u001b[0mpoint1\u001b[0m\u001b[1;33m.\u001b[0m\u001b[0mz\u001b[0m\u001b[1;33m)\u001b[0m\u001b[1;33m\u001b[0m\u001b[1;33m\u001b[0m\u001b[0m\n\u001b[0m",
      "\u001b[1;31mAttributeError\u001b[0m: 'Coordinate' object has no attribute 'z'"
     ]
    }
   ],
   "source": [
    "class Coordinate:\n",
    "    x = 10\n",
    "    y = -5\n",
    "    z = 0\n",
    "\n",
    "\n",
    "\n",
    "point1 = Coordinate()\n",
    "print('x = ', point1.x)  \n",
    "print('y = ', point1.y)  \n",
    "print('z = ', point1.z)  \n",
    "delattr(Coordinate, 'z')\n",
    "print('--删除 z 属性后--')  \n",
    "print('x = ', point1.x)  \n",
    "print('y = ', point1.y) \n",
    "print('z = ', point1.z)"
   ]
  },
  {
   "cell_type": "markdown",
   "metadata": {},
   "source": [
    "class property(\\[fget\\[, fset\\[, fdel\\[, doc\\]\\]\\]\\]) 用于在新式类中返回属性值。  \n",
    "a. fget -- 获取属性值的函数  \n",
    "b. fset -- 设置属性值的函数  \n",
    "c. fdel -- 删除属性值函数  \n",
    "d. doc -- 属性描述信息"
   ]
  },
  {
   "cell_type": "code",
   "execution_count": 28,
   "metadata": {},
   "outputs": [
    {
     "name": "stdout",
     "output_type": "stream",
     "text": [
      "2\n"
     ]
    }
   ],
   "source": [
    "class C(object):\n",
    "    def __init__(self):\n",
    "        self.__x = None\n",
    "    def getx(self):\n",
    "        return self.__x\n",
    "    def setx(self, value):\n",
    "        self.__x = value\n",
    "    def delx(self):\n",
    "        del self.__x\n",
    "    x = property(getx, setx, delx, \"I'm the 'x' property.\")\n",
    "cc = C()\n",
    "cc.x = 2\n",
    "print(cc.x) # 2"
   ]
  }
 ],
 "metadata": {
  "kernelspec": {
   "display_name": "Python 3",
   "language": "python",
   "name": "python3"
  },
  "language_info": {
   "codemirror_mode": {
    "name": "ipython",
    "version": 3
   },
   "file_extension": ".py",
   "mimetype": "text/x-python",
   "name": "python",
   "nbconvert_exporter": "python",
   "pygments_lexer": "ipython3",
   "version": "3.8.5"
  }
 },
 "nbformat": 4,
 "nbformat_minor": 4
}
