{
 "cells": [
  {
   "cell_type": "markdown",
   "metadata": {},
   "source": [
    "# 1.列表的定义"
   ]
  },
  {
   "cell_type": "markdown",
   "metadata": {},
   "source": [
    "  列表是有序集合，没有固定大小，能够保存**任意数量**，**任意类型**的Python对象，语法为\\[元素1，元素2，..., 元素n\\]\n",
    "1. 关键点是中括号和逗号\n",
    "2. 中括号把所有元素绑在一起，逗号把每个元素一一分开"
   ]
  },
  {
   "cell_type": "markdown",
   "metadata": {},
   "source": [
    "# 2.列表的创建"
   ]
  },
  {
   "cell_type": "markdown",
   "metadata": {},
   "source": [
    "### 创建一个普通列表"
   ]
  },
  {
   "cell_type": "code",
   "execution_count": 1,
   "metadata": {},
   "outputs": [
    {
     "name": "stdout",
     "output_type": "stream",
     "text": [
      "['Monday', 'Tuesday', 'Wednesday', 'Thursday', 'Friday'] <class 'list'>\n"
     ]
    }
   ],
   "source": [
    "x = ['Monday', 'Tuesday', 'Wednesday', 'Thursday', 'Friday']\n",
    "print(x, type(x))"
   ]
  },
  {
   "cell_type": "markdown",
   "metadata": {},
   "source": [
    "### 利用range()创建列表"
   ]
  },
  {
   "cell_type": "code",
   "execution_count": 3,
   "metadata": {},
   "outputs": [
    {
     "name": "stdout",
     "output_type": "stream",
     "text": [
      "[1, 4, 7] <class 'list'>\n"
     ]
    }
   ],
   "source": [
    "x = list(range(1, 10, 3))\n",
    "print(x, type(x))"
   ]
  },
  {
   "cell_type": "markdown",
   "metadata": {},
   "source": [
    "### 利用推导式创建列表"
   ]
  },
  {
   "cell_type": "code",
   "execution_count": 4,
   "metadata": {},
   "outputs": [
    {
     "name": "stdout",
     "output_type": "stream",
     "text": [
      "[0, 0, 0, 0, 0] <class 'list'>\n"
     ]
    }
   ],
   "source": [
    "x = [0] * 5\n",
    "print(x, type(x))"
   ]
  },
  {
   "cell_type": "code",
   "execution_count": 5,
   "metadata": {},
   "outputs": [
    {
     "name": "stdout",
     "output_type": "stream",
     "text": [
      "[0, 0, 0, 0, 0] <class 'list'>\n"
     ]
    }
   ],
   "source": [
    "x = [0 for i in range(5)]\n",
    "print(x, type(x))"
   ]
  },
  {
   "cell_type": "code",
   "execution_count": 7,
   "metadata": {},
   "outputs": [
    {
     "name": "stdout",
     "output_type": "stream",
     "text": [
      "[1, 7, 13, 19, 25, 31, 37, 43, 49] <class 'list'>\n"
     ]
    }
   ],
   "source": [
    "x = [i for i in range(1, 50, 3) if i % 2 != 0]\n",
    "print(x, type(x))"
   ]
  },
  {
   "cell_type": "markdown",
   "metadata": {},
   "source": [
    "### 创建一个4\\*3的二维数组"
   ]
  },
  {
   "cell_type": "code",
   "execution_count": 8,
   "metadata": {},
   "outputs": [
    {
     "name": "stdout",
     "output_type": "stream",
     "text": [
      "[[1, 2, 3], [4, 5, 6], [7, 8, 9], [0, 0, 0]] <class 'list'>\n"
     ]
    }
   ],
   "source": [
    "x = [[1, 2, 3], [4, 5, 6], [7, 8, 9], [0, 0, 0]]\n",
    "print(x, type(x))"
   ]
  },
  {
   "cell_type": "code",
   "execution_count": 9,
   "metadata": {},
   "outputs": [
    {
     "name": "stdout",
     "output_type": "stream",
     "text": [
      "[1, 2, 3] <class 'list'>\n",
      "[4, 5, 6] <class 'list'>\n",
      "[7, 8, 9] <class 'list'>\n",
      "[0, 0, 0] <class 'list'>\n"
     ]
    }
   ],
   "source": [
    "for i in x:\n",
    "    print(i, type(i))"
   ]
  },
  {
   "cell_type": "markdown",
   "metadata": {},
   "source": [
    "由此可见，二维数组本质上是一个列表，其所有元素均为大小相等的列表"
   ]
  },
  {
   "cell_type": "code",
   "execution_count": 10,
   "metadata": {},
   "outputs": [
    {
     "name": "stdout",
     "output_type": "stream",
     "text": [
      "[[0, 0, 0], [0, 0, 0], [0, 0, 0], [0, 0, 0]] <class 'list'>\n"
     ]
    }
   ],
   "source": [
    "x = [[0 for col in range(3)] for row in range(4)]\n",
    "print(x, type(x))"
   ]
  },
  {
   "cell_type": "markdown",
   "metadata": {},
   "source": [
    "- 用 col 和 row 分别遍历列和行"
   ]
  },
  {
   "cell_type": "markdown",
   "metadata": {},
   "source": [
    "由于list的元素可以是任何对象，因此列表中所保存的是对象的指针，即使保存一个简单的\\[1,2,3\\],也有三个指针和三个整数对象。  \n",
    "下面这个例子可以说明："
   ]
  },
  {
   "cell_type": "code",
   "execution_count": 13,
   "metadata": {},
   "outputs": [
    {
     "name": "stdout",
     "output_type": "stream",
     "text": [
      "[[0, 0, 0], [0, 0, 0], [0, 0, 0], [0, 0, 0]] <class 'list'>\n"
     ]
    }
   ],
   "source": [
    "x = [[0] * 3] * 4\n",
    "print(x, type(x))"
   ]
  },
  {
   "cell_type": "code",
   "execution_count": 14,
   "metadata": {},
   "outputs": [
    {
     "name": "stdout",
     "output_type": "stream",
     "text": [
      "[[1, 0, 0], [1, 0, 0], [1, 0, 0], [1, 0, 0]] <class 'list'>\n"
     ]
    }
   ],
   "source": [
    "x[0][0] = 1\n",
    "print(x, type(x))"
   ]
  },
  {
   "cell_type": "markdown",
   "metadata": {},
   "source": [
    "# 3.向列表中添加元素"
   ]
  },
  {
   "cell_type": "markdown",
   "metadata": {},
   "source": [
    "### list.append(obj) 在列表末尾添加新的对象，只接受一个参数，此参数可以为任意数据类型"
   ]
  },
  {
   "cell_type": "code",
   "execution_count": 16,
   "metadata": {},
   "outputs": [
    {
     "name": "stdout",
     "output_type": "stream",
     "text": [
      "['Monday', 'Tuesday', 'Wednesday', 'Thursday', 'Friday', 'Saturday'] 6\n"
     ]
    }
   ],
   "source": [
    "x = ['Monday', 'Tuesday', 'Wednesday', 'Thursday', 'Friday']\n",
    "x.append('Saturday')\n",
    "print(x, len(x))"
   ]
  },
  {
   "cell_type": "markdown",
   "metadata": {},
   "source": [
    "**需要注意的是，如果obj为一个列表，那么新增的对象也为一个列表**"
   ]
  },
  {
   "cell_type": "code",
   "execution_count": 17,
   "metadata": {},
   "outputs": [
    {
     "name": "stdout",
     "output_type": "stream",
     "text": [
      "['Monday', 'Tuesday', 'Wednesday', 'Thursday', 'Friday', ['Saturday', 'Sunday']] 6\n"
     ]
    }
   ],
   "source": [
    "x = ['Monday', 'Tuesday', 'Wednesday', 'Thursday', 'Friday']\n",
    "x.append(['Saturday', 'Sunday'])\n",
    "print(x, len(x))"
   ]
  },
  {
   "cell_type": "markdown",
   "metadata": {},
   "source": [
    "### list.extend(seq) 在列表末尾一次性追加另一个序列中的多个值，(用新列表扩展原来的列表)"
   ]
  },
  {
   "cell_type": "code",
   "execution_count": 18,
   "metadata": {},
   "outputs": [
    {
     "name": "stdout",
     "output_type": "stream",
     "text": [
      "['Monday', 'Tuesday', 'Wednesday', 'Thursday', 'Friday', 'Saturday', 'Sunday'] 7\n"
     ]
    }
   ],
   "source": [
    "x = ['Monday', 'Tuesday', 'Wednesday', 'Thursday', 'Friday']\n",
    "x.extend(['Saturday', 'Sunday'])\n",
    "print(x, len(x))"
   ]
  },
  {
   "cell_type": "markdown",
   "metadata": {},
   "source": [
    "### list.insert(index, obj) 在编号index位置前插入obj"
   ]
  },
  {
   "cell_type": "code",
   "execution_count": 20,
   "metadata": {},
   "outputs": [
    {
     "name": "stdout",
     "output_type": "stream",
     "text": [
      "['Monday', 'Tuesday', 'Wednesday', 'Thursday', 'Friday'] 5\n"
     ]
    }
   ],
   "source": [
    "x = ['Monday', 'Wednesday', 'Thursday', 'Friday']\n",
    "x.insert(1, 'Tuesday')\n",
    "print(x, len(x))"
   ]
  },
  {
   "cell_type": "markdown",
   "metadata": {},
   "source": [
    "# 4.删除列表中的元素"
   ]
  },
  {
   "cell_type": "markdown",
   "metadata": {},
   "source": [
    "### list.remove(obj) 移除列表中某个值的**第一个**匹配项"
   ]
  },
  {
   "cell_type": "code",
   "execution_count": 22,
   "metadata": {},
   "outputs": [
    {
     "name": "stdout",
     "output_type": "stream",
     "text": [
      "['Tuesday', 'Wednesday', 'Thursday', 'Friday', 'Monday'] 5\n"
     ]
    }
   ],
   "source": [
    "x = ['Monday', 'Tuesday', 'Wednesday', 'Thursday', 'Friday', 'Monday']\n",
    "x.remove('Monday')\n",
    "print(x, len(x))"
   ]
  },
  {
   "cell_type": "markdown",
   "metadata": {},
   "source": [
    "### list.pop(\\[index=-1\\])移除列表中的一个元素，默认最后一个元素，并且返回该元素的值"
   ]
  },
  {
   "cell_type": "code",
   "execution_count": 23,
   "metadata": {},
   "outputs": [
    {
     "name": "stdout",
     "output_type": "stream",
     "text": [
      "['Monday', 'Tuesday', 'Wednesday', 'Thursday'] 4\n",
      "Friday\n"
     ]
    }
   ],
   "source": [
    "x = ['Monday', 'Tuesday', 'Wednesday', 'Thursday', 'Friday']\n",
    "y = x.pop()\n",
    "print(x, len(x))\n",
    "print(y)"
   ]
  },
  {
   "cell_type": "code",
   "execution_count": 24,
   "metadata": {},
   "outputs": [
    {
     "data": {
      "text/plain": [
       "'Monday'"
      ]
     },
     "execution_count": 24,
     "metadata": {},
     "output_type": "execute_result"
    }
   ],
   "source": [
    "y = x.pop(0)\n",
    "y"
   ]
  },
  {
   "cell_type": "code",
   "execution_count": 25,
   "metadata": {},
   "outputs": [
    {
     "data": {
      "text/plain": [
       "'Wednesday'"
      ]
     },
     "execution_count": 25,
     "metadata": {},
     "output_type": "execute_result"
    }
   ],
   "source": [
    "y = x.pop(-2)\n",
    "y"
   ]
  },
  {
   "cell_type": "code",
   "execution_count": 26,
   "metadata": {},
   "outputs": [
    {
     "data": {
      "text/plain": [
       "['Tuesday', 'Thursday']"
      ]
     },
     "execution_count": 26,
     "metadata": {},
     "output_type": "execute_result"
    }
   ],
   "source": [
    "x"
   ]
  },
  {
   "cell_type": "markdown",
   "metadata": {},
   "source": [
    "### del var1\\[, var2 ......\\] 删除单个或多个对象"
   ]
  },
  {
   "cell_type": "code",
   "execution_count": 27,
   "metadata": {},
   "outputs": [
    {
     "name": "stdout",
     "output_type": "stream",
     "text": [
      "['Wednesday', 'Thursday', 'Friday'] 3\n"
     ]
    }
   ],
   "source": [
    "x = ['Monday', 'Tuesday', 'Wednesday', 'Thursday', 'Friday']\n",
    "del x[0:2]\n",
    "print(x, len(x))"
   ]
  },
  {
   "cell_type": "markdown",
   "metadata": {},
   "source": [
    "# 5.获取列表中的元素"
   ]
  },
  {
   "cell_type": "markdown",
   "metadata": {},
   "source": [
    "1. 通过元素的索引值，从列表中获取单个元素，注意，列表索引从0开始  \n",
    "2. 通过将索引指定为-1，可让Python返回最后一个列表元素，索引-2返回倒数第二个列表元素，以此类推"
   ]
  },
  {
   "cell_type": "markdown",
   "metadata": {},
   "source": [
    "### 索引"
   ]
  },
  {
   "cell_type": "code",
   "execution_count": 29,
   "metadata": {},
   "outputs": [
    {
     "name": "stdout",
     "output_type": "stream",
     "text": [
      "Monday <class 'str'>\n",
      "Friday <class 'str'>\n",
      "Thursday <class 'str'>\n"
     ]
    }
   ],
   "source": [
    "x = ['Monday', 'Tuesday', 'Wednesday', 'Thursday', 'Friday']\n",
    "print(x[0], type(x[0]))\n",
    "print(x[-1], type(x[-1]))\n",
    "print(x[-2], type(x[-2]))"
   ]
  },
  {
   "cell_type": "markdown",
   "metadata": {},
   "source": [
    "### 切片\n",
    "**通用写法 start: stop: step**"
   ]
  },
  {
   "cell_type": "markdown",
   "metadata": {},
   "source": [
    "##### 情况1 - \"start:\"\n",
    "step为1(默认)，从编号start往列表尾部切片"
   ]
  },
  {
   "cell_type": "code",
   "execution_count": 30,
   "metadata": {},
   "outputs": [
    {
     "name": "stdout",
     "output_type": "stream",
     "text": [
      "['Thursday', 'Friday']\n",
      "['Wednesday', 'Thursday', 'Friday']\n"
     ]
    }
   ],
   "source": [
    "x = ['Monday', 'Tuesday', 'Wednesday', 'Thursday', 'Friday']\n",
    "print(x[3:])\n",
    "print(x[-3:])"
   ]
  },
  {
   "cell_type": "markdown",
   "metadata": {},
   "source": [
    "##### 情况2 - \":stop\"\n",
    "step为1(默认)从列表头部往编号stop切片"
   ]
  },
  {
   "cell_type": "code",
   "execution_count": 32,
   "metadata": {},
   "outputs": [
    {
     "name": "stdout",
     "output_type": "stream",
     "text": [
      "['Monday', 'Tuesday', 'Wednesday']\n",
      "['Monday', 'Tuesday']\n"
     ]
    }
   ],
   "source": [
    "x = ['Monday', 'Tuesday', 'Wednesday', 'Thursday', 'Friday']\n",
    "print(x[:3])\n",
    "print(x[:-3])"
   ]
  },
  {
   "cell_type": "markdown",
   "metadata": {},
   "source": [
    "##### 情况3 - \"start:stop\"\n",
    "step为1(默认)从编号start往编号stop切片"
   ]
  },
  {
   "cell_type": "code",
   "execution_count": 33,
   "metadata": {},
   "outputs": [
    {
     "name": "stdout",
     "output_type": "stream",
     "text": [
      "['Tuesday', 'Wednesday']\n",
      "['Wednesday', 'Thursday']\n"
     ]
    }
   ],
   "source": [
    "x = ['Monday', 'Tuesday', 'Wednesday', 'Thursday', 'Friday']\n",
    "print(x[1:3])\n",
    "print(x[-3:-1])"
   ]
  },
  {
   "cell_type": "markdown",
   "metadata": {},
   "source": [
    "##### 情况4 - \"start:stop:step\"\n",
    "以具体的step从编号start往编号stop切片。注意最后把step设置为-1，相当于将列表反向排列"
   ]
  },
  {
   "cell_type": "code",
   "execution_count": 34,
   "metadata": {},
   "outputs": [
    {
     "name": "stdout",
     "output_type": "stream",
     "text": [
      "['Tuesday', 'Thursday']\n",
      "['Monday', 'Wednesday']\n",
      "['Tuesday', 'Thursday']\n",
      "['Friday', 'Thursday', 'Wednesday', 'Tuesday', 'Monday']\n"
     ]
    }
   ],
   "source": [
    "x = ['Monday', 'Tuesday', 'Wednesday', 'Thursday', 'Friday']\n",
    "print(x[1:4:2])\n",
    "print(x[:4:2])\n",
    "print(x[1::2])\n",
    "print(x[::-1])"
   ]
  },
  {
   "cell_type": "markdown",
   "metadata": {},
   "source": [
    "#####  情况5 - \":\"\n",
    "复制列表中的所有元素(浅拷贝)"
   ]
  },
  {
   "cell_type": "code",
   "execution_count": 35,
   "metadata": {},
   "outputs": [
    {
     "name": "stdout",
     "output_type": "stream",
     "text": [
      "['Monday', 'Tuesday', 'Wednesday', 'Thursday', 'Friday']\n"
     ]
    }
   ],
   "source": [
    "week = ['Monday', 'Tuesday', 'Wednesday', 'Thursday', 'Friday']\n",
    "print(week[:])"
   ]
  },
  {
   "cell_type": "markdown",
   "metadata": {},
   "source": [
    "称为浅拷贝的原因，见下例："
   ]
  },
  {
   "cell_type": "code",
   "execution_count": 37,
   "metadata": {},
   "outputs": [
    {
     "name": "stdout",
     "output_type": "stream",
     "text": [
      "[123, 456, 789, 213]\n",
      "[123, 456, 789, 213]\n"
     ]
    }
   ],
   "source": [
    "list1 = [123, 456, 789, 213]\n",
    "list2 = list1\n",
    "list3 = list1[:]\n",
    "print(list2)\n",
    "print(list3)"
   ]
  },
  {
   "cell_type": "code",
   "execution_count": 38,
   "metadata": {},
   "outputs": [
    {
     "name": "stdout",
     "output_type": "stream",
     "text": [
      "[123, 213, 456, 789]\n",
      "[123, 456, 789, 213]\n"
     ]
    }
   ],
   "source": [
    "list1.sort() # 对list1重新排序\n",
    "print(list2)\n",
    "print(list3)"
   ]
  },
  {
   "cell_type": "markdown",
   "metadata": {},
   "source": [
    "不难发现，当list1顺序改变时，list2顺序随之改变，list3的顺序却不随之改变"
   ]
  },
  {
   "cell_type": "code",
   "execution_count": 39,
   "metadata": {},
   "outputs": [
    {
     "name": "stdout",
     "output_type": "stream",
     "text": [
      "[[123, 456], [789, 213]]\n",
      "[[123, 456], [789, 213]]\n"
     ]
    }
   ],
   "source": [
    "list1 = [[123, 456], [789, 213]]\n",
    "list2 = list1\n",
    "list3 = list1[:]\n",
    "print(list2)\n",
    "print(list3)"
   ]
  },
  {
   "cell_type": "code",
   "execution_count": 40,
   "metadata": {},
   "outputs": [
    {
     "name": "stdout",
     "output_type": "stream",
     "text": [
      "[[111, 456], [789, 213]]\n",
      "[[111, 456], [789, 213]]\n"
     ]
    }
   ],
   "source": [
    "list1[0][0] = 111\n",
    "print(list2)\n",
    "print(list3)\n"
   ]
  },
  {
   "cell_type": "markdown",
   "metadata": {},
   "source": [
    "当list1的某个元素发生变化时，list2和list3均发生了改变"
   ]
  },
  {
   "cell_type": "markdown",
   "metadata": {},
   "source": [
    "# 6.列表的常用操作符\n",
    "1. 等号操作符：==\n",
    "2. 连接操作符：+\n",
    "3. 重复操作符：*\n",
    "4. 成员关系操作符 in, not in"
   ]
  },
  {
   "cell_type": "markdown",
   "metadata": {},
   "source": [
    "### 等号操作符\n",
    "- 只有成员，成员位置都相同时才返回True"
   ]
  },
  {
   "cell_type": "code",
   "execution_count": 42,
   "metadata": {},
   "outputs": [
    {
     "name": "stdout",
     "output_type": "stream",
     "text": [
      "True\n",
      "False\n"
     ]
    }
   ],
   "source": [
    "list1 = [123, 456]\n",
    "list2 = [456, 123]\n",
    "list3 = [123, 456]\n",
    "\n",
    "print(list1 == list3)\n",
    "print(list1 == list2)"
   ]
  },
  {
   "cell_type": "markdown",
   "metadata": {},
   "source": [
    "### 连接操作符"
   ]
  },
  {
   "cell_type": "code",
   "execution_count": 43,
   "metadata": {},
   "outputs": [
    {
     "data": {
      "text/plain": [
       "[123, 456, 456, 123]"
      ]
     },
     "execution_count": 43,
     "metadata": {},
     "output_type": "execute_result"
    }
   ],
   "source": [
    "list4 = list1 + list2\n",
    "list4"
   ]
  },
  {
   "cell_type": "code",
   "execution_count": 45,
   "metadata": {},
   "outputs": [
    {
     "data": {
      "text/plain": [
       "[123, 456, 123, 456, 123, 456]"
      ]
     },
     "execution_count": 45,
     "metadata": {},
     "output_type": "execute_result"
    }
   ],
   "source": [
    "list5 = list3 * 3\n",
    "list5"
   ]
  },
  {
   "cell_type": "code",
   "execution_count": 46,
   "metadata": {},
   "outputs": [
    {
     "data": {
      "text/plain": [
       "[123, 456, 123, 456, 123, 456]"
      ]
     },
     "execution_count": 46,
     "metadata": {},
     "output_type": "execute_result"
    }
   ],
   "source": [
    "list3 *= 3\n",
    "list3"
   ]
  },
  {
   "cell_type": "code",
   "execution_count": 48,
   "metadata": {},
   "outputs": [
    {
     "data": {
      "text/plain": [
       "True"
      ]
     },
     "execution_count": 48,
     "metadata": {},
     "output_type": "execute_result"
    }
   ],
   "source": [
    "123 in list3"
   ]
  },
  {
   "cell_type": "code",
   "execution_count": 49,
   "metadata": {},
   "outputs": [
    {
     "data": {
      "text/plain": [
       "False"
      ]
     },
     "execution_count": 49,
     "metadata": {},
     "output_type": "execute_result"
    }
   ],
   "source": [
    "456 not in list3"
   ]
  },
  {
   "cell_type": "markdown",
   "metadata": {},
   "source": [
    "# 7.列表的其他方法"
   ]
  },
  {
   "cell_type": "markdown",
   "metadata": {},
   "source": [
    "### list.count(obj) 统计某个元素在列表中出现的次数"
   ]
  },
  {
   "cell_type": "code",
   "execution_count": 50,
   "metadata": {},
   "outputs": [
    {
     "data": {
      "text/plain": [
       "3"
      ]
     },
     "execution_count": 50,
     "metadata": {},
     "output_type": "execute_result"
    }
   ],
   "source": [
    "list3.count(123)"
   ]
  },
  {
   "cell_type": "markdown",
   "metadata": {},
   "source": [
    "### list.index(x,\\[, start[, end]\\]) 从列表中找出某个值第一个匹配项的索引位置"
   ]
  },
  {
   "cell_type": "code",
   "execution_count": 51,
   "metadata": {},
   "outputs": [
    {
     "name": "stdout",
     "output_type": "stream",
     "text": [
      "0\n",
      "2\n",
      "4\n"
     ]
    }
   ],
   "source": [
    "list1 = [123, 456] * 3\n",
    "print(list1.index(123))\n",
    "print(list1.index(123, 1))\n",
    "print(list1.index(123, 3, 7))"
   ]
  },
  {
   "cell_type": "markdown",
   "metadata": {},
   "source": [
    "### list.reverse() 反向列表中元素"
   ]
  },
  {
   "cell_type": "code",
   "execution_count": 53,
   "metadata": {},
   "outputs": [
    {
     "data": {
      "text/plain": [
       "[789, 456, 123]"
      ]
     },
     "execution_count": 53,
     "metadata": {},
     "output_type": "execute_result"
    }
   ],
   "source": [
    "x = [123, 456, 789]\n",
    "x.reverse()\n",
    "x"
   ]
  },
  {
   "cell_type": "markdown",
   "metadata": {},
   "source": [
    "### list.sort(key=None, reverse=False) 对原列表进行排序\n",
    "1. key:主要是用来进行比较的元素，只有一个参数，具体的函数的参数就是取自于可迭代对象中，制定可迭代对象中的一个元素来进行排序\n",
    "2. reverse:排序规则，reverse = True降序，reverse = False升序（默认）\n",
    "3. 该方法无返回值，但会对列表的对象进行排序"
   ]
  },
  {
   "cell_type": "code",
   "execution_count": 54,
   "metadata": {},
   "outputs": [
    {
     "data": {
      "text/plain": [
       "[123, 213, 456, 789]"
      ]
     },
     "execution_count": 54,
     "metadata": {},
     "output_type": "execute_result"
    }
   ],
   "source": [
    "x = [123, 456, 789, 213]\n",
    "x.sort()\n",
    "x"
   ]
  },
  {
   "cell_type": "code",
   "execution_count": 55,
   "metadata": {},
   "outputs": [
    {
     "data": {
      "text/plain": [
       "[789, 456, 213, 123]"
      ]
     },
     "execution_count": 55,
     "metadata": {},
     "output_type": "execute_result"
    }
   ],
   "source": [
    "x.sort(reverse=True)\n",
    "x"
   ]
  }
 ],
 "metadata": {
  "kernelspec": {
   "display_name": "Python 3",
   "language": "python",
   "name": "python3"
  },
  "language_info": {
   "codemirror_mode": {
    "name": "ipython",
    "version": 3
   },
   "file_extension": ".py",
   "mimetype": "text/x-python",
   "name": "python",
   "nbconvert_exporter": "python",
   "pygments_lexer": "ipython3",
   "version": "3.8.5"
  }
 },
 "nbformat": 4,
 "nbformat_minor": 4
}
