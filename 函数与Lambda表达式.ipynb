{
 "cells": [
  {
   "cell_type": "markdown",
   "id": "340800e4",
   "metadata": {},
   "source": [
    "# 1.函数\n"
   ]
  },
  {
   "cell_type": "markdown",
   "id": "47bc2ae2",
   "metadata": {},
   "source": [
    "## 1.1函数的定义\n",
    "1. 函数以 def 关键词开头，后接函数名和圆括号()。\n",
    "2. 函数执行的代码以冒号起始，并且缩进。\n",
    "3. return \\[表达式\\] 结束函数，选择性地返回一个值给调用方。不带表达式的return相当于返回 None 。"
   ]
  },
  {
   "cell_type": "markdown",
   "id": "6c9595e6",
   "metadata": {},
   "source": [
    "```python\n",
    "def functionname(parameters):\n",
    "    \"函数_文档字符串\"\n",
    "    function_suite\n",
    "    return [expression]\n",
    "```"
   ]
  },
  {
   "cell_type": "markdown",
   "id": "15a92d8e",
   "metadata": {},
   "source": [
    "## 1.2函数的调用"
   ]
  },
  {
   "cell_type": "code",
   "execution_count": 1,
   "id": "0eb68d22",
   "metadata": {},
   "outputs": [
    {
     "name": "stdout",
     "output_type": "stream",
     "text": [
      "3\n",
      "[1, 2, 3, 4, 5, 6]\n"
     ]
    }
   ],
   "source": [
    "def add(a, b):\n",
    "    print(a + b)\n",
    "add(1, 2)  \n",
    "add([1, 2, 3], [4, 5, 6])  "
   ]
  },
  {
   "cell_type": "markdown",
   "id": "faa95a01",
   "metadata": {},
   "source": [
    "## 1.3函数文档"
   ]
  },
  {
   "cell_type": "code",
   "execution_count": 2,
   "id": "65a2758d",
   "metadata": {},
   "outputs": [
    {
     "name": "stdout",
     "output_type": "stream",
     "text": [
      "传递进来的老马的程序人生叫做实参，因为Ta是具体的参数值！\n",
      "函数定义过程中name是形参\n",
      "Help on function MyFirstFunction in module __main__:\n",
      "\n",
      "MyFirstFunction(name)\n",
      "    函数定义过程中name是形参\n",
      "\n"
     ]
    }
   ],
   "source": [
    "def MyFirstFunction(name):\n",
    "    \"函数定义过程中name是形参\"\n",
    " # 因为Ta只是一个形式，表示占据一个参数位置\n",
    "    print('传递进来的{0}叫做实参，因为Ta是具体的参数值！'.format(name))\n",
    "MyFirstFunction('老马的程序人生') \n",
    "# 传递进来的老马的程序人生叫做实参，因为Ta是具体的参数值！\n",
    "print(MyFirstFunction.__doc__) \n",
    "# 函数定义过程中name是形参\n",
    "help(MyFirstFunction)\n",
    "# Help on function MyFirstFunction in module __main__:\n",
    "# MyFirstFunction(name)\n",
    "# 函数定义过程中name是形参\n"
   ]
  },
  {
   "cell_type": "markdown",
   "id": "8b68eca3",
   "metadata": {},
   "source": [
    "## 1.4函数参数\n",
    "Python 的函数具有非常灵活多样的参数形态，既可以实现简单的调用，又可以传入非常复杂的参数。从简到繁的参数形态\n",
    "如下：\n",
    "1. 位置参数 (positional argument)\n",
    "2. 默认参数 (default argument)\n",
    "3. 可变参数 (variable argument)\n",
    "4. 关键字参数 (keyword argument)\n",
    "5. 命名关键字参数 (name keyword argument)\n",
    "6. 参数组合"
   ]
  },
  {
   "cell_type": "markdown",
   "id": "690788eb",
   "metadata": {},
   "source": [
    "### 位置参数\n",
    "```python\n",
    "def functionname(arg1):\n",
    "    \"函数_文档字符串\"\n",
    "    function_suite\n",
    "    return [expression]\n",
    "```\n",
    "\n",
    "arg1为位置参数，这些参数在调用函数的时候位置要固定"
   ]
  },
  {
   "cell_type": "markdown",
   "id": "4568c254",
   "metadata": {},
   "source": [
    "### 默认参数\n",
    "```python\n",
    "def functionname(arg1, arg2=v):\n",
    "    \"函数_文档字符串\"\n",
    "    function_suite\n",
    "    return [expression]\n",
    "```\n",
    "1. arg2 = v : 默认参数 = 默认值，调用函数时，默认参数的值如果没有传入，则被认为是默认值。\n",
    "2. 默认参数一定要放在位置参数后面，不然程序会报错。"
   ]
  },
  {
   "cell_type": "markdown",
   "id": "40153b0b",
   "metadata": {},
   "source": [
    "### 可变参数\n",
    "```python\n",
    "def functionname(arg1, arg2=v, *args):\n",
    "    \"函数_文档字符串\"\n",
    "    function_suite\n",
    "    return [expression]\n",
    "```\n",
    "1. \\*args 为可变参数，可以是从零个到任意个，自动组装成元组。\n",
    "2. 加了星号（\\*）的变量名会存放所有未命名的变量参数。"
   ]
  },
  {
   "cell_type": "markdown",
   "id": "4cb013a8",
   "metadata": {},
   "source": [
    "### 关键字参数\n",
    "```python\n",
    "def functionname(arg1, arg2=v, *args, **kw):\n",
    "    \"函数_文档字符串\"\n",
    "    function_suite\n",
    "    return [expression]\n",
    "```\n",
    "**kw 为关键字参数，可以是从零个到任意个，自动组装成字典。"
   ]
  },
  {
   "cell_type": "markdown",
   "id": "1abf8817",
   "metadata": {},
   "source": [
    "##### 可变参数 和 关键字参数 的同异：\n",
    "1. 可变参数允许传入零个到任意个参数，它们在函数调用时自动组装为一个元组 (tuple)。\n",
    "2. 关键字参数允许传入零个到任意个参数，它们在函数内部自动组装为一个字典 (dict)。"
   ]
  },
  {
   "cell_type": "markdown",
   "id": "37539391",
   "metadata": {},
   "source": [
    "### 命名关键字参数\n",
    "```python\n",
    "def functionname(arg1, arg2=v, *args, *, nkw, **kw):\n",
    "    \"函数_文档字符串\"\n",
    "    function_suite\n",
    "    return [expression]\n",
    "```\n",
    "1. \\*, nkw - 命名关键字参数，用户想要输入的关键字参数，定义方式是在nkw 前面加个分隔符 \\*。\n",
    "2. 如果要限制关键字参数的名字，就可以用「命名关键字参数」\n",
    "3. 使用命名关键字参数时，要特别注意不能缺少参数名。"
   ]
  },
  {
   "cell_type": "code",
   "execution_count": 3,
   "id": "c884ac64",
   "metadata": {},
   "outputs": [
    {
     "name": "stdout",
     "output_type": "stream",
     "text": [
      "70\n",
      "10\n",
      "{'a': 1, 'b': 2}\n"
     ]
    },
    {
     "ename": "TypeError",
     "evalue": "printinfo() takes 1 positional argument but 2 were given",
     "output_type": "error",
     "traceback": [
      "\u001b[1;31m---------------------------------------------------------------------------\u001b[0m",
      "\u001b[1;31mTypeError\u001b[0m                                 Traceback (most recent call last)",
      "\u001b[1;32m<ipython-input-3-8258d44a2bbb>\u001b[0m in \u001b[0;36m<module>\u001b[1;34m\u001b[0m\n\u001b[0;32m      5\u001b[0m \u001b[0mprintinfo\u001b[0m\u001b[1;33m(\u001b[0m\u001b[1;36m70\u001b[0m\u001b[1;33m,\u001b[0m \u001b[0mnkw\u001b[0m\u001b[1;33m=\u001b[0m\u001b[1;36m10\u001b[0m\u001b[1;33m,\u001b[0m \u001b[0ma\u001b[0m\u001b[1;33m=\u001b[0m\u001b[1;36m1\u001b[0m\u001b[1;33m,\u001b[0m \u001b[0mb\u001b[0m\u001b[1;33m=\u001b[0m\u001b[1;36m2\u001b[0m\u001b[1;33m)\u001b[0m\u001b[1;33m\u001b[0m\u001b[1;33m\u001b[0m\u001b[0m\n\u001b[0;32m      6\u001b[0m \u001b[1;33m\u001b[0m\u001b[0m\n\u001b[1;32m----> 7\u001b[1;33m \u001b[0mprintinfo\u001b[0m\u001b[1;33m(\u001b[0m\u001b[1;36m70\u001b[0m\u001b[1;33m,\u001b[0m \u001b[1;36m10\u001b[0m\u001b[1;33m,\u001b[0m \u001b[0ma\u001b[0m\u001b[1;33m=\u001b[0m\u001b[1;36m1\u001b[0m\u001b[1;33m,\u001b[0m \u001b[0mb\u001b[0m\u001b[1;33m=\u001b[0m\u001b[1;36m2\u001b[0m\u001b[1;33m)\u001b[0m\u001b[1;33m\u001b[0m\u001b[1;33m\u001b[0m\u001b[0m\n\u001b[0m",
      "\u001b[1;31mTypeError\u001b[0m: printinfo() takes 1 positional argument but 2 were given"
     ]
    }
   ],
   "source": [
    "def printinfo(arg1, *, nkw, **kwargs):\n",
    "    print(arg1)\n",
    "    print(nkw)\n",
    "    print(kwargs)\n",
    "printinfo(70, nkw=10, a=1, b=2)\n",
    "\n",
    "printinfo(70, 10, a=1, b=2)"
   ]
  },
  {
   "cell_type": "markdown",
   "id": "13800ffb",
   "metadata": {},
   "source": [
    "没有写参数名 nwk ，因此 10 被当成「位置参数」，而原函数只有 1 个位置函数，现在调用了 2 个，因此程序会报错。"
   ]
  },
  {
   "cell_type": "markdown",
   "id": "84389b07",
   "metadata": {},
   "source": [
    "### 参数组合\n",
    "在 Python 中定义函数，可以用位置参数、默认参数、可变参数、命名关键字参数和关键字参数，这 5 种参数中的 4 个都可以一起使用，但是注意，参数定义的顺序必须是：\n",
    "1. 位置参数、默认参数、可变参数和关键字参数。  \n",
    "2. 位置参数、默认参数、命名关键字参数和关键字参数。  \n",
    "要注意定义可变参数和关键字参数的语法：  \n",
    "1. *args 是可变参数， args 接收的是一个 tuple  \n",
    "2. **kw 是关键字参数， kw 接收的是一个 dict  \n",
    "命名关键字参数是为了限制调用者可以传入的参数名，同时可以提供默认值。定义命名关键字参数不要忘了写分隔符 * ，否则定义的是位置参数。\n",
    "警告：虽然可以组合多达 5 种参数，但不要同时使用太多的组合，否则函数很难懂。"
   ]
  },
  {
   "cell_type": "markdown",
   "id": "1c8ac923",
   "metadata": {},
   "source": [
    "## 1.5函数的返回值"
   ]
  },
  {
   "cell_type": "markdown",
   "id": "4903c12c",
   "metadata": {},
   "source": [
    "和C语言相同，不再赘述"
   ]
  },
  {
   "cell_type": "markdown",
   "id": "6859692b",
   "metadata": {},
   "source": [
    "## 1.6变量作用域\n",
    "1. Python 中，程序的变量并不是在哪个位置都可以访问的，访问权限决定于这个变量是在哪里赋值的。\n",
    "2. 定义在函数内部的变量拥有局部作用域，该变量称为局部变量。\n",
    "3. 定义在函数外部的变量拥有全局作用域，该变量称为全局变量。\n",
    "4. 局部变量只能在其被声明的函数内部访问，而全局变量可以在整个程序范围内访问。"
   ]
  },
  {
   "cell_type": "markdown",
   "id": "9d90138e",
   "metadata": {},
   "source": [
    "### 当内部作用域想修改外部作用域的变量时，要用到 global 和 nonlocal 关键字"
   ]
  },
  {
   "cell_type": "code",
   "execution_count": 5,
   "id": "a95ce7c9",
   "metadata": {},
   "outputs": [
    {
     "name": "stdout",
     "output_type": "stream",
     "text": [
      "1\n",
      "123\n",
      "123\n"
     ]
    }
   ],
   "source": [
    "num = 1\n",
    "def fun1():\n",
    "    global num \n",
    "    print(num) \n",
    "    num = 123\n",
    "    print(num) \n",
    "fun1()\n",
    "print(num)"
   ]
  },
  {
   "cell_type": "markdown",
   "id": "1acb90cd",
   "metadata": {},
   "source": [
    "### 内嵌函数"
   ]
  },
  {
   "cell_type": "code",
   "execution_count": 6,
   "id": "86c11735",
   "metadata": {},
   "outputs": [
    {
     "name": "stdout",
     "output_type": "stream",
     "text": [
      "outer函数在这被调用\n",
      "inner函数在这被调用\n"
     ]
    }
   ],
   "source": [
    "def outer():\n",
    "    print('outer函数在这被调用')\n",
    "    def inner():\n",
    "        print('inner函数在这被调用')\n",
    "    inner() \n",
    "outer()"
   ]
  },
  {
   "cell_type": "markdown",
   "id": "1eb8dbd3",
   "metadata": {},
   "source": [
    "### 闭包\n",
    "1. 是函数式编程的一个重要的语法结构，是一种特殊的内嵌函数。\n",
    "2. 如果在一个内部函数里对外层非全局作用域的变量进行引用，那么内部函数就被认为是闭包。\n",
    "3. 通过闭包可以访问外层非全局作用域的变量，这个作用域称为闭包作用域。"
   ]
  },
  {
   "cell_type": "code",
   "execution_count": 7,
   "id": "08613fd6",
   "metadata": {},
   "outputs": [
    {
     "name": "stdout",
     "output_type": "stream",
     "text": [
      "<class 'function'>\n",
      "40\n"
     ]
    }
   ],
   "source": [
    "def funX(x):\n",
    "    def funY(y):\n",
    "        return x * y\n",
    "    return funY\n",
    "i = funX(8)\n",
    "print(type(i)) \n",
    "print(i(5))"
   ]
  },
  {
   "cell_type": "markdown",
   "id": "2366d213",
   "metadata": {},
   "source": [
    "#### 闭包的返回值通常是函数"
   ]
  },
  {
   "cell_type": "code",
   "execution_count": 9,
   "id": "1beb81d7",
   "metadata": {},
   "outputs": [
    {
     "name": "stdout",
     "output_type": "stream",
     "text": [
      "3\n",
      "2\n",
      "0\n"
     ]
    }
   ],
   "source": [
    "def make_counter(init):\n",
    "    counter = [init]\n",
    "    def inc(): counter[0] += 1\n",
    "    def dec(): counter[0] -= 1\n",
    "    def get(): return counter[0]\n",
    "    def reset(): counter[0] = init\n",
    "    return inc, dec, get, reset\n",
    "inc, dec, get, reset = make_counter(0)\n",
    "inc()\n",
    "inc()\n",
    "inc()\n",
    "print(get()) \n",
    "dec()\n",
    "print(get())\n",
    "reset()\n",
    "print(get()) "
   ]
  },
  {
   "cell_type": "markdown",
   "id": "c3c4d230",
   "metadata": {},
   "source": [
    "####  如果要修改闭包作用域中的变量则需要 nonlocal 关键字"
   ]
  },
  {
   "cell_type": "code",
   "execution_count": 11,
   "id": "ebe67191",
   "metadata": {},
   "outputs": [
    {
     "name": "stdout",
     "output_type": "stream",
     "text": [
      "100\n",
      "100\n"
     ]
    }
   ],
   "source": [
    "def outer():\n",
    "    num = 10\n",
    "    def inner():\n",
    "        nonlocal num \n",
    "        num = 100\n",
    "        print(num)\n",
    "    inner()\n",
    "    print(num)\n",
    "outer()"
   ]
  },
  {
   "cell_type": "markdown",
   "id": "5983768c",
   "metadata": {},
   "source": [
    "### 递归\n",
    " 如果一个函数在内部调用自身本身，这个函数就是递归函数。"
   ]
  },
  {
   "cell_type": "code",
   "execution_count": 13,
   "id": "ca4ec760",
   "metadata": {},
   "outputs": [
    {
     "name": "stdout",
     "output_type": "stream",
     "text": [
      "[0, 1, 1, 2, 3, 5, 8, 13, 21, 34, 55]\n"
     ]
    }
   ],
   "source": [
    "# 斐波那契数列 其中f(0)为0,f(1)为1\n",
    "def recur_fibo(n):\n",
    "    if n <= 1:\n",
    "        return n\n",
    "    return recur_fibo(n - 1) + recur_fibo(n - 2)\n",
    "lst = list()\n",
    "for k in range(11):\n",
    "    lst.append(recur_fibo(k))\n",
    "print(lst) "
   ]
  },
  {
   "cell_type": "markdown",
   "id": "cb2ae7aa",
   "metadata": {},
   "source": [
    "## 2.Lambda表达式"
   ]
  },
  {
   "cell_type": "markdown",
   "id": "756f906c",
   "metadata": {},
   "source": [
    "### 2.1匿名函数的定义\n",
    "在 Python 里有两类函数：\n",
    "    第一类：用 def 关键词定义的正规函数  \n",
    "    第二类：用 lambda 关键词定义的匿名函数  \n",
    "python 使用 lambda 关键词来创建匿名函数，而非 def 关键词，它没有函数名，其语法结构如下：\n",
    "```python\n",
    "lambda argument_list: expression\n",
    "```\n",
    "1. lambda - 定义匿名函数的关键词。\n",
    "2. argument_list - 函数参数，它们可以是位置参数、默认参数、关键字参数，和正规函数里的参数类型一样。\n",
    "3. : - 冒号，在函数参数和表达式中间要加个冒号。\n",
    "4. expression - 只是一个表达式，输入函数参数，输出一些值。\n",
    "注意：\n",
    "- expression 中没有 return 语句，因为 lambda 不需要它来返回，表达式本身结果就是返回值。\n",
    "- 匿名函数拥有自己的命名空间，且不能访问自己参数列表之外或全局命名空间里的参数。"
   ]
  },
  {
   "cell_type": "code",
   "execution_count": 14,
   "id": "df42d10b",
   "metadata": {},
   "outputs": [
    {
     "name": "stdout",
     "output_type": "stream",
     "text": [
      "<function sqr at 0x0000026DA8022A60>\n",
      "[0, 1, 4, 9, 16, 25, 36, 49, 64, 81]\n",
      "<function <lambda> at 0x0000026DA803E280>\n",
      "[0, 1, 4, 9, 16, 25, 36, 49, 64, 81]\n",
      "30\n",
      "15\n"
     ]
    }
   ],
   "source": [
    "def sqr(x):\n",
    "    return x ** 2\n",
    "print(sqr)\n",
    " \n",
    "y = [sqr(x) for x in range(10)]\n",
    "print(y)\n",
    " \n",
    "lbd_sqr = lambda x: x ** 2\n",
    "print(lbd_sqr)\n",
    "\n",
    "y = [lbd_sqr(x) for x in range(10)]\n",
    "print(y)\n",
    " \n",
    "sumary = lambda arg1, arg2: arg1 + arg2\n",
    "print(sumary(10, 20))  \n",
    "func = lambda *args: sum(args)\n",
    "print(func(1, 2, 3, 4, 5)) "
   ]
  },
  {
   "cell_type": "markdown",
   "id": "7b9d2c50",
   "metadata": {},
   "source": [
    "### 2.2匿名函数的应用\n",
    "函数式编程 是指代码中每一块都是不可变的，都由纯函数的形式组成。这里的纯函数，是指函数本身相互独立、互不影响，对于相同的输入，总会有相同的输出，没有任何副作用。"
   ]
  },
  {
   "cell_type": "code",
   "execution_count": 16,
   "id": "0369c74e",
   "metadata": {},
   "outputs": [
    {
     "name": "stdout",
     "output_type": "stream",
     "text": [
      "[11, 12, 13]\n"
     ]
    }
   ],
   "source": [
    "### 非函数式编程\n",
    "def f(x):\n",
    "    for i in range(0, len(x)):\n",
    "        x[i] += 10\n",
    "    return x\n",
    "x = [1, 2, 3]\n",
    "f(x)\n",
    "print(x)"
   ]
  },
  {
   "cell_type": "code",
   "execution_count": 17,
   "id": "a187e4c8",
   "metadata": {},
   "outputs": [
    {
     "name": "stdout",
     "output_type": "stream",
     "text": [
      "[1, 2, 3]\n"
     ]
    }
   ],
   "source": [
    "### 函数式编程\n",
    "def f(x):\n",
    "    y = []\n",
    "    for item in x:\n",
    "        y.append(item + 10)\n",
    "    return y\n",
    "x = [1, 2, 3]\n",
    "f(x)\n",
    "print(x)"
   ]
  },
  {
   "cell_type": "markdown",
   "id": "797356d9",
   "metadata": {},
   "source": [
    "#### 匿名函数 常常应用于函数式编程的高阶函数 (high-order function)中，主要有两种形式：\n",
    "1. 参数是函数 (filter, map)\n",
    "2. 返回值是函数 (closure)  \n",
    "如，在 filter 和 map 函数中的应用："
   ]
  },
  {
   "cell_type": "markdown",
   "id": "d793e9e3",
   "metadata": {},
   "source": [
    "filter(function, iterable) 过滤序列，过滤掉不符合条件的元素，返回一个迭代器对象，如果要转换为列表，可以使用 list() 来转换。"
   ]
  },
  {
   "cell_type": "code",
   "execution_count": 18,
   "id": "d7955683",
   "metadata": {},
   "outputs": [
    {
     "name": "stdout",
     "output_type": "stream",
     "text": [
      "[1, 3, 5, 7, 9]\n"
     ]
    }
   ],
   "source": [
    "odd = lambda x: x % 2 == 1\n",
    "templist = filter(odd, [1, 2, 3, 4, 5, 6, 7, 8, 9])\n",
    "print(list(templist)) "
   ]
  },
  {
   "cell_type": "markdown",
   "id": "250fe85d",
   "metadata": {},
   "source": [
    "map(function, \\*iterables) 根据提供的函数对指定序列做映射。"
   ]
  },
  {
   "cell_type": "code",
   "execution_count": 19,
   "id": "bf0c8d2f",
   "metadata": {},
   "outputs": [
    {
     "name": "stdout",
     "output_type": "stream",
     "text": [
      "[1, 4, 9, 16, 25]\n",
      "[3, 7, 11, 15, 19]\n"
     ]
    }
   ],
   "source": [
    "m1 = map(lambda x: x ** 2, [1, 2, 3, 4, 5])\n",
    "print(list(m1)) \n",
    "\n",
    "\n",
    "m2 = map(lambda x, y: x + y, [1, 3, 5, 7, 9], [2, 4, 6, 8, 10])\n",
    "print(list(m2)) "
   ]
  }
 ],
 "metadata": {
  "kernelspec": {
   "display_name": "Python 3",
   "language": "python",
   "name": "python3"
  },
  "language_info": {
   "codemirror_mode": {
    "name": "ipython",
    "version": 3
   },
   "file_extension": ".py",
   "mimetype": "text/x-python",
   "name": "python",
   "nbconvert_exporter": "python",
   "pygments_lexer": "ipython3",
   "version": "3.8.8"
  }
 },
 "nbformat": 4,
 "nbformat_minor": 5
}
