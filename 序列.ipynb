{
 "cells": [
  {
   "cell_type": "markdown",
   "id": "8f88e18e",
   "metadata": {},
   "source": [
    "# 1.针对序列的内置函数"
   ]
  },
  {
   "cell_type": "markdown",
   "id": "f5f580a4",
   "metadata": {},
   "source": [
    "### list(sub) 把一个可迭代对象转换为列表"
   ]
  },
  {
   "cell_type": "code",
   "execution_count": 1,
   "id": "f33d9134",
   "metadata": {},
   "outputs": [
    {
     "name": "stdout",
     "output_type": "stream",
     "text": [
      "[]\n",
      "['I', ' ', 'L', 'o', 'v', 'e', ' ', 'L', 's', 'g', 'o', 'G', 'r', 'o', 'u', 'p']\n",
      "[1, 1, 2, 3, 5, 8]\n"
     ]
    }
   ],
   "source": [
    "a = list()\n",
    "print(a)  \n",
    "b = 'I Love LsgoGroup'\n",
    "b = list(b)\n",
    "print(b) \n",
    " \n",
    "c = (1, 1, 2, 3, 5, 8)\n",
    "c = list(c)\n",
    "print(c)  "
   ]
  },
  {
   "cell_type": "markdown",
   "id": "fa8ff663",
   "metadata": {},
   "source": [
    "### tuple(sub) 把一个可迭代对象转换为元组"
   ]
  },
  {
   "cell_type": "code",
   "execution_count": 2,
   "id": "82423e02",
   "metadata": {},
   "outputs": [
    {
     "name": "stdout",
     "output_type": "stream",
     "text": [
      "()\n",
      "('I', ' ', 'L', 'o', 'v', 'e', ' ', 'L', 's', 'g', 'o', 'G', 'r', 'o', 'u', 'p')\n",
      "(1, 1, 2, 3, 5, 8)\n"
     ]
    }
   ],
   "source": [
    "a = tuple()\n",
    "print(a) # ()\n",
    "b = 'I Love LsgoGroup'\n",
    "b = tuple(b)\n",
    "print(b) \n",
    " \n",
    "c = [1, 1, 2, 3, 5, 8]\n",
    "c = tuple(c)\n",
    "print(c)  "
   ]
  },
  {
   "cell_type": "markdown",
   "id": "46b46bbd",
   "metadata": {},
   "source": [
    "### str(obj) 把obj对象转换为字符串"
   ]
  },
  {
   "cell_type": "code",
   "execution_count": 3,
   "id": "e12a41b1",
   "metadata": {},
   "outputs": [
    {
     "name": "stdout",
     "output_type": "stream",
     "text": [
      "123\n"
     ]
    }
   ],
   "source": [
    "a = 123\n",
    "a = str(a)\n",
    "print(a) "
   ]
  },
  {
   "cell_type": "markdown",
   "id": "220658e8",
   "metadata": {},
   "source": [
    "### len(s) 返回对象（字符、列表、元组等）长度或元素个数。"
   ]
  },
  {
   "cell_type": "code",
   "execution_count": 4,
   "id": "4d59287b",
   "metadata": {},
   "outputs": [
    {
     "name": "stdout",
     "output_type": "stream",
     "text": [
      "0\n",
      "16\n",
      "16\n"
     ]
    }
   ],
   "source": [
    "a = list()\n",
    "print(len(a))  \n",
    "b = ('I', ' ', 'L', 'o', 'v', 'e', ' ', 'L', 's', 'g', 'o', 'G', 'r', 'o', 'u', 'p')\n",
    "print(len(b))  \n",
    "c = 'I Love LsgoGroup'\n",
    "print(len(c)) "
   ]
  },
  {
   "cell_type": "markdown",
   "id": "be2626c8",
   "metadata": {},
   "source": [
    "### max(sub) 返回序列或者参数集合中的最大值"
   ]
  },
  {
   "cell_type": "code",
   "execution_count": 5,
   "id": "ce71aaac",
   "metadata": {},
   "outputs": [
    {
     "name": "stdout",
     "output_type": "stream",
     "text": [
      "5\n",
      "99\n",
      "v\n"
     ]
    }
   ],
   "source": [
    "print(max(1, 2, 3, 4, 5))  \n",
    "print(max([-8, 99, 3, 7, 83]))  \n",
    "print(max('IloveLsgoGroup')) "
   ]
  },
  {
   "cell_type": "markdown",
   "id": "b0cc019f",
   "metadata": {},
   "source": [
    "### min(sub) 返回序列或参数集合中的最小值"
   ]
  },
  {
   "cell_type": "code",
   "execution_count": 6,
   "id": "4bc352de",
   "metadata": {},
   "outputs": [
    {
     "name": "stdout",
     "output_type": "stream",
     "text": [
      "1\n",
      "-8\n",
      "G\n"
     ]
    }
   ],
   "source": [
    "print(min(1, 2, 3, 4, 5))  \n",
    "print(min([-8, 99, 3, 7, 83]))  \n",
    "print(min('IloveLsgoGroup'))  "
   ]
  },
  {
   "cell_type": "markdown",
   "id": "92963be7",
   "metadata": {},
   "source": [
    "### sum(iterable\\[, start=0\\]) 返回序列 iterable 与可选参数 start 的总和"
   ]
  },
  {
   "cell_type": "code",
   "execution_count": 7,
   "id": "b154f371",
   "metadata": {},
   "outputs": [
    {
     "name": "stdout",
     "output_type": "stream",
     "text": [
      "25\n",
      "35\n",
      "25\n",
      "45\n"
     ]
    }
   ],
   "source": [
    "print(sum([1, 3, 5, 7, 9]))  \n",
    "print(sum([1, 3, 5, 7, 9], 10))  \n",
    "print(sum((1, 3, 5, 7, 9)))   \n",
    "print(sum((1, 3, 5, 7, 9), 20))  "
   ]
  },
  {
   "cell_type": "markdown",
   "id": "47a6f075",
   "metadata": {},
   "source": [
    "###  sorted(iterable, key=None, reverse=False) 对所有可迭代的对象进行排序操作。\n",
    "a. iterable -- 可迭代对象。  \n",
    "b. key -- 主要是用来进行比较的元素，只有一个参数，具体的函数的参数就是取自于可迭代对象中，指定可迭代对象中的一个元素来进行排序。  \n",
    "c. reverse -- 排序规则， reverse = True 降序 ， reverse = False 升序（默认）。  \n",
    "d. 返回重新排序的列表。"
   ]
  },
  {
   "cell_type": "code",
   "execution_count": 8,
   "id": "172b8688",
   "metadata": {},
   "outputs": [
    {
     "name": "stdout",
     "output_type": "stream",
     "text": [
      "[-8, 3, 7, 83, 99]\n",
      "[99, 83, 7, 3, -8]\n",
      "[{'age': 10, 'name': 'c'}, {'age': 20, 'name': 'a'}, {'age': 25, 'name': 'b'}]\n"
     ]
    }
   ],
   "source": [
    "x = [-8, 99, 3, 7, 83]\n",
    "print(sorted(x))  \n",
    "print(sorted(x, reverse=True))  \n",
    "t = ({\"age\": 20, \"name\": \"a\"}, {\"age\": 25, \"name\": \"b\"}, {\"age\": 10, \"name\": \"c\"})\n",
    "x = sorted(t, key=lambda a: a[\"age\"])\n",
    "print(x)"
   ]
  },
  {
   "cell_type": "markdown",
   "id": "83339f4a",
   "metadata": {},
   "source": [
    "### reversed(seq) 函数返回一个反转的迭代器。\n",
    "- seq -- 要转换的序列，可以是 tuple, string, list 或 range。"
   ]
  },
  {
   "cell_type": "code",
   "execution_count": 9,
   "id": "dbb2d090",
   "metadata": {},
   "outputs": [
    {
     "name": "stdout",
     "output_type": "stream",
     "text": [
      "<class 'reversed'>\n",
      "<reversed object at 0x0000020ACD1EC4C0>\n",
      "['p', 'u', 'o', 'r', 'g', 'o', 'g', 's', 'l']\n",
      "['p', 'u', 'o', 'r', 'g', 'o', 'g', 's', 'l']\n",
      "[8, 7, 6, 5]\n",
      "[83, 7, 3, 99, -8]\n"
     ]
    }
   ],
   "source": [
    "s = 'lsgogroup'\n",
    "x = reversed(s)\n",
    "print(type(x))  \n",
    "print(x)  \n",
    "print(list(x))\n",
    " \n",
    "t = ('l', 's', 'g', 'o', 'g', 'r', 'o', 'u', 'p')\n",
    "print(list(reversed(t)))\n",
    " \n",
    "r = range(5, 9)\n",
    "print(list(reversed(r)))\n",
    " \n",
    "x = [-8, 99, 3, 7, 83]\n",
    "print(list(reversed(x)))"
   ]
  },
  {
   "cell_type": "markdown",
   "id": "6548ed0b",
   "metadata": {},
   "source": [
    "### enumerate(sequence, \\[start=0\\])，用于将一个可遍历的数据对象(如列表、元组或字符串)组合为一个索引序列，同时列出数据和数据下标"
   ]
  },
  {
   "cell_type": "code",
   "execution_count": 12,
   "id": "539f741f",
   "metadata": {},
   "outputs": [
    {
     "name": "stdout",
     "output_type": "stream",
     "text": [
      "[(0, 'Spring'), (1, 'Summer'), (2, 'Fall'), (3, 'Winter')]\n",
      "[(1, 'Spring'), (2, 'Summer'), (3, 'Fall'), (4, 'Winter')]\n",
      "0,Spring\n",
      "1,Summer\n",
      "2,Fall\n",
      "3,Winter\n"
     ]
    }
   ],
   "source": [
    "seasons = ['Spring', 'Summer', 'Fall', 'Winter']\n",
    "a = list(enumerate(seasons))\n",
    "print(a) \n",
    " \n",
    "b = list(enumerate(seasons, 1))\n",
    "print(b) \n",
    " \n",
    "for i, element in a:\n",
    "    print('{0},{1}'.format(i, element))"
   ]
  },
  {
   "cell_type": "markdown",
   "id": "7198df1f",
   "metadata": {},
   "source": [
    "### zip(iter1 \\[,iter2 \\[...\\]\\])\n",
    "a. 用于将可迭代的对象作为参数，将对象中对应的元素打包成一个个元组，然后返回由这些元组组成的对象，这样做的好处是节约了不少的内存。   \n",
    "b. 我们可以使用 list() 转换来输出列表。  \n",
    "c. 如果各个迭代器的元素个数不一致，则返回列表长度与最短的对象相同，利用 * 号操作符，可以将元组解压为列表。  "
   ]
  },
  {
   "cell_type": "code",
   "execution_count": 13,
   "id": "596813fe",
   "metadata": {},
   "outputs": [
    {
     "name": "stdout",
     "output_type": "stream",
     "text": [
      "<zip object at 0x0000020ACD274F80>\n",
      "[(1, 4), (2, 5), (3, 6)]\n",
      "[(1, 4), (2, 5), (3, 6)]\n",
      "[1, 2, 3]\n",
      "[4, 5, 6]\n"
     ]
    }
   ],
   "source": [
    "a = [1, 2, 3]\n",
    "b = [4, 5, 6]\n",
    "c = [4, 5, 6, 7, 8]\n",
    "zipped = zip(a, b)\n",
    "print(zipped) \n",
    "print(list(zipped)) \n",
    "zipped = zip(a, c)\n",
    "print(list(zipped)) \n",
    "a1, a2 = zip(*zip(a, b))\n",
    "print(list(a1)) \n",
    "print(list(a2)) "
   ]
  }
 ],
 "metadata": {
  "kernelspec": {
   "display_name": "Python 3",
   "language": "python",
   "name": "python3"
  },
  "language_info": {
   "codemirror_mode": {
    "name": "ipython",
    "version": 3
   },
   "file_extension": ".py",
   "mimetype": "text/x-python",
   "name": "python",
   "nbconvert_exporter": "python",
   "pygments_lexer": "ipython3",
   "version": "3.8.8"
  }
 },
 "nbformat": 4,
 "nbformat_minor": 5
}
