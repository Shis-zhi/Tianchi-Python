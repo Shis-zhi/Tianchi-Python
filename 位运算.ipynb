{
 "cells": [
  {
   "cell_type": "markdown",
   "metadata": {},
   "source": [
    "# 原码、反码和补码"
   ]
  },
  {
   "cell_type": "markdown",
   "metadata": {},
   "source": [
    "1. 原码：原码就是其二进制表示  \n",
    "2. 反码：正数的反码就是原码，负数的反码为符号位不变，其余位取反  \n",
    "3. 补码：正数的补码就是原码，负数的补码是反码+1 \n",
    "\n",
    "- 符号位：最高位为符号位，0表示正数，1表示负数，符号位也参与位运算"
   ]
  },
  {
   "cell_type": "markdown",
   "metadata": {},
   "source": [
    "# 利用位运算实现快速计算"
   ]
  },
  {
   "cell_type": "markdown",
   "metadata": {},
   "source": [
    "### 1.通过<<,>>快速计算2的倍数问题\n",
    "- n << m  (计算n*(2^m))   \n",
    "- n >> m  (计算n/(2^m))"
   ]
  },
  {
   "cell_type": "code",
   "execution_count": 2,
   "metadata": {},
   "outputs": [
    {
     "name": "stdout",
     "output_type": "stream",
     "text": [
      "n << m = 512\n",
      "n >> m = 8\n"
     ]
    }
   ],
   "source": [
    "m, n = 3,64\n",
    "print('n << m = ',end = '')\n",
    "print(n << m)\n",
    "print('n >> m = ',end = '')\n",
    "print(n >> m)"
   ]
  },
  {
   "cell_type": "markdown",
   "metadata": {},
   "source": [
    "### 2.通过^快速交换两个整数"
   ]
  },
  {
   "cell_type": "code",
   "execution_count": 4,
   "metadata": {},
   "outputs": [
    {
     "name": "stdout",
     "output_type": "stream",
     "text": [
      "5 3\n"
     ]
    }
   ],
   "source": [
    "m, n = 3, 5\n",
    "m ^= n\n",
    "n ^= m\n",
    "m ^= n\n",
    "print(m,n)"
   ]
  },
  {
   "cell_type": "markdown",
   "metadata": {},
   "source": [
    "### 3.通过a &（-a）快速获取a最后一位整数"
   ]
  },
  {
   "cell_type": "code",
   "execution_count": 17,
   "metadata": {},
   "outputs": [
    {
     "name": "stdout",
     "output_type": "stream",
     "text": [
      "1\n"
     ]
    }
   ],
   "source": [
    "a = -3\n",
    "print(a & (-a))"
   ]
  },
  {
   "cell_type": "markdown",
   "metadata": {},
   "source": [
    " a： 00 00 01 01   \n",
    "-a： 11 11 10 11  \n",
    "结果：00 00 00 01   \n",
    "不难发现 当a不是4的倍数时，前6位数字一定都是0，考虑后两个数字   \n",
    "\n",
    "|原码|01|10|11|  \n",
    "|---|---|---|---|  \n",
    "|反码|11|10|01|  \n",
    "|结果|01|10|01|  \n",
    "|十进制|1|2|1|  \n",
    "\n",
    "总结如下：\n",
    "对于 a & (-a):\n",
    "- 如果a为4的倍数，则结果为a的绝对值  \n",
    "- 如果a不是4的倍数，当a为奇数时，结果为1，否则为2"
   ]
  },
  {
   "cell_type": "markdown",
   "metadata": {},
   "source": []
  }
 ],
 "metadata": {
  "kernelspec": {
   "display_name": "Python 3",
   "language": "python",
   "name": "python3"
  },
  "language_info": {
   "codemirror_mode": {
    "name": "ipython",
    "version": 3
   },
   "file_extension": ".py",
   "mimetype": "text/x-python",
   "name": "python",
   "nbconvert_exporter": "python",
   "pygments_lexer": "ipython3",
   "version": "3.8.5"
  }
 },
 "nbformat": 4,
 "nbformat_minor": 4
}
