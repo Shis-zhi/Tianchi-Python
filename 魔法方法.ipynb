{
 "cells": [
  {
   "cell_type": "markdown",
   "metadata": {},
   "source": [
    "魔法方法总是被双下划线包围，例如 \\_\\_init__ 。  \n",
    "魔法方法是面向对象的 Python 的一切，如果你不知道魔法方法，说明你还没能意识到面向对象的 Python 的强大。  \n",
    "魔法方法的“魔力”体现在它们总能够在适当的时候被自动调用。  \n",
    "魔法方法的第一个参数应为 cls （类方法） 或者 self （实例方法）。  \n",
    "1. cls ：代表一个类的名称  \n",
    "2. self ：代表一个实例对象的名称  "
   ]
  },
  {
   "cell_type": "markdown",
   "metadata": {},
   "source": [
    "# 1.基本的魔法方法"
   ]
  },
  {
   "cell_type": "markdown",
   "metadata": {},
   "source": [
    "## \\_\\_init__(self\\[, ...\\])\n",
    "构造器，当一个实例被创建的时候调用的初始化方法"
   ]
  },
  {
   "cell_type": "code",
   "execution_count": 1,
   "metadata": {},
   "outputs": [
    {
     "name": "stdout",
     "output_type": "stream",
     "text": [
      "18\n",
      "20\n"
     ]
    }
   ],
   "source": [
    "class Rectangle:\n",
    "    def __init__(self, x, y):\n",
    "        self.x = x\n",
    "        self.y = y\n",
    "    def getPeri(self):\n",
    "        return (self.x + self.y) * 2\n",
    "    def getArea(self):\n",
    "        return self.x * self.y\n",
    "rect = Rectangle(4, 5)\n",
    "print(rect.getPeri()) \n",
    "print(rect.getArea()) "
   ]
  },
  {
   "cell_type": "markdown",
   "metadata": {},
   "source": [
    "##  \\_\\_new__(cls\\[, ...\\])\n",
    "1. \\_\\_new__ 是在一个对象实例化的时候所调用的第一个方法，在调用 \\_\\_init__ 初始化前，先调用 \\_\\_new__。\n",
    "2. \\_\\_new__ 至少要有一个参数 cls ，代表要实例化的类，此参数在实例化时由 Python 解释器自动提供，后面的参数直接传递给 \\_\\_init__ 。\n",
    "3. \\_\\_new__ 对当前类进行了实例化，并将实例返回，传给 \\_\\_init__ 的 self 。但是，执行了 \\_\\_new__ ，并不一定会进入 \\_\\_init__ ，只有 \\_\\_new__ 返回了当前类 cls 的实例，当前类的 \\_\\_init__ 才会进入。"
   ]
  },
  {
   "cell_type": "code",
   "execution_count": 6,
   "metadata": {},
   "outputs": [
    {
     "name": "stdout",
     "output_type": "stream",
     "text": [
      "into B __new__\n",
      "<class '__main__.B'>\n",
      "into A __new__\n",
      "<class '__main__.B'>\n",
      "into B __init__\n"
     ]
    }
   ],
   "source": [
    "class A(object):\n",
    "    def __init__(self, value):\n",
    "        print(\"into A __init__\")\n",
    "        self.value = value\n",
    "    def __new__(cls, *args, **kwargs):\n",
    "        print(\"into A __new__\")\n",
    "        print(cls)\n",
    "        return object.__new__(cls)\n",
    "class B(A):\n",
    "    def __init__(self, value):\n",
    "        print(\"into B __init__\")\n",
    "        self.value = value\n",
    "    def __new__(cls, *args, **kwargs):\n",
    "        print(\"into B __new__\")\n",
    "        print(cls)\n",
    "        return super().__new__(cls, *args, **kwargs)\n",
    "b = B(10)"
   ]
  },
  {
   "cell_type": "markdown",
   "metadata": {},
   "source": [
    "1. 若 \\_\\_new__ 没有正确返回当前类 cls 的实例，那 \\_\\_init__ 是不会被调用的，即使是父类的实例也不行，将没有 \\_\\_init__ 被调用。\n",
    "2. 可利用 \\_\\_new__ 实现单例模式。"
   ]
  },
  {
   "cell_type": "code",
   "execution_count": 3,
   "metadata": {},
   "outputs": [
    {
     "name": "stdout",
     "output_type": "stream",
     "text": [
      "1686402749824\n",
      "1686402750928\n"
     ]
    }
   ],
   "source": [
    "class Earth:\n",
    "    pass\n",
    "a = Earth()\n",
    "print(id(a)) \n",
    "b = Earth()\n",
    "print(id(b))"
   ]
  },
  {
   "cell_type": "code",
   "execution_count": 4,
   "metadata": {},
   "outputs": [
    {
     "name": "stdout",
     "output_type": "stream",
     "text": [
      "1686402751168\n",
      "1686402751168\n"
     ]
    }
   ],
   "source": [
    "class Earth:\n",
    "    __instance = None # 定义一个类属性做判断\n",
    "    def __new__(cls):\n",
    "        if cls.__instance is None:\n",
    "            cls.__instance = object.__new__(cls)\n",
    "            return cls.__instance\n",
    "        else:\n",
    "            return cls.__instance\n",
    "a = Earth()\n",
    "print(id(a))  \n",
    "b = Earth()\n",
    "print(id(b))  "
   ]
  },
  {
   "cell_type": "markdown",
   "metadata": {},
   "source": [
    " \\_\\_new__ 方法主要是当你继承一些不可变的 class 时（比如 int, str, tuple ）， 提供给你一个自定义这些类的实例化过程的途径。"
   ]
  },
  {
   "cell_type": "code",
   "execution_count": 5,
   "metadata": {},
   "outputs": [
    {
     "name": "stdout",
     "output_type": "stream",
     "text": [
      "I LOVE LSGOGROUP\n"
     ]
    }
   ],
   "source": [
    "class CapStr(str):\n",
    "    def __new__(cls, string):\n",
    "        string = string.upper()\n",
    "        return str.__new__(cls, string)\n",
    "a = CapStr(\"i love lsgogroup\")\n",
    "print(a) "
   ]
  },
  {
   "cell_type": "markdown",
   "metadata": {},
   "source": [
    "## del(self)\n",
    "析构器，当一个对象将要被系统回收之时调用的方法。"
   ]
  },
  {
   "cell_type": "code",
   "execution_count": 7,
   "metadata": {},
   "outputs": [
    {
     "name": "stdout",
     "output_type": "stream",
     "text": [
      "into C __init__\n",
      "into C __del__\n"
     ]
    }
   ],
   "source": [
    "class C(object):\n",
    "    def __init__(self):\n",
    "        print('into C __init__')\n",
    "    def __del__(self):\n",
    "        print('into C __del__')\n",
    "\n",
    "c1 = C()\n",
    "c2 = c1\n",
    "c3 = c2\n",
    "del c3\n",
    "del c2\n",
    "del c1"
   ]
  },
  {
   "cell_type": "markdown",
   "metadata": {},
   "source": [
    "## \\_\\_str__ 和 \\_\\_repr__\n",
    "### \\_\\_str__(self) :\n",
    "1. 当你打印一个对象的时候，触发\\_\\_str__\n",
    "2. 当你使用 %s 格式化的时候，触发 \\_\\_str__\n",
    "3. str 强转数据类型的时候，触发 \\_\\_str__\n",
    "\n",
    "### \\_\\_repr__(self):\n",
    "1. repr 是 str 的备胎\n",
    "2. 有 \\_\\_str__ 的时候执行 \\_\\_str__ ,没有实现 \\_\\_str__ 的时候，执行 \\_\\_repr__\n",
    "3. repr(obj) 内置函数对应的结果是 \\_\\_repr__ 的返回值\n",
    "4. 当你使用 %r 格式化的时候 触发 \\_\\_repr__"
   ]
  },
  {
   "cell_type": "code",
   "execution_count": 8,
   "metadata": {},
   "outputs": [
    {
     "name": "stdout",
     "output_type": "stream",
     "text": [
      "名字是:汤姆 , 年龄是:30\n",
      "名字是:汤姆 , 年龄是:30\n",
      "Cat:(汤姆,30)\n",
      "汤姆在吃鱼....\n",
      "名字是:汤姆, 年龄是:30\n"
     ]
    }
   ],
   "source": [
    "class Cat:\n",
    "    def __init__(self, new_name, new_age):\n",
    "        self.name = new_name\n",
    "        self.age = new_age\n",
    "    def __str__(self):\n",
    "        return \"名字是:%s , 年龄是:%d\" % (self.name, self.age)\n",
    "    def __repr__(self):\n",
    "        return \"Cat:(%s,%d)\" % (self.name, self.age)\n",
    "    def eat(self):\n",
    "        print(\"%s在吃鱼....\" % self.name)\n",
    "    def drink(self):\n",
    "        print(\"%s在喝可乐...\" % self.name)\n",
    "    def introduce(self):\n",
    "        print(\"名字是:%s, 年龄是:%d\" % (self.name, self.age))\n",
    "tom = Cat(\"汤姆\", 30)\n",
    "print(tom) \n",
    "print(str(tom)) \n",
    "print(repr(tom)) \n",
    "tom.eat() \n",
    "tom.introduce() "
   ]
  },
  {
   "cell_type": "markdown",
   "metadata": {},
   "source": [
    "\\_\\_str__(self) 的返回结果可读性强。也就是说， \\_\\_str__ 的意义是得到便于人们阅读的信息。  \n",
    "\\_\\repr__(self) 的返回结果应更准确。怎么说， \\_\\_repr__ 存在的目的在于调试，便于开发者使用。"
   ]
  },
  {
   "cell_type": "code",
   "execution_count": 9,
   "metadata": {},
   "outputs": [
    {
     "name": "stdout",
     "output_type": "stream",
     "text": [
      "2021-07-15\n",
      "datetime.date(2021, 7, 15)\n",
      "2021-07-15\n",
      "datetime.date(2021, 7, 15)\n"
     ]
    }
   ],
   "source": [
    "import datetime\n",
    "today = datetime.date.today()\n",
    "print(str(today))   \n",
    "print(repr(today)) \n",
    "print('%s' %today)  \n",
    "print('%r' %today)  "
   ]
  },
  {
   "cell_type": "markdown",
   "metadata": {},
   "source": [
    "# 2.算术运算符\n",
    "类型工厂函数，指的是不通过类而是通过函数来创建对象。"
   ]
  },
  {
   "cell_type": "code",
   "execution_count": 10,
   "metadata": {},
   "outputs": [
    {
     "name": "stdout",
     "output_type": "stream",
     "text": [
      "<class 'builtin_function_or_method'>\n",
      "<class 'builtin_function_or_method'>\n",
      "<class 'type'>\n",
      "<class 'type'>\n",
      "<class 'type'>\n",
      "<class 'type'>\n",
      "123\n",
      "[1, 2, 3]\n"
     ]
    }
   ],
   "source": [
    "class C:\n",
    "    pass\n",
    "print(type(len)) \n",
    "print(type(dir)) \n",
    "print(type(int))  \n",
    "print(type(list))  \n",
    "print(type(tuple))  \n",
    "print(type(C))  \n",
    "print(int('123'))  \n",
    "print(list((1, 2, 3)))  "
   ]
  },
  {
   "cell_type": "markdown",
   "metadata": {},
   "source": [
    "1. \\_\\_add__(self, other) 定义加法的行为： +\n",
    "2. \\_\\_sub__(self, other) 定义减法的行为： -"
   ]
  },
  {
   "cell_type": "code",
   "execution_count": 11,
   "metadata": {},
   "outputs": [
    {
     "name": "stdout",
     "output_type": "stream",
     "text": [
      "高为 10  重为 5\n",
      "高为 20  重为 10\n",
      "高为 10  重为 5\n",
      "高为 30  重为 15\n"
     ]
    }
   ],
   "source": [
    "class MyClass:\n",
    "    def __init__(self, height, weight):\n",
    "        self.height = height\n",
    "        self.weight = weight\n",
    " # 两个对象的长相加，宽不变.返回一个新的类\n",
    "    def __add__(self, others):\n",
    "        return MyClass(self.height + others.height, self.weight + others.weight)\n",
    " # 两个对象的宽相减，长不变.返回一个新的类\n",
    "    def __sub__(self, others):\n",
    "        return MyClass(self.height - others.height, self.weight - others.weight)\n",
    " # 说一下自己的参数\n",
    "    def intro(self):\n",
    "        print(\"高为\", self.height, \" 重为\", self.weight)\n",
    "        \n",
    "        \n",
    "def main():\n",
    "        a = MyClass(height=10, weight=5)\n",
    "        a.intro()\n",
    "        \n",
    "        b = MyClass(height=20, weight=10)\n",
    "        b.intro()\n",
    "    \n",
    "        c = b - a\n",
    "        c.intro()\n",
    "        \n",
    "        d = a + b\n",
    "        d.intro()\n",
    "        \n",
    "        \n",
    "        \n",
    "if __name__ == '__main__':\n",
    "    main()"
   ]
  },
  {
   "cell_type": "markdown",
   "metadata": {},
   "source": [
    "1. \\_\\_mul__(self, other) 定义乘法的行为： *  \n",
    "2. \\_\\_truediv__(self, other) 定义真除法的行为： /  \n",
    "3. \\_\\_floordiv__(self, other) 定义整数除法的行为： //  \n",
    "4. \\_\\_mod__(self, other) 定义取模算法的行为： %  \n",
    "5. \\_\\_divmod__(self, other) 定义当被 divmod() 调用时的行为  \n",
    "6. divmod(a, b) 把除数和余数运算结果结合起来，返回一个包含商和余数的元组 (a // b, a % b) 。"
   ]
  },
  {
   "cell_type": "code",
   "execution_count": 12,
   "metadata": {},
   "outputs": [
    {
     "name": "stdout",
     "output_type": "stream",
     "text": [
      "(3, 1)\n",
      "(4, 0)\n"
     ]
    }
   ],
   "source": [
    "print(divmod(7, 2))  \n",
    "print(divmod(8, 2))  "
   ]
  },
  {
   "cell_type": "markdown",
   "metadata": {},
   "source": [
    "1. \\_\\_pow__(self, other\\[, module\\]) 定义当被 power() 调用或 ** 运算时的行为\n",
    "2. \\_\\_lshift__(self, other) 定义按位左移位的行为： <<\n",
    "3. \\_\\_rshift__(self, other) 定义按位右移位的行为： >>\n",
    "4. \\_\\_and__(self, other) 定义按位与操作的行为： &\n",
    "5. \\_\\_xor__(self, other) 定义按位异或操作的行为： ^\n",
    "6. \\_\\_or__(self, other) 定义按位或操作的行为： |"
   ]
  },
  {
   "cell_type": "markdown",
   "metadata": {},
   "source": [
    "# 3. 反算术运算符\n",
    "反运算魔方方法，与算术运算符保持一一对应，不同之处就是反运算的魔法方法多了一个“r”。当文件左操作不支持相应的操作时被调用。"
   ]
  },
  {
   "cell_type": "markdown",
   "metadata": {},
   "source": [
    "1. \\_\\_radd__(self, other) 定义加法的行为： +\n",
    "2. \\_\\_rsub__(self, other) 定义减法的行为： -\n",
    "3. \\_\\_rmul__(self, other) 定义乘法的行为： *\n",
    "4. \\_\\_rtruediv__(self, other) 定义真除法的行为： /\n",
    "5. \\_\\_rfloordiv__(self, other) 定义整数除法的行为： //\n",
    "6. \\_\\_rmod__(self, other) 定义取模算法的行为： %\n",
    "7. \\_\\_rdivmod__(self, other) 定义当被 divmod() 调用时的行为\n",
    "8. \\_\\_rpow__(self, other\\[, module\\]) 定义当被 power() 调用或 ** 运算时的行为\n",
    "9. \\_\\_rlshift__(self, other) 定义按位左移位的行为： <<\n",
    "10. \\_\\_rrshift__(self, other) 定义按位右移位的行为： >>\n",
    "11. \\_\\_rand__(self, other) 定义按位与操作的行为： &\n",
    "12. \\_\\_rxor__(self, other) 定义按位异或操作的行为： ^\n",
    "13. \\_\\_ror__(self, other) 定义按位或操作的行为： |"
   ]
  },
  {
   "cell_type": "markdown",
   "metadata": {},
   "source": [
    "a + b\n",
    "这里加数是 a ，被加数是 b ，因此是 a 主动，反运算就是如果 a 对象的 __add__() 方法没有实现或者不支持相应的操作，那么 Python 就会调用 b 的 __radd__() 方法。\n"
   ]
  },
  {
   "cell_type": "code",
   "execution_count": 13,
   "metadata": {},
   "outputs": [
    {
     "name": "stdout",
     "output_type": "stream",
     "text": [
      "8\n",
      "-2\n"
     ]
    }
   ],
   "source": [
    "class Nint(int):\n",
    "    def __radd__(self, other):\n",
    "        return int.__sub__(other, self) # 注意 self 在后面\n",
    "a = Nint(5)\n",
    "b = Nint(3)\n",
    "print(a + b) # 8\n",
    "print(1 + b) # -2"
   ]
  },
  {
   "cell_type": "markdown",
   "metadata": {},
   "source": [
    "# 4.增量赋值运算符"
   ]
  },
  {
   "cell_type": "markdown",
   "metadata": {},
   "source": [
    "1. \\_\\_iadd__(self, other) 定义赋值加法的行为： +=\n",
    "2. \\_\\_isub__(self, other) 定义赋值减法的行为： -=\n",
    "3. \\_\\_imul__(self, other) 定义赋值乘法的行为： *=\n",
    "4. \\_\\_itruediv__(self, other) 定义赋值真除法的行为： /=\n",
    "5. \\_\\_ifloordiv__(self, other) 定义赋值整数除法的行为： //=\n",
    "6. \\_\\_imod__(self, other) 定义赋值取模算法的行为： %=\n",
    "7. \\_\\_ipow__(self, other[, modulo]) 定义赋值幂运算的行为： **=\n",
    "8. \\_\\_ilshift__(self, other) 定义赋值按位左移位的行为： <<=\n",
    "9. \\_\\_irshift__(self, other) 定义赋值按位右移位的行为： >>=\n",
    "10. \\_\\_iand__(self, other) 定义赋值按位与操作的行为： &=\n",
    "11. \\_\\_ixor__(self, other) 定义赋值按位异或操作的行为： ^=\n",
    "12. \\_\\_ior__(self, other) 定义赋值按位或操作的行为： |="
   ]
  },
  {
   "cell_type": "markdown",
   "metadata": {},
   "source": [
    "# 5.一元运算符"
   ]
  },
  {
   "cell_type": "markdown",
   "metadata": {},
   "source": [
    "1. \\_\\_neg__(self) 定义正号的行为： +x\n",
    "2. \\_\\_pos__(self) 定义负号的行为： -x\n",
    "3. \\_\\_abs__(self) 定义当被 abs() 调用时的行为\n",
    "4. \\_\\_invert__(self) 定义按位求反的行为： ~x"
   ]
  },
  {
   "cell_type": "markdown",
   "metadata": {},
   "source": [
    "# 6.属性访问"
   ]
  },
  {
   "cell_type": "markdown",
   "metadata": {},
   "source": [
    "1. \\_\\_getattr__(self, name) : 定义当用户试图获取一个不存在的属性时的行为。\n",
    "2. \\_\\_getattribute__(self, name) ：定义当该类的属性被访问时的行为（先调用该方法，查看是否存在该属性，若不存在，接着去调用 \\_\\_getattr__ ）。\n",
    "3. \\_\\_setattr__(self, name, value) ：定义当一个属性被设置时的行为。\n",
    "4. \\_\\_delattr__(self, name) ：定义当一个属性被删除时的行为。"
   ]
  },
  {
   "cell_type": "code",
   "execution_count": 19,
   "metadata": {},
   "outputs": [
    {
     "name": "stdout",
     "output_type": "stream",
     "text": [
      "__getattribute__\n",
      "__getattr__\n",
      "__setattr__\n",
      "__delattr__\n"
     ]
    }
   ],
   "source": [
    "class C:\n",
    "    def __getattribute__(self, item):\n",
    "        print('__getattribute__')\n",
    "        return super().__getattribute__(item)\n",
    "    def __getattr__(self, item):\n",
    "        print('__getattr__')\n",
    "    def __setattr__(self, key, value):\n",
    "        print('__setattr__')\n",
    "        super().__setattr__(key, value)\n",
    "    def __delattr__(self, item):\n",
    "        print('__delattr__')\n",
    "        super().__delattr__(item)\n",
    "c = C()\n",
    "c.x\n",
    "c.x = 1\n",
    "\n",
    "del c.x"
   ]
  },
  {
   "cell_type": "markdown",
   "metadata": {},
   "source": [
    "# 7.描述符\n",
    "描述符就是将某种特殊类型的类的实例指派给另一个类的属性。"
   ]
  },
  {
   "cell_type": "markdown",
   "metadata": {},
   "source": [
    "1. \\_\\_get__(self, instance, owner) 用于访问属性，它返回属性的值。\n",
    "2. \\_\\_set__(self, instance, value) 将在属性分配操作中调用，不返回任何内容。\n",
    "3. \\_\\_del__(self, instance) 控制删除操作，不返回任何内容。"
   ]
  },
  {
   "cell_type": "code",
   "execution_count": 20,
   "metadata": {},
   "outputs": [
    {
     "name": "stdout",
     "output_type": "stream",
     "text": [
      "__get__ <__main__.MyDecriptor object at 0x00000188A573E700> <__main__.Test object at 0x00000188A573ECA0> <class '__main__.Test'>\n"
     ]
    }
   ],
   "source": [
    "class MyDecriptor:\n",
    "    def __get__(self, instance, owner):\n",
    "        print('__get__', self, instance, owner)\n",
    "    def __set__(self, instance, value):\n",
    "        print('__set__', self, instance, value)\n",
    "    def __delete__(self, instance):\n",
    "        print('__delete__', self, instance)\n",
    "class Test:\n",
    "    x = MyDecriptor()\n",
    "t = Test()\n",
    "t.x"
   ]
  },
  {
   "cell_type": "code",
   "execution_count": 21,
   "metadata": {},
   "outputs": [
    {
     "name": "stdout",
     "output_type": "stream",
     "text": [
      "__set__ <__main__.MyDecriptor object at 0x00000188A573E700> <__main__.Test object at 0x00000188A573ECA0> x-man\n"
     ]
    }
   ],
   "source": [
    "t.x = 'x-man'"
   ]
  },
  {
   "cell_type": "code",
   "execution_count": 22,
   "metadata": {},
   "outputs": [
    {
     "name": "stdout",
     "output_type": "stream",
     "text": [
      "__delete__ <__main__.MyDecriptor object at 0x00000188A573E700> <__main__.Test object at 0x00000188A573ECA0>\n"
     ]
    }
   ],
   "source": [
    "del t.x"
   ]
  },
  {
   "cell_type": "markdown",
   "metadata": {},
   "source": [
    "# 8.定制序列\n",
    "协议（Protocols）与其它编程语言中的接口很相似，它规定你哪些方法必须要定义。然而，在 Python 中的协议就显得不那么正式。事实上，在 Python 中，协议更像是一种指南。"
   ]
  },
  {
   "cell_type": "markdown",
   "metadata": {},
   "source": [
    "### 容器类型的协议\n",
    "1. 如果说你希望定制的容器是不可变的话，你只需要定义 \\_\\_len__() 和 \\_\\_getitem__() 方法。\n",
    "2. 如果你希望定制的容器是可变的话，除了 \\_\\_len__() 和 \\_\\_getitem__() 方法，你还需要定义 \\_\\_setitem__()\n",
    "和 \\_\\_delitem__() 两个方法。"
   ]
  },
  {
   "cell_type": "markdown",
   "metadata": {},
   "source": [
    "1. \\_\\_len__(self) 定义当被 len() 调用时的行为（返回容器中元素的个数）。\n",
    "2. \\_\\_getitem__(self, key) 定义获取容器中元素的行为，相当于 self\\[key\\] 。\n",
    "3. \\_\\_setitem__(self, key, value) 定义设置容器中指定元素的行为，相当于 self\\[key\\] = value 。\n",
    "4. \\_\\_delitem__(self, key) 定义删除容器中指定元素的行为，相当于 del self\\[key\\] 。"
   ]
  },
  {
   "cell_type": "markdown",
   "metadata": {},
   "source": [
    "# 9.迭代器"
   ]
  },
  {
   "cell_type": "markdown",
   "metadata": {},
   "source": [
    "1. 迭代是 Python 最强大的功能之一，是访问集合元素的一种方式。\n",
    "2. 迭代器是一个可以记住遍历的位置的对象。\n",
    "3. 迭代器对象从集合的第一个元素开始访问，直到所有的元素被访问完结束。\n",
    "4. 迭代器只能往前不会后退。\n",
    "5. 字符串，列表或元组对象都可用于创建迭代器："
   ]
  },
  {
   "cell_type": "code",
   "execution_count": 23,
   "metadata": {},
   "outputs": [
    {
     "name": "stdout",
     "output_type": "stream",
     "text": [
      "l\n",
      "s\n",
      "g\n",
      "o\n",
      "g\n",
      "r\n",
      "o\n",
      "u\n",
      "p\n"
     ]
    }
   ],
   "source": [
    "string = 'lsgogroup'\n",
    "for c in string:\n",
    "    print(c)"
   ]
  },
  {
   "cell_type": "code",
   "execution_count": 24,
   "metadata": {},
   "outputs": [
    {
     "name": "stdout",
     "output_type": "stream",
     "text": [
      "l\n",
      "s\n",
      "g\n",
      "o\n",
      "g\n",
      "r\n",
      "o\n",
      "u\n",
      "p\n"
     ]
    }
   ],
   "source": [
    "for c in iter(string):\n",
    "    print(c)"
   ]
  },
  {
   "cell_type": "code",
   "execution_count": 31,
   "metadata": {},
   "outputs": [
    {
     "name": "stdout",
     "output_type": "stream",
     "text": [
      "B -> 百度\n",
      "A -> 阿里\n",
      "T -> 腾讯\n"
     ]
    }
   ],
   "source": [
    "links = {'B': '百度', 'A': '阿里', 'T': '腾讯'}\n",
    "for each in links:\n",
    "    print('%s -> %s' % (each, links[each]))"
   ]
  },
  {
   "cell_type": "code",
   "execution_count": 28,
   "metadata": {},
   "outputs": [
    {
     "name": "stdout",
     "output_type": "stream",
     "text": [
      "B -> 百度\n",
      "A -> 阿里\n",
      "T -> 腾讯\n"
     ]
    }
   ],
   "source": [
    "for each in iter(links):\n",
    "    print('%s -> %s'% (each, links[each]))"
   ]
  },
  {
   "cell_type": "markdown",
   "metadata": {},
   "source": [
    "1. 迭代器有两个基本的方法： iter() 和 next() 。\n",
    "2. iter(object) 函数用来生成迭代器。\n",
    "3. next(iterator\\[, default\\]) 返回迭代器的下一个项目。\n",
    "4. iterator -- 可迭代对象\n",
    "5. default -- 可选，用于设置在没有下一个元素时返回该默认值，如果不设置，又没有下一个元素则会触发\n",
    "StopIteration 异常。"
   ]
  },
  {
   "cell_type": "code",
   "execution_count": 34,
   "metadata": {},
   "outputs": [
    {
     "name": "stdout",
     "output_type": "stream",
     "text": [
      "B\n",
      "A\n",
      "T\n"
     ]
    },
    {
     "ename": "StopIteration",
     "evalue": "",
     "output_type": "error",
     "traceback": [
      "\u001b[1;31m---------------------------------------------------------------------------\u001b[0m",
      "\u001b[1;31mStopIteration\u001b[0m                             Traceback (most recent call last)",
      "\u001b[1;32m<ipython-input-34-cb822327432f>\u001b[0m in \u001b[0;36m<module>\u001b[1;34m\u001b[0m\n\u001b[0;32m      4\u001b[0m \u001b[0mprint\u001b[0m\u001b[1;33m(\u001b[0m\u001b[0mnext\u001b[0m\u001b[1;33m(\u001b[0m\u001b[0mit\u001b[0m\u001b[1;33m)\u001b[0m\u001b[1;33m)\u001b[0m\u001b[1;33m\u001b[0m\u001b[1;33m\u001b[0m\u001b[0m\n\u001b[0;32m      5\u001b[0m \u001b[0mprint\u001b[0m\u001b[1;33m(\u001b[0m\u001b[0mnext\u001b[0m\u001b[1;33m(\u001b[0m\u001b[0mit\u001b[0m\u001b[1;33m)\u001b[0m\u001b[1;33m)\u001b[0m\u001b[1;33m\u001b[0m\u001b[1;33m\u001b[0m\u001b[0m\n\u001b[1;32m----> 6\u001b[1;33m \u001b[0mprint\u001b[0m\u001b[1;33m(\u001b[0m\u001b[0mnext\u001b[0m\u001b[1;33m(\u001b[0m\u001b[0mit\u001b[0m\u001b[1;33m)\u001b[0m\u001b[1;33m)\u001b[0m\u001b[1;33m\u001b[0m\u001b[1;33m\u001b[0m\u001b[0m\n\u001b[0m",
      "\u001b[1;31mStopIteration\u001b[0m: "
     ]
    }
   ],
   "source": [
    "links = {'B': '百度', 'A': '阿里', 'T': '腾讯'}\n",
    "it = iter(links)\n",
    "print(next(it))  \n",
    "print(next(it))  \n",
    "print(next(it)) \n",
    "print(next(it))  "
   ]
  },
  {
   "cell_type": "code",
   "execution_count": 35,
   "metadata": {},
   "outputs": [
    {
     "name": "stdout",
     "output_type": "stream",
     "text": [
      "B\n",
      "A\n",
      "T\n"
     ]
    }
   ],
   "source": [
    "it = iter(links)\n",
    "while True:\n",
    "    try:\n",
    "        each = next(it)\n",
    "    except StopIteration:\n",
    "        break\n",
    "    print(each)"
   ]
  },
  {
   "cell_type": "markdown",
   "metadata": {},
   "source": [
    "把一个类作为一个迭代器使用需要在类中实现两个魔法方法 \\_\\_iter__() 与 \\_\\_next__() 。\n",
    "1. \\_\\_iter__(self) 定义当迭代容器中的元素的行为，返回一个特殊的迭代器对象,这个迭代器对象实现了\\_\\_next__() 方法并通过 StopIteration 异常标识迭代的完成。\n",
    "2. \\_\\_next__() 返回下一个迭代器对象。\n",
    "3. StopIteration 异常用于标识迭代的完成，防止出现无限循环的情况，在 \\_\\_next__() 方法中我们可以设置在完成指定循环次数后触发 StopIteration 异常来结束迭代。"
   ]
  },
  {
   "cell_type": "code",
   "execution_count": 36,
   "metadata": {},
   "outputs": [
    {
     "name": "stdout",
     "output_type": "stream",
     "text": [
      "1 1 2 3 5 8 13 21 34 55 89 "
     ]
    }
   ],
   "source": [
    "class Fibs:\n",
    "    def __init__(self, n=10):\n",
    "        self.a = 0\n",
    "        self.b = 1\n",
    "        self.n = n\n",
    "    def __iter__(self):\n",
    "        return self\n",
    "    def __next__(self):\n",
    "        self.a, self.b = self.b, self.a + self.b\n",
    "        if self.a > self.n:\n",
    "            raise StopIteration\n",
    "        return self.a\n",
    "\n",
    "\n",
    "fibs = Fibs(100)\n",
    "for each in fibs:\n",
    "    print(each, end=' ')"
   ]
  },
  {
   "cell_type": "markdown",
   "metadata": {},
   "source": [
    "# 10.生成器"
   ]
  },
  {
   "cell_type": "markdown",
   "metadata": {},
   "source": [
    "1. 在 Python 中，使用了 yield 的函数被称为生成器（generator）。\n",
    "2. 跟普通函数不同的是，生成器是一个返回迭代器的函数，只能用于迭代操作，更简单点理解生成器就是一个迭代器。\n",
    "3. 在调用生成器运行的过程中，每次遇到 yield 时函数会暂停并保存当前所有的运行信息，返回 yield 的值, 并在下\n",
    "一次执行 next() 方法时从当前位置继续运行。\n",
    "4. 调用一个生成器函数，返回的是一个迭代器对象。"
   ]
  },
  {
   "cell_type": "code",
   "execution_count": 2,
   "metadata": {},
   "outputs": [
    {
     "name": "stdout",
     "output_type": "stream",
     "text": [
      "生成器执行！\n",
      "1\n"
     ]
    }
   ],
   "source": [
    "def myGen():\n",
    "    print('生成器执行！')\n",
    "    yield 1\n",
    "    yield 2\n",
    "    \n",
    "myG = myGen()\n",
    "print(next(myG))"
   ]
  },
  {
   "cell_type": "code",
   "execution_count": 3,
   "metadata": {},
   "outputs": [
    {
     "name": "stdout",
     "output_type": "stream",
     "text": [
      "2\n"
     ]
    }
   ],
   "source": [
    "print(next(myG))"
   ]
  },
  {
   "cell_type": "code",
   "execution_count": 4,
   "metadata": {},
   "outputs": [
    {
     "ename": "StopIteration",
     "evalue": "",
     "output_type": "error",
     "traceback": [
      "\u001b[1;31m---------------------------------------------------------------------------\u001b[0m",
      "\u001b[1;31mStopIteration\u001b[0m                             Traceback (most recent call last)",
      "\u001b[1;32m<ipython-input-4-039abce905b3>\u001b[0m in \u001b[0;36m<module>\u001b[1;34m\u001b[0m\n\u001b[1;32m----> 1\u001b[1;33m \u001b[0mprint\u001b[0m\u001b[1;33m(\u001b[0m\u001b[0mnext\u001b[0m\u001b[1;33m(\u001b[0m\u001b[0mmyG\u001b[0m\u001b[1;33m)\u001b[0m\u001b[1;33m)\u001b[0m\u001b[1;33m\u001b[0m\u001b[1;33m\u001b[0m\u001b[0m\n\u001b[0m",
      "\u001b[1;31mStopIteration\u001b[0m: "
     ]
    }
   ],
   "source": [
    "print(next(myG))"
   ]
  },
  {
   "cell_type": "code",
   "execution_count": 5,
   "metadata": {},
   "outputs": [
    {
     "name": "stdout",
     "output_type": "stream",
     "text": [
      "生成器执行！\n",
      "1\n",
      "2\n"
     ]
    }
   ],
   "source": [
    "myG = myGen()\n",
    "for each in myG:\n",
    "    print(each)"
   ]
  }
 ],
 "metadata": {
  "kernelspec": {
   "display_name": "Python 3",
   "language": "python",
   "name": "python3"
  },
  "language_info": {
   "codemirror_mode": {
    "name": "ipython",
    "version": 3
   },
   "file_extension": ".py",
   "mimetype": "text/x-python",
   "name": "python",
   "nbconvert_exporter": "python",
   "pygments_lexer": "ipython3",
   "version": "3.8.5"
  }
 },
 "nbformat": 4,
 "nbformat_minor": 4
}
