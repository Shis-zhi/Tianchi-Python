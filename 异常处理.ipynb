{
 "cells": [
  {
   "cell_type": "markdown",
   "metadata": {},
   "source": [
    "# 1.try - except语句\n",
    "```python\n",
    "try:\n",
    "    检测范围 \n",
    "except Exception [as reason]:\n",
    "    出现异常后的处理代码\n",
    "```"
   ]
  },
  {
   "cell_type": "markdown",
   "metadata": {},
   "source": [
    "1. 首先执行try部分的语句\n",
    "2. 如果无异常发生，则忽略except部分\n",
    "3. 如果在try部分有异常发生，那么try部分余下的语句将会被忽略，如果异常的类型与except部分的名称相符，那么将会执行except部分的语句，最后再执行try部分的剩余代码\n",
    "4.如果一个异常没有与任何的except匹配，那么这个异常会传输给上层的try"
   ]
  },
  {
   "cell_type": "code",
   "execution_count": 1,
   "metadata": {},
   "outputs": [
    {
     "name": "stdout",
     "output_type": "stream",
     "text": [
      "打开文件时出错\n"
     ]
    }
   ],
   "source": [
    "try:\n",
    "    f = open('text.txt')\n",
    "    print(f.read())\n",
    "    f.close()\n",
    "except OSError:\n",
    "    print('打开文件时出错')"
   ]
  },
  {
   "cell_type": "markdown",
   "metadata": {},
   "source": [
    "一个try可能包含多个except语句，分别用来处理不同特定的异常，但最多只有一个会被执行，示例如下："
   ]
  },
  {
   "cell_type": "code",
   "execution_count": 2,
   "metadata": {},
   "outputs": [
    {
     "name": "stdout",
     "output_type": "stream",
     "text": [
      "数值出错\n",
      "原因是：invalid literal for int() with base 10: 'abc'\n"
     ]
    }
   ],
   "source": [
    "try:\n",
    "    int('abc')\n",
    "    s = 1 + '1'\n",
    "    f = open('text.txt')\n",
    "    print(f.read())\n",
    "    f.close()\n",
    "except OSError as error:\n",
    "    print(\"打开文件时出错\\n原因是：\" + str(error))\n",
    "except TypeError as error:\n",
    "    print(\"类型出错\\n原因是：\" + str(error))\n",
    "except ValueError as error:\n",
    "    print(\"数值出错\\n原因是：\" + str(error))"
   ]
  },
  {
   "cell_type": "markdown",
   "metadata": {},
   "source": [
    "由此可见，try部分出现的第一个异常对应的except部分会被执行，其余的都不会被执行"
   ]
  },
  {
   "cell_type": "code",
   "execution_count": 4,
   "metadata": {},
   "outputs": [
    {
     "name": "stdout",
     "output_type": "stream",
     "text": [
      "查询错误\n"
     ]
    }
   ],
   "source": [
    "dict = {'a': 1, 'b': 2, 'v': 22}\n",
    "try:\n",
    "    x = dict['y']\n",
    "except LookupError:\n",
    "    print('查询错误')\n",
    "except KeyError:\n",
    "    print('键错误')\n",
    "else:\n",
    "    print(x)"
   ]
  },
  {
   "cell_type": "markdown",
   "metadata": {},
   "source": [
    "上述异常准确地说应该属于KeyError，但由于KeyError是LookupError的子类，并且LookupError位于KeyError前面，所有程序会且只会执行LookupError部分的代码"
   ]
  },
  {
   "cell_type": "code",
   "execution_count": 5,
   "metadata": {},
   "outputs": [
    {
     "name": "stdout",
     "output_type": "stream",
     "text": [
      "键错误\n"
     ]
    }
   ],
   "source": [
    "dict = {'a': 1, 'b': 2, 'v': 22}\n",
    "try:\n",
    "    x = dict['y']\n",
    "except KeyError:\n",
    "    print('键错误')\n",
    "except LookupError:\n",
    "    print('查询错误')\n",
    "else:\n",
    "    print(x)"
   ]
  },
  {
   "cell_type": "markdown",
   "metadata": {},
   "source": [
    "一个except语句可以同时处理多个异常，这些异常被放在一个括号里成为一个元组\n"
   ]
  },
  {
   "cell_type": "code",
   "execution_count": 6,
   "metadata": {},
   "outputs": [
    {
     "name": "stdout",
     "output_type": "stream",
     "text": [
      "出错了\n",
      "原因是：invalid literal for int() with base 10: 'abc'\n"
     ]
    }
   ],
   "source": [
    "try:\n",
    "    int('abc')\n",
    "    s = 1 + '1'\n",
    "    f = open('text.txt')\n",
    "    print(f.read())\n",
    "    f.close()\n",
    "except (OSError,TypeError,ValueError) as error:\n",
    "    print('出错了\\n原因是：' + str(error))"
   ]
  },
  {
   "cell_type": "markdown",
   "metadata": {},
   "source": [
    "# 2.try - except - finally 语句\n",
    "```python\n",
    "try:\n",
    "    检测范围\n",
    "except Exception[ as reason]:\n",
    "    出现异常后的处理代码\n",
    "finally:\n",
    "    无论如何都会被执行的代码\n",
    "```"
   ]
  },
  {
   "cell_type": "code",
   "execution_count": 9,
   "metadata": {},
   "outputs": [
    {
     "name": "stdout",
     "output_type": "stream",
     "text": [
      "result is 2.0\n",
      "executing finally clause!\n",
      "division by zero!\n",
      "executing finally clause!\n"
     ]
    }
   ],
   "source": [
    "def divide(x, y):\n",
    "    try:\n",
    "        result = x / y\n",
    "        print('result is', result)\n",
    "    except ZeroDivisionError:\n",
    "        print('division by zero!')\n",
    "    finally:\n",
    "        print('executing finally clause!')\n",
    "        \n",
    "divide(2, 1)\n",
    "divide(2, 0)"
   ]
  },
  {
   "cell_type": "markdown",
   "metadata": {},
   "source": [
    "# 3.try - except - else 语句\n",
    "```python\n",
    "try:\n",
    "    检测范围\n",
    "except:\n",
    "    出现异常后的处理代码\n",
    "else:\n",
    "    如果没有异常执行此代码块\n",
    "```\n",
    "不过，except后不带任何异常类型会使其捕获所有异常。\n",
    "```python\n",
    "try:\n",
    "    检测范围\n",
    "except (Exception1[, Exception2...]):\n",
    "    出现异常后的处理代码\n",
    "else:\n",
    "    如果没有异常执行此代码块\n",
    "```"
   ]
  },
  {
   "cell_type": "code",
   "execution_count": 12,
   "metadata": {},
   "outputs": [
    {
     "name": "stdout",
     "output_type": "stream",
     "text": [
      "内容写入成功\n"
     ]
    }
   ],
   "source": [
    "try:\n",
    "    f = open('testfile','w')\n",
    "    f.write(\"测试文件\")\n",
    "except IOError:\n",
    "    print(\"ERROR:未找到文件或者读取文件失败\")\n",
    "else:\n",
    "    print('内容写入成功')\n",
    "    f.close()"
   ]
  },
  {
   "cell_type": "markdown",
   "metadata": {},
   "source": [
    "# 4.raise语句\n",
    "用于抛出一个指定的异常"
   ]
  },
  {
   "cell_type": "code",
   "execution_count": 13,
   "metadata": {},
   "outputs": [
    {
     "name": "stdout",
     "output_type": "stream",
     "text": [
      "An exception flew by.\n",
      "Hi there\n"
     ]
    }
   ],
   "source": [
    "try:\n",
    "    raise NameError('Hi there')\n",
    "except NameError as reason:\n",
    "    print('An exception flew by.\\n' + str(reason))"
   ]
  },
  {
   "cell_type": "code",
   "execution_count": null,
   "metadata": {},
   "outputs": [],
   "source": []
  }
 ],
 "metadata": {
  "kernelspec": {
   "display_name": "Python 3",
   "language": "python",
   "name": "python3"
  },
  "language_info": {
   "codemirror_mode": {
    "name": "ipython",
    "version": 3
   },
   "file_extension": ".py",
   "mimetype": "text/x-python",
   "name": "python",
   "nbconvert_exporter": "python",
   "pygments_lexer": "ipython3",
   "version": "3.8.5"
  }
 },
 "nbformat": 4,
 "nbformat_minor": 4
}
