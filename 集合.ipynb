{
 "cells": [
  {
   "cell_type": "markdown",
   "id": "d0522195",
   "metadata": {},
   "source": [
    "# 1.集合的创建"
   ]
  },
  {
   "cell_type": "markdown",
   "id": "5f861d5b",
   "metadata": {},
   "source": [
    "1. 先创建对象再加入元素。\n",
    "2. 在创建空集合的时候只能使用 s = set() ，因为 s = {} 创建的是空字典。"
   ]
  },
  {
   "cell_type": "code",
   "execution_count": 1,
   "id": "a16cf67a",
   "metadata": {},
   "outputs": [
    {
     "name": "stdout",
     "output_type": "stream",
     "text": [
      "{'apple', 'banana'}\n"
     ]
    }
   ],
   "source": [
    "basket = set()\n",
    "basket.add('apple')\n",
    "basket.add('banana')\n",
    "print(basket) "
   ]
  },
  {
   "cell_type": "markdown",
   "id": "b662929e",
   "metadata": {},
   "source": [
    "1. 直接把一堆元素用花括号括起来 {元素1, 元素2, ..., 元素n} 。\n",
    "2. 重复元素在 set 中会被自动被过滤。"
   ]
  },
  {
   "cell_type": "code",
   "execution_count": 2,
   "id": "3195cdd3",
   "metadata": {},
   "outputs": [
    {
     "name": "stdout",
     "output_type": "stream",
     "text": [
      "{'banana', 'apple', 'orange', 'pear'}\n"
     ]
    }
   ],
   "source": [
    "basket = {'apple', 'orange', 'apple', 'pear', 'orange', 'banana'}\n",
    "print(basket) "
   ]
  },
  {
   "cell_type": "markdown",
   "id": "476c67a2",
   "metadata": {},
   "source": [
    "1.使用 set(value) 工厂函数，把列表或元组转换成集合。"
   ]
  },
  {
   "cell_type": "code",
   "execution_count": 4,
   "id": "90036a55",
   "metadata": {},
   "outputs": [
    {
     "name": "stdout",
     "output_type": "stream",
     "text": [
      "{'c', 'r', 'a', 'b', 'd'}\n",
      "{'Google', 'Taobao', 'Lsgogroup'}\n",
      "{'Google', 'Taobao', 'Lsgogroup'}\n"
     ]
    }
   ],
   "source": [
    "a = set('abracadabra')\n",
    "print(a) \n",
    " \n",
    "b = set((\"Google\", \"Lsgogroup\", \"Taobao\", \"Taobao\"))\n",
    "print(b) \n",
    " \n",
    "c = set([\"Google\", \"Lsgogroup\", \"Taobao\", \"Google\"])\n",
    "print(c) "
   ]
  },
  {
   "cell_type": "markdown",
   "id": "4b11d175",
   "metadata": {},
   "source": [
    "由此发现集合的两个特点：**无序** 和 **唯一**   \n",
    "由于其无序，我们不可以为其创建索引或执行切片操作，也没有键可用来获取集合中元素的值"
   ]
  },
  {
   "cell_type": "markdown",
   "id": "45318ac4",
   "metadata": {},
   "source": [
    "# 2.访问集合中元素的值"
   ]
  },
  {
   "cell_type": "markdown",
   "id": "d2208e07",
   "metadata": {},
   "source": [
    "### 可以使用 len() 內建函数得到集合的大小。"
   ]
  },
  {
   "cell_type": "code",
   "execution_count": 5,
   "id": "0316c22a",
   "metadata": {},
   "outputs": [
    {
     "name": "stdout",
     "output_type": "stream",
     "text": [
      "3\n"
     ]
    }
   ],
   "source": [
    "thisset = set(['Google', 'Baidu', 'Taobao'])\n",
    "print(len(thisset)) "
   ]
  },
  {
   "cell_type": "markdown",
   "id": "ac73c319",
   "metadata": {},
   "source": [
    "### 可以使用 for 把集合中的数据一个个读取出来。"
   ]
  },
  {
   "cell_type": "code",
   "execution_count": 6,
   "id": "0d2c63b5",
   "metadata": {},
   "outputs": [
    {
     "name": "stdout",
     "output_type": "stream",
     "text": [
      "Baidu\n",
      "Google\n",
      "Taobao\n"
     ]
    }
   ],
   "source": [
    "thisset = set(['Google', 'Baidu', 'Taobao'])\n",
    "for item in thisset:\n",
    "    print(item)"
   ]
  },
  {
   "cell_type": "markdown",
   "id": "4241df78",
   "metadata": {},
   "source": [
    "### 可以通过 in 或 not in 判断一个元素是否在集合中已经存在"
   ]
  },
  {
   "cell_type": "code",
   "execution_count": 7,
   "id": "1d484dee",
   "metadata": {},
   "outputs": [
    {
     "name": "stdout",
     "output_type": "stream",
     "text": [
      "True\n",
      "True\n"
     ]
    }
   ],
   "source": [
    "thisset = set(['Google', 'Baidu', 'Taobao'])\n",
    "print('Taobao' in thisset)  \n",
    "print('Facebook' not in thisset)  "
   ]
  },
  {
   "cell_type": "markdown",
   "id": "67bd86fb",
   "metadata": {},
   "source": [
    "# 3.集合的内置方法"
   ]
  },
  {
   "cell_type": "markdown",
   "id": "28aed46a",
   "metadata": {},
   "source": [
    "### set.add(elmnt) 用于给集合添加元素，如果添加的元素在集合中已存在，则不执行任何操作。"
   ]
  },
  {
   "cell_type": "code",
   "execution_count": 8,
   "id": "843df62a",
   "metadata": {},
   "outputs": [
    {
     "name": "stdout",
     "output_type": "stream",
     "text": [
      "{'apple', 'orange', 'cherry', 'banana'}\n",
      "{'apple', 'orange', 'cherry', 'banana'}\n"
     ]
    }
   ],
   "source": [
    "fruits = {\"apple\", \"banana\", \"cherry\"}\n",
    "fruits.add(\"orange\")\n",
    "print(fruits) \n",
    " \n",
    "fruits.add(\"apple\")\n",
    "print(fruits) "
   ]
  },
  {
   "cell_type": "markdown",
   "id": "848557d6",
   "metadata": {},
   "source": [
    "### set.update(set) 用于修改当前集合，可以添加新的元素或集合到当前集合中，如果添加的元素在集合中已存在，则该元素只会出现一次，重复的会忽略。"
   ]
  },
  {
   "cell_type": "code",
   "execution_count": 10,
   "id": "b0f04de5",
   "metadata": {},
   "outputs": [
    {
     "name": "stdout",
     "output_type": "stream",
     "text": [
      "{'cherry', 'banana', 'google', 'apple', 'baidu'}\n",
      "{'dreamtech', 'google', 'lsgo', 'apple', 'baidu'}\n"
     ]
    }
   ],
   "source": [
    "x = {\"apple\", \"banana\", \"cherry\"}\n",
    "y = {\"google\", \"baidu\", \"apple\"}\n",
    "x.update(y)\n",
    "print(x)\n",
    " \n",
    "y.update([\"lsgo\", \"dreamtech\"])\n",
    "print(y)"
   ]
  },
  {
   "cell_type": "markdown",
   "id": "5cbd710f",
   "metadata": {},
   "source": [
    "### set.remove(item) 用于移除集合中的指定元素。如果元素不存在，则会发生错误。"
   ]
  },
  {
   "cell_type": "code",
   "execution_count": 11,
   "id": "006f9526",
   "metadata": {},
   "outputs": [
    {
     "name": "stdout",
     "output_type": "stream",
     "text": [
      "{'apple', 'cherry'}\n"
     ]
    }
   ],
   "source": [
    "fruits = {\"apple\", \"banana\", \"cherry\"}\n",
    "fruits.remove(\"banana\")\n",
    "print(fruits) "
   ]
  },
  {
   "cell_type": "markdown",
   "id": "bf8b39a3",
   "metadata": {},
   "source": [
    "### set.discard(value) 用于移除指定的集合元素。 remove() 方法在移除一个不存在的元素时会发生错误，而discard() 方法不会。"
   ]
  },
  {
   "cell_type": "code",
   "execution_count": 12,
   "id": "9a6a02ef",
   "metadata": {},
   "outputs": [
    {
     "name": "stdout",
     "output_type": "stream",
     "text": [
      "{'apple', 'cherry'}\n"
     ]
    }
   ],
   "source": [
    "fruits = {\"apple\", \"banana\", \"cherry\"}\n",
    "fruits.discard(\"banana\")\n",
    "print(fruits) "
   ]
  },
  {
   "cell_type": "markdown",
   "id": "08fedf68",
   "metadata": {},
   "source": [
    "### set.pop() 用于随机移除一个元素。"
   ]
  },
  {
   "cell_type": "code",
   "execution_count": 13,
   "id": "a70966b2",
   "metadata": {},
   "outputs": [
    {
     "name": "stdout",
     "output_type": "stream",
     "text": [
      "{'cherry', 'banana'}\n",
      "apple\n"
     ]
    }
   ],
   "source": [
    "fruits = {\"apple\", \"banana\", \"cherry\"}\n",
    "x = fruits.pop()\n",
    "print(fruits)  \n",
    "print(x)  "
   ]
  },
  {
   "cell_type": "markdown",
   "id": "1a047f9f",
   "metadata": {},
   "source": [
    "## 由于 set 是无序和无重复元素的集合，所以两个或多个 set 可以做数学意义上的集合操作。"
   ]
  },
  {
   "cell_type": "markdown",
   "id": "3e929a61",
   "metadata": {},
   "source": [
    "### 交集\n",
    "1. set.intersection(set1, set2 ...) 返回两个集合的交集。\n",
    "2. set1 & set2 返回两个集合的交集。\n",
    "3. set.intersection_update(set1, set2 ...) 交集，在原始的集合上移除不重叠的元素。"
   ]
  },
  {
   "cell_type": "code",
   "execution_count": 14,
   "id": "4e1d8de3",
   "metadata": {},
   "outputs": [
    {
     "name": "stdout",
     "output_type": "stream",
     "text": [
      "{'c', 'r', 'a', 'b', 'd'}\n",
      "{'c', 'z', 'm', 'l', 'a'}\n",
      "{'a', 'c'}\n",
      "{'a', 'c'}\n",
      "{'c', 'r', 'a', 'b', 'd'}\n",
      "{'a', 'c'}\n"
     ]
    }
   ],
   "source": [
    "a = set('abracadabra')\n",
    "b = set('alacazam')\n",
    "print(a)  \n",
    "print(b)  \n",
    "c = a.intersection(b)\n",
    "print(c)  \n",
    "print(a & b) \n",
    "print(a) \n",
    "a.intersection_update(b)\n",
    "print(a)  "
   ]
  },
  {
   "cell_type": "markdown",
   "id": "6a1f226b",
   "metadata": {},
   "source": [
    "### 并集\n",
    "1. set.union(set1, set2...) 返回两个集合的并集。\n",
    "2. set1 | set2 返回两个集合的并集。"
   ]
  },
  {
   "cell_type": "code",
   "execution_count": 15,
   "id": "38885ca7",
   "metadata": {},
   "outputs": [
    {
     "name": "stdout",
     "output_type": "stream",
     "text": [
      "{'c', 'r', 'a', 'b', 'd'}\n",
      "{'c', 'z', 'm', 'l', 'a'}\n",
      "{'c', 'z', 'r', 'm', 'l', 'a', 'b', 'd'}\n",
      "{'c', 'z', 'r', 'm', 'l', 'a', 'b', 'd'}\n"
     ]
    }
   ],
   "source": [
    "a = set('abracadabra')\n",
    "b = set('alacazam')\n",
    "print(a)  \n",
    "print(b)  \n",
    "print(a | b) \n",
    "c = a.union(b)\n",
    "print(c)  "
   ]
  },
  {
   "cell_type": "markdown",
   "id": "a79bf203",
   "metadata": {},
   "source": [
    "### 差集\n",
    "1. set.difference(set) 返回集合的差集。\n",
    "2. set1 - set2 返回集合的差集。\n",
    "3. set.difference_update(set) 集合的差集，直接在原来的集合中移除元素，没有返回值。"
   ]
  },
  {
   "cell_type": "code",
   "execution_count": 16,
   "id": "a77f65e1",
   "metadata": {},
   "outputs": [
    {
     "name": "stdout",
     "output_type": "stream",
     "text": [
      "{'c', 'r', 'a', 'b', 'd'}\n",
      "{'c', 'z', 'm', 'l', 'a'}\n",
      "{'b', 'd', 'r'}\n",
      "{'b', 'd', 'r'}\n",
      "{'c', 'r', 'a', 'b', 'd'}\n",
      "{'r', 'b', 'd'}\n"
     ]
    }
   ],
   "source": [
    "a = set('abracadabra')\n",
    "b = set('alacazam')\n",
    "print(a)  \n",
    "print(b)  \n",
    "c = a.difference(b)\n",
    "print(c) \n",
    "print(a - b) \n",
    "print(a)  \n",
    "a.difference_update(b)\n",
    "print(a)  "
   ]
  },
  {
   "cell_type": "markdown",
   "id": "6beb3235",
   "metadata": {},
   "source": [
    "### 异或\n",
    "1. set.symmetric_difference(set) 返回集合的异或。\n",
    "2. set1 ^ set2 返回集合的异或。\n",
    "3. set.symmetric_difference_update(set) 移除当前集合中在另外一个指定集合相同的元素，并将另外一个指定集合中不同的元素插入到当前集合中。"
   ]
  },
  {
   "cell_type": "code",
   "execution_count": 17,
   "id": "7c7e3dc2",
   "metadata": {},
   "outputs": [
    {
     "name": "stdout",
     "output_type": "stream",
     "text": [
      "{'c', 'r', 'a', 'b', 'd'}\n",
      "{'c', 'z', 'm', 'l', 'a'}\n",
      "{'m', 'z', 'l', 'r', 'b', 'd'}\n",
      "{'m', 'z', 'l', 'r', 'b', 'd'}\n",
      "{'c', 'r', 'a', 'b', 'd'}\n",
      "{'z', 'r', 'm', 'l', 'b', 'd'}\n"
     ]
    }
   ],
   "source": [
    "a = set('abracadabra')\n",
    "b = set('alacazam')\n",
    "print(a)  \n",
    "print(b) \n",
    "c = a.symmetric_difference(b)\n",
    "print(c)  \n",
    "print(a ^ b)  \n",
    "print(a)  \n",
    "a.symmetric_difference_update(b)\n",
    "print(a)  "
   ]
  },
  {
   "cell_type": "markdown",
   "id": "0ab3c3cd",
   "metadata": {},
   "source": [
    "### 包含与被包含\n",
    "1. set.issubset(set) 判断集合是不是被其他集合包含，如果是则返回 True，否则返回 False。\n",
    "2. set1 <= set2 判断集合是不是被其他集合包含，如果是则返回 True，否则返回 False。"
   ]
  },
  {
   "cell_type": "code",
   "execution_count": 18,
   "id": "e9c779ae",
   "metadata": {},
   "outputs": [
    {
     "name": "stdout",
     "output_type": "stream",
     "text": [
      "True\n",
      "True\n",
      "False\n",
      "False\n"
     ]
    }
   ],
   "source": [
    "x = {\"a\", \"b\", \"c\"}\n",
    "y = {\"f\", \"e\", \"d\", \"c\", \"b\", \"a\"}\n",
    "z = x.issubset(y)\n",
    "print(z)  \n",
    "print(x <= y)  \n",
    "x = {\"a\", \"b\", \"c\"}\n",
    "y = {\"f\", \"e\", \"d\", \"c\", \"b\"}\n",
    "z = x.issubset(y)\n",
    "print(z)  \n",
    "print(x <= y)  "
   ]
  },
  {
   "cell_type": "markdown",
   "id": "ff2b29f7",
   "metadata": {},
   "source": [
    "3. set.issuperset(set) 用于判断集合是不是包含其他集合，如果是则返回 True，否则返回 False。\n",
    "4. set1 >= set2 判断集合是不是包含其他集合，如果是则返回 True，否则返回 False。"
   ]
  },
  {
   "cell_type": "code",
   "execution_count": 19,
   "id": "33996ab9",
   "metadata": {},
   "outputs": [
    {
     "name": "stdout",
     "output_type": "stream",
     "text": [
      "True\n",
      "True\n",
      "False\n",
      "False\n"
     ]
    }
   ],
   "source": [
    "x = {\"f\", \"e\", \"d\", \"c\", \"b\", \"a\"}\n",
    "y = {\"a\", \"b\", \"c\"}\n",
    "z = x.issuperset(y)\n",
    "print(z)  \n",
    "print(x >= y)   \n",
    "x = {\"f\", \"e\", \"d\", \"c\", \"b\"}\n",
    "y = {\"a\", \"b\", \"c\"}\n",
    "z = x.issuperset(y)\n",
    "print(z)  \n",
    "print(x >= y) "
   ]
  },
  {
   "cell_type": "markdown",
   "id": "0bf52b23",
   "metadata": {},
   "source": [
    "### 相交\n",
    " set.isdisjoint(set) 用于判断两个集合是不是不相交，如果是返回 True，否则返回 False。"
   ]
  },
  {
   "cell_type": "code",
   "execution_count": 20,
   "id": "244c132a",
   "metadata": {},
   "outputs": [
    {
     "name": "stdout",
     "output_type": "stream",
     "text": [
      "False\n",
      "True\n"
     ]
    }
   ],
   "source": [
    "x = {\"f\", \"e\", \"d\", \"c\", \"b\"}\n",
    "y = {\"a\", \"b\", \"c\"}\n",
    "z = x.isdisjoint(y)\n",
    "print(z)  \n",
    "x = {\"f\", \"e\", \"d\", \"m\", \"g\"}\n",
    "y = {\"a\", \"b\", \"c\"}\n",
    "z = x.isdisjoint(y)\n",
    "print(z)  "
   ]
  },
  {
   "cell_type": "markdown",
   "id": "55d3b4da",
   "metadata": {},
   "source": [
    "# 4.集合的转换"
   ]
  },
  {
   "cell_type": "code",
   "execution_count": 21,
   "id": "d947721b",
   "metadata": {},
   "outputs": [
    {
     "name": "stdout",
     "output_type": "stream",
     "text": [
      "{0, 1, 2, 3} <class 'set'>\n",
      "[0, 1, 2, 3] <class 'list'>\n",
      "(0, 1, 2, 3) <class 'tuple'>\n"
     ]
    }
   ],
   "source": [
    "se = set(range(4))\n",
    "li = list(se)\n",
    "tu = tuple(se)\n",
    "print(se, type(se))  \n",
    "print(li, type(li))  \n",
    "print(tu, type(tu))  "
   ]
  },
  {
   "cell_type": "markdown",
   "id": "10dcc0db",
   "metadata": {},
   "source": [
    "# 5.不可变集合\n",
    "Python 提供了不能改变元素的集合的实现版本，即不能增加或删除元素，类型名叫 frozenset 。需要注意的\n",
    "是 frozenset 仍然可以进行集合操作，只是不能用带有 update 的方法。"
   ]
  },
  {
   "cell_type": "markdown",
   "id": "f8c7cb99",
   "metadata": {},
   "source": [
    "### frozenset(\\[iterable\\]) 返回一个冻结的集合，冻结后集合不能再添加或删除任何元素。"
   ]
  },
  {
   "cell_type": "code",
   "execution_count": 22,
   "id": "9e0c2fb1",
   "metadata": {},
   "outputs": [
    {
     "name": "stdout",
     "output_type": "stream",
     "text": [
      "frozenset({0, 1, 2, 3, 4, 5, 6, 7, 8, 9})\n",
      "frozenset({'g', 'r', 's', 'l', 'o', 'u', 'p'})\n"
     ]
    }
   ],
   "source": [
    "a = frozenset(range(10)) # 生成一个新的不可变集合\n",
    "print(a) \n",
    "b = frozenset('lsgogroup')\n",
    "print(b) "
   ]
  }
 ],
 "metadata": {
  "kernelspec": {
   "display_name": "Python 3",
   "language": "python",
   "name": "python3"
  },
  "language_info": {
   "codemirror_mode": {
    "name": "ipython",
    "version": 3
   },
   "file_extension": ".py",
   "mimetype": "text/x-python",
   "name": "python",
   "nbconvert_exporter": "python",
   "pygments_lexer": "ipython3",
   "version": "3.8.8"
  }
 },
 "nbformat": 4,
 "nbformat_minor": 5
}
