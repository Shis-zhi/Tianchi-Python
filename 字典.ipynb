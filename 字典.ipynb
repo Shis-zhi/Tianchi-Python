{
 "cells": [
  {
   "cell_type": "markdown",
   "id": "48ad168c",
   "metadata": {},
   "source": [
    "# 1.可变类型与不可变类型"
   ]
  },
  {
   "cell_type": "markdown",
   "id": "312abfc3",
   "metadata": {},
   "source": [
    "1. 序列是以连续的整数为索引，与此不同的是，字典以\"关键字\"为索引，关键字可以是任意不可变类型，通常用字符串或数值\n",
    "2. 字典是 Python 唯一的一个映射类型，字符串、元组、列表属于序列类型。"
   ]
  },
  {
   "cell_type": "markdown",
   "id": "bdea2e92",
   "metadata": {},
   "source": [
    "- 判断一个数据类型 Ｘ　是不是可变类型的两种方法：　　\n",
    "1. 麻烦方法：用 id(X) 函数，对 X 进行某种操作，比较操作前后的 id ，如果不一样，则 X 不可变，如果一样，则　X 可变。\n",
    "2. 便捷方法：用 hash(X) ，只要不报错，证明 X 可被哈希，即不可变，反过来不可被哈希，即可变。"
   ]
  },
  {
   "cell_type": "code",
   "execution_count": 1,
   "id": "8735346f",
   "metadata": {},
   "outputs": [
    {
     "name": "stdout",
     "output_type": "stream",
     "text": [
      "140704154003248\n",
      "140704154003312\n"
     ]
    }
   ],
   "source": [
    "i = 1\n",
    "print(id(i))\n",
    "i = i + 2\n",
    "print(id(i))"
   ]
  },
  {
   "cell_type": "markdown",
   "id": "c3e4603c",
   "metadata": {},
   "source": [
    "由此可见，整数是不可变类型"
   ]
  },
  {
   "cell_type": "code",
   "execution_count": 3,
   "id": "247788ff",
   "metadata": {},
   "outputs": [
    {
     "name": "stdout",
     "output_type": "stream",
     "text": [
      "2925314399552\n",
      "2925314399552\n"
     ]
    }
   ],
   "source": [
    "l = [1, 2]\n",
    "print(id(l))\n",
    "l.append('Python')\n",
    "print(id(l))"
   ]
  },
  {
   "cell_type": "markdown",
   "id": "f373fc8c",
   "metadata": {},
   "source": [
    "列表是可变类型"
   ]
  },
  {
   "cell_type": "code",
   "execution_count": 8,
   "id": "ff09686b",
   "metadata": {},
   "outputs": [
    {
     "name": "stdout",
     "output_type": "stream",
     "text": [
      "-7156059695043981903\n",
      "2577521880335949742\n"
     ]
    }
   ],
   "source": [
    "print(hash('Name')) \n",
    "print(hash((1, 2, 'Python'))) "
   ]
  },
  {
   "cell_type": "code",
   "execution_count": 6,
   "id": "39a5d9d6",
   "metadata": {},
   "outputs": [
    {
     "ename": "TypeError",
     "evalue": "unhashable type: 'list'",
     "output_type": "error",
     "traceback": [
      "\u001b[1;31m---------------------------------------------------------------------------\u001b[0m",
      "\u001b[1;31mTypeError\u001b[0m                                 Traceback (most recent call last)",
      "\u001b[1;32m<ipython-input-6-383bea8404e6>\u001b[0m in \u001b[0;36m<module>\u001b[1;34m\u001b[0m\n\u001b[1;32m----> 1\u001b[1;33m \u001b[0mprint\u001b[0m\u001b[1;33m(\u001b[0m\u001b[0mhash\u001b[0m\u001b[1;33m(\u001b[0m\u001b[1;33m[\u001b[0m\u001b[1;36m1\u001b[0m\u001b[1;33m,\u001b[0m \u001b[1;36m2\u001b[0m\u001b[1;33m,\u001b[0m \u001b[1;34m'Python'\u001b[0m\u001b[1;33m]\u001b[0m\u001b[1;33m)\u001b[0m\u001b[1;33m)\u001b[0m\u001b[1;33m\u001b[0m\u001b[1;33m\u001b[0m\u001b[0m\n\u001b[0m",
      "\u001b[1;31mTypeError\u001b[0m: unhashable type: 'list'"
     ]
    }
   ],
   "source": [
    "print(hash([1, 2, 'Python']))"
   ]
  },
  {
   "cell_type": "code",
   "execution_count": 7,
   "id": "9461380b",
   "metadata": {},
   "outputs": [
    {
     "ename": "TypeError",
     "evalue": "unhashable type: 'set'",
     "output_type": "error",
     "traceback": [
      "\u001b[1;31m---------------------------------------------------------------------------\u001b[0m",
      "\u001b[1;31mTypeError\u001b[0m                                 Traceback (most recent call last)",
      "\u001b[1;32m<ipython-input-7-d6f8f1d34026>\u001b[0m in \u001b[0;36m<module>\u001b[1;34m\u001b[0m\n\u001b[1;32m----> 1\u001b[1;33m \u001b[0mprint\u001b[0m\u001b[1;33m(\u001b[0m\u001b[0mhash\u001b[0m\u001b[1;33m(\u001b[0m\u001b[1;33m{\u001b[0m\u001b[1;36m1\u001b[0m\u001b[1;33m,\u001b[0m \u001b[1;36m2\u001b[0m\u001b[1;33m,\u001b[0m \u001b[1;36m3\u001b[0m\u001b[1;33m}\u001b[0m\u001b[1;33m)\u001b[0m\u001b[1;33m)\u001b[0m\u001b[1;33m\u001b[0m\u001b[1;33m\u001b[0m\u001b[0m\n\u001b[0m",
      "\u001b[1;31mTypeError\u001b[0m: unhashable type: 'set'"
     ]
    }
   ],
   "source": [
    "print(hash({1, 2, 3}))"
   ]
  },
  {
   "cell_type": "markdown",
   "id": "9f58c238",
   "metadata": {},
   "source": [
    "1. 数值、字符和元组都能被哈希，因此它们是不可变类型  \n",
    "2. 列表、集合、字典不能被哈希，因此它是可变类型"
   ]
  },
  {
   "cell_type": "markdown",
   "id": "d71fc840",
   "metadata": {},
   "source": [
    "# 2.字典的定义"
   ]
  },
  {
   "cell_type": "markdown",
   "id": "5612fc30",
   "metadata": {},
   "source": [
    "字典是无序的 键:值（ key:value ）对集合，键必须是互不相同的（在同一个字典之内）。\n",
    "1. dict 内部存放的顺序和 key 放入的顺序是没有关系的。\n",
    "2. dict 查找和插入的速度极快，不会随着 key 的增加而增加，但是需要占用大量的内存。"
   ]
  },
  {
   "cell_type": "markdown",
   "id": "65035f08",
   "metadata": {},
   "source": [
    "字典 定义语法为 {元素1, 元素2, ..., 元素n}\n",
    "1. 其中每一个元素是一个「键值对」-- 键:值 ( key:value )\n",
    "2. 关键点是「大括号 {}」,「逗号 ,」和「冒号 :」\n",
    "3. 大括号 -- 把所有元素绑在一起\n",
    "4. 逗号 -- 将每个键值对分开\n",
    "5. 冒号 -- 将键和值分开"
   ]
  },
  {
   "cell_type": "markdown",
   "id": "229a59cd",
   "metadata": {},
   "source": [
    "# 3.创建和访问字典"
   ]
  },
  {
   "cell_type": "markdown",
   "id": "e9cf2349",
   "metadata": {},
   "source": [
    "字典的创建与列表类似，只不过字典的索引不一定是连续的整数，而是value对应的key"
   ]
  },
  {
   "cell_type": "markdown",
   "id": "de98954e",
   "metadata": {},
   "source": [
    "### dict() 创建一个空的字典"
   ]
  },
  {
   "cell_type": "code",
   "execution_count": 9,
   "id": "20afad5a",
   "metadata": {},
   "outputs": [
    {
     "name": "stdout",
     "output_type": "stream",
     "text": [
      "{'a': 1, 'b': 2, 'c': 3}\n",
      "{'a': 11, 'b': 2, 'c': 3}\n",
      "{'a': 11, 'b': 2, 'c': 3, 'd': 4}\n"
     ]
    }
   ],
   "source": [
    "dic = dict()\n",
    "dic['a'] = 1\n",
    "dic['b'] = 2\n",
    "dic['c'] = 3\n",
    "print(dic)\n",
    "dic['a'] = 11\n",
    "print(dic)\n",
    "dic['d'] = 4\n",
    "print(dic)"
   ]
  },
  {
   "cell_type": "markdown",
   "id": "42213c7e",
   "metadata": {},
   "source": [
    "### dict(mapping) 从映射对象的（键、值）对初始化的新字典"
   ]
  },
  {
   "cell_type": "code",
   "execution_count": 10,
   "id": "e89404ec",
   "metadata": {},
   "outputs": [
    {
     "name": "stdout",
     "output_type": "stream",
     "text": [
      "{'apple': 4139, 'peach': 4127, 'cherry': 4098}\n",
      "{'apple': 4139, 'peach': 4127, 'cherry': 4098}\n"
     ]
    }
   ],
   "source": [
    "dic1 = dict([('apple', 4139), ('peach', 4127), ('cherry', 4098)])\n",
    "print(dic1) \n",
    "dic2 = dict((('apple', 4139), ('peach', 4127), ('cherry', 4098)))\n",
    "print(dic2) "
   ]
  },
  {
   "cell_type": "markdown",
   "id": "964ef13b",
   "metadata": {},
   "source": [
    "### dict(**kwargs) 使用关键字参数列表中的 name=value 对,初始化新字典"
   ]
  },
  {
   "cell_type": "markdown",
   "id": "4cae9710",
   "metadata": {},
   "source": [
    "- 这种情况下，键只能为字符串类型，并且创建的时候字符串不能加引号，加上就会直接报语法错误"
   ]
  },
  {
   "cell_type": "code",
   "execution_count": 1,
   "id": "59776b21",
   "metadata": {},
   "outputs": [
    {
     "name": "stdout",
     "output_type": "stream",
     "text": [
      "{'name': 'Tom', 'age': 10}\n",
      "<class 'dict'>\n"
     ]
    }
   ],
   "source": [
    "dic = dict(name='Tom', age=10)\n",
    "print(dic) \n",
    "print(type(dic)) "
   ]
  },
  {
   "cell_type": "markdown",
   "id": "f97819b2",
   "metadata": {},
   "source": [
    "# 4.字典的内置方法\n"
   ]
  },
  {
   "cell_type": "markdown",
   "id": "fa43e06a",
   "metadata": {},
   "source": [
    "### dict.fromkeys(seq\\[, value\\]) 用于创建一个新字典，以序列 seq 中元素做字典的键， value 为字典所有键对应的初始值。"
   ]
  },
  {
   "cell_type": "code",
   "execution_count": 2,
   "id": "1eb69034",
   "metadata": {},
   "outputs": [
    {
     "name": "stdout",
     "output_type": "stream",
     "text": [
      "新的字典为 : {'name': None, 'age': None, 'sex': None}\n",
      "新的字典为 : {'name': 10, 'age': 10, 'sex': 10}\n",
      "新的字典为 : {'name': ('小马', '8', '男'), 'age': ('小马', '8', '男'), 'sex': ('小马', '8', '男')}\n"
     ]
    }
   ],
   "source": [
    "seq = ('name', 'age', 'sex')\n",
    "dic1 = dict.fromkeys(seq)\n",
    "print(\"新的字典为 : %s\" % str(dic1)) \n",
    "\n",
    "dic2 = dict.fromkeys(seq, 10)\n",
    "print(\"新的字典为 : %s\" % str(dic2)) \n",
    "\n",
    "dic3 = dict.fromkeys(seq, ('小马', '8', '男'))\n",
    "print(\"新的字典为 : %s\" % str(dic3)) \n"
   ]
  },
  {
   "cell_type": "markdown",
   "id": "85800edc",
   "metadata": {},
   "source": [
    "### dict.keys() 返回一个可迭代对象，可以使用 list() 来转换为列表，列表为字典中的所有键。"
   ]
  },
  {
   "cell_type": "code",
   "execution_count": 3,
   "id": "abb8f3d9",
   "metadata": {},
   "outputs": [
    {
     "name": "stdout",
     "output_type": "stream",
     "text": [
      "dict_keys(['Name', 'Age'])\n",
      "['Name', 'Age']\n"
     ]
    }
   ],
   "source": [
    "dic = {'Name': 'lsgogroup', 'Age': 7}\n",
    "print(dic.keys())  \n",
    "lst = list(dic.keys())  \n",
    "print(lst) "
   ]
  },
  {
   "cell_type": "markdown",
   "id": "94262133",
   "metadata": {},
   "source": [
    "### dict.values() 返回一个迭代器，可以使用 list() 来转换为列表，列表为字典中的所有值。"
   ]
  },
  {
   "cell_type": "code",
   "execution_count": 4,
   "id": "a4a0857b",
   "metadata": {},
   "outputs": [
    {
     "name": "stdout",
     "output_type": "stream",
     "text": [
      "字典所有值为 :  ['female', 7, 'Zara']\n"
     ]
    }
   ],
   "source": [
    "dic = {'Sex': 'female', 'Age': 7, 'Name': 'Zara'}\n",
    "print(\"字典所有值为 : \", list(dic.values())) "
   ]
  },
  {
   "cell_type": "markdown",
   "id": "b81f95cf",
   "metadata": {},
   "source": [
    "### dict.items() 以列表返回可遍历的 (键, 值) 元组数组。"
   ]
  },
  {
   "cell_type": "code",
   "execution_count": 5,
   "id": "29f46660",
   "metadata": {},
   "outputs": [
    {
     "name": "stdout",
     "output_type": "stream",
     "text": [
      "Value : dict_items([('Name', 'Lsgogroup'), ('Age', 7)])\n",
      "(('Name', 'Lsgogroup'), ('Age', 7))\n"
     ]
    }
   ],
   "source": [
    "dic = {'Name': 'Lsgogroup', 'Age': 7}\n",
    "print(\"Value : %s\" % dic.items()) \n",
    " \n",
    "print(tuple(dic.items()))"
   ]
  },
  {
   "cell_type": "markdown",
   "id": "7e0630fc",
   "metadata": {},
   "source": [
    "### dict.get(key, default=None) 返回指定键的值，如果值不在字典中返回默认值。"
   ]
  },
  {
   "cell_type": "code",
   "execution_count": 6,
   "id": "777214cd",
   "metadata": {},
   "outputs": [
    {
     "name": "stdout",
     "output_type": "stream",
     "text": [
      "Age 值为 : 27\n",
      "Sex 值为 : NA\n"
     ]
    }
   ],
   "source": [
    "dic = {'Name': 'Lsgogroup', 'Age': 27}\n",
    "print(\"Age 值为 : %s\" % dic.get('Age')) \n",
    "print(\"Sex 值为 : %s\" % dic.get('Sex', \"NA\")) "
   ]
  },
  {
   "cell_type": "markdown",
   "id": "ed16e2bf",
   "metadata": {},
   "source": [
    "### dict.setdefault(key, default=None) 和 get() 方法 类似, 如果键不存在于字典中，将会添加键并将值设为默认值。"
   ]
  },
  {
   "cell_type": "code",
   "execution_count": 7,
   "id": "6cfabb62",
   "metadata": {},
   "outputs": [
    {
     "name": "stdout",
     "output_type": "stream",
     "text": [
      "Age 键的值为 : 7\n",
      "Sex 键的值为 : None\n",
      "新字典为： {'Name': 'Lsgogroup', 'Age': 7, 'Sex': None}\n"
     ]
    }
   ],
   "source": [
    "dic = {'Name': 'Lsgogroup', 'Age': 7}\n",
    "print(\"Age 键的值为 : %s\" % dic.setdefault('Age', None))\n",
    "print(\"Sex 键的值为 : %s\" % dic.setdefault('Sex', None)) \n",
    "print(\"新字典为：\", dic) "
   ]
  },
  {
   "cell_type": "markdown",
   "id": "e5f6d3c9",
   "metadata": {},
   "source": [
    "### key in dict in 操作符用于判断键是否存在于字典中，如果键在字典 dict 里返回 true ，否则返回 false 。而 not in 操作符刚好相反，如果键在字典 dict 里返回 false ，否则返回 true 。"
   ]
  },
  {
   "cell_type": "code",
   "execution_count": 8,
   "id": "b58a23bf",
   "metadata": {},
   "outputs": [
    {
     "name": "stdout",
     "output_type": "stream",
     "text": [
      "键 Age 存在\n",
      "键 Sex 不存在\n",
      "键 Age 存在\n"
     ]
    }
   ],
   "source": [
    "dic = {'Name': 'Lsgogroup', 'Age': 7}\n",
    "if 'Age' in dic:\n",
    "    print(\"键 Age 存在\")\n",
    "else:\n",
    "    print(\"键 Age 不存在\")\n",
    "    \n",
    "if 'Sex' in dic:\n",
    "    print(\"键 Sex 存在\")\n",
    "else:\n",
    "    print(\"键 Sex 不存在\")\n",
    "    \n",
    "if 'Age' not in dic:\n",
    "    print(\"键 Age 不存在\")\n",
    "else:\n",
    "    print(\"键 Age 存在\")"
   ]
  },
  {
   "cell_type": "markdown",
   "id": "c258f121",
   "metadata": {},
   "source": [
    "### dict.pop(key\\[,default\\]) 删除字典给定键 key 所对应的值，返回值为被删除的值。 key 值必须给出。若 key不存在，则返回 default 值。\n",
    "### del dict\\[key\\] 删除字典给定键 key 所对应的值。\n"
   ]
  },
  {
   "cell_type": "code",
   "execution_count": 9,
   "id": "b0b5169f",
   "metadata": {},
   "outputs": [
    {
     "name": "stdout",
     "output_type": "stream",
     "text": [
      "a {2: [1, 2]}\n",
      "nokey {2: [1, 2]}\n",
      "{}\n"
     ]
    }
   ],
   "source": [
    "dic1 = {1: \"a\", 2: [1, 2]}\n",
    "print(dic1.pop(1), dic1) \n",
    "\n",
    "print(dic1.pop(3, \"nokey\"), dic1) # nokey {2: [1, 2]}\n",
    "del dic1[2]\n",
    "print(dic1) "
   ]
  },
  {
   "cell_type": "markdown",
   "id": "0fe5b319",
   "metadata": {},
   "source": [
    "### dict.popitem() 随机返回并删除字典中的一对键和值，如果字典已经为空，却调用了此方法，就报出KeyError异常。"
   ]
  },
  {
   "cell_type": "code",
   "execution_count": 10,
   "id": "842e0307",
   "metadata": {},
   "outputs": [
    {
     "name": "stdout",
     "output_type": "stream",
     "text": [
      "(2, [1, 2])\n",
      "{1: 'a'}\n"
     ]
    }
   ],
   "source": [
    "dic1 = {1: \"a\", 2: [1, 2]}\n",
    "print(dic1.popitem())\n",
    "print(dic1) "
   ]
  },
  {
   "cell_type": "markdown",
   "id": "598a6f5c",
   "metadata": {},
   "source": [
    "### dict.clear() 用于删除字典内所有元素。"
   ]
  },
  {
   "cell_type": "code",
   "execution_count": 13,
   "id": "8b4188c2",
   "metadata": {},
   "outputs": [
    {
     "name": "stdout",
     "output_type": "stream",
     "text": [
      "字典长度 : 2\n",
      "字典删除后长度 : 0\n"
     ]
    }
   ],
   "source": [
    "dict = {'Name': 'Zara', 'Age': 7}\n",
    "print(\"字典长度 : %d\" % len(dic)) \n",
    "dict.clear()\n",
    "print(\"字典删除后长度 : %d\" % len(dict)) "
   ]
  },
  {
   "cell_type": "markdown",
   "id": "32b9b817",
   "metadata": {},
   "source": [
    "### dict.copy() 返回一个字典的浅复制。"
   ]
  },
  {
   "cell_type": "code",
   "execution_count": 14,
   "id": "357cffb6",
   "metadata": {},
   "outputs": [
    {
     "name": "stdout",
     "output_type": "stream",
     "text": [
      "新复制的字典为 :  {'Name': 'Lsgogroup', 'Age': 7, 'Class': 'First'}\n"
     ]
    }
   ],
   "source": [
    "dic1 = {'Name': 'Lsgogroup', 'Age': 7, 'Class': 'First'}\n",
    "dic2 = dic1.copy()\n",
    "print(\"新复制的字典为 : \", dic2) "
   ]
  },
  {
   "cell_type": "markdown",
   "id": "f7843f59",
   "metadata": {},
   "source": [
    "#### 直接赋值和copy的区别"
   ]
  },
  {
   "cell_type": "code",
   "execution_count": 16,
   "id": "c8d3d9fd",
   "metadata": {},
   "outputs": [
    {
     "name": "stdout",
     "output_type": "stream",
     "text": [
      "2603868767424\n",
      "2603868767424\n",
      "2603868767232\n",
      "{'user': 'root', 'num': [2, 3]}\n",
      "{'user': 'root', 'num': [2, 3]}\n",
      "{'user': 'lsgogroup', 'num': [2, 3]}\n"
     ]
    }
   ],
   "source": [
    "dic1 = {'user': 'lsgogroup', 'num': [1, 2, 3]}\n",
    " \n",
    "dic2 = dic1 \n",
    "# 深拷贝父对象（一级目录），子对象（二级目录）不拷贝，还是引用\n",
    "dic3 = dic1.copy() \n",
    "print(id(dic1))  \n",
    "print(id(dic2))  \n",
    "print(id(dic3))  \n",
    " \n",
    "dic1['user'] = 'root'\n",
    "dic1['num'].remove(1)\n",
    " \n",
    "print(dic1)  \n",
    "print(dic2)  \n",
    "print(dic3)  "
   ]
  },
  {
   "cell_type": "markdown",
   "id": "904a2728",
   "metadata": {},
   "source": [
    "### dict.update(dict2) 把字典参数 dict2 的 key:value 对 更新到字典 dict 里。"
   ]
  },
  {
   "cell_type": "code",
   "execution_count": 17,
   "id": "96a2fad8",
   "metadata": {},
   "outputs": [
    {
     "name": "stdout",
     "output_type": "stream",
     "text": [
      "更新字典 dict :  {'Name': 'Lsgogroup', 'Age': 8, 'Sex': 'female'}\n"
     ]
    }
   ],
   "source": [
    "dic = {'Name': 'Lsgogroup', 'Age': 7}\n",
    "dic2 = {'Sex': 'female', 'Age': 8}\n",
    "dic.update(dic2)\n",
    "print(\"更新字典 dict : \", dic) "
   ]
  }
 ],
 "metadata": {
  "kernelspec": {
   "display_name": "Python 3",
   "language": "python",
   "name": "python3"
  },
  "language_info": {
   "codemirror_mode": {
    "name": "ipython",
    "version": 3
   },
   "file_extension": ".py",
   "mimetype": "text/x-python",
   "name": "python",
   "nbconvert_exporter": "python",
   "pygments_lexer": "ipython3",
   "version": "3.8.8"
  }
 },
 "nbformat": 4,
 "nbformat_minor": 5
}
