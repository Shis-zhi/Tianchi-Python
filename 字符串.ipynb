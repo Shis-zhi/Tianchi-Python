{
 "cells": [
  {
   "cell_type": "markdown",
   "id": "3c016c34",
   "metadata": {},
   "source": [
    "# 1.字符串的定义"
   ]
  },
  {
   "cell_type": "markdown",
   "id": "dcf9ed83",
   "metadata": {},
   "source": [
    "1. Python中的字符串被定义为引号之间的字符集合  \n",
    "2. Python支持使用成对的单引号或双引号"
   ]
  },
  {
   "cell_type": "code",
   "execution_count": 1,
   "id": "21d71471",
   "metadata": {},
   "outputs": [
    {
     "name": "stdout",
     "output_type": "stream",
     "text": [
      "I love python <class 'str'>\n"
     ]
    }
   ],
   "source": [
    "t1 = 'I love python'\n",
    "print(t1, type(t1))"
   ]
  },
  {
   "cell_type": "code",
   "execution_count": 2,
   "id": "49a1c34f",
   "metadata": {},
   "outputs": [
    {
     "name": "stdout",
     "output_type": "stream",
     "text": [
      "13\n",
      "58\n"
     ]
    }
   ],
   "source": [
    "print(5 + 8)\n",
    "print('5' + '8')"
   ]
  },
  {
   "cell_type": "markdown",
   "id": "404e2421",
   "metadata": {},
   "source": [
    "- 如果字符串中需要出现单引号或双引号，可以用转义字符 \\ 对字符串中的字符进行转义（和C类似）"
   ]
  },
  {
   "cell_type": "code",
   "execution_count": 3,
   "id": "9d146691",
   "metadata": {},
   "outputs": [
    {
     "name": "stdout",
     "output_type": "stream",
     "text": [
      "let's go\n",
      "let's go\n"
     ]
    }
   ],
   "source": [
    "print('let\\'s go')\n",
    "print(\"let's go\")"
   ]
  },
  {
   "cell_type": "markdown",
   "id": "e1c495a0",
   "metadata": {},
   "source": [
    "- 原始字符串只需要在字符串前面加一个英文字母r即可"
   ]
  },
  {
   "cell_type": "code",
   "execution_count": 4,
   "id": "b7393beb",
   "metadata": {},
   "outputs": [
    {
     "name": "stdout",
     "output_type": "stream",
     "text": [
      "C:\\Program Files\n"
     ]
    }
   ],
   "source": [
    "print(r'C:\\Program Files')"
   ]
  },
  {
   "cell_type": "markdown",
   "id": "26770cb5",
   "metadata": {},
   "source": [
    "- Python三引号允许一个字符串跨多行，字符串中可以包含换行符，制表符以及其他特殊字符"
   ]
  },
  {
   "cell_type": "code",
   "execution_count": 6,
   "id": "1f7ff316",
   "metadata": {},
   "outputs": [
    {
     "name": "stdout",
     "output_type": "stream",
     "text": [
      "这是一个多行字符串的实例\n",
      "多行字符串可以使用制表符\n",
      "Tab(\t)\n",
      "也可以使用换行符(\n",
      ")\n",
      "\n"
     ]
    }
   ],
   "source": [
    "para_str = \"\"\"这是一个多行字符串的实例\n",
    "多行字符串可以使用制表符\n",
    "Tab(\\t)\n",
    "也可以使用换行符(\\n)\n",
    "\"\"\"\n",
    "print(para_str)"
   ]
  },
  {
   "cell_type": "markdown",
   "id": "ed66fba1",
   "metadata": {},
   "source": [
    "# 2.字符串的切片与拼接"
   ]
  },
  {
   "cell_type": "markdown",
   "id": "4d3f2874",
   "metadata": {},
   "source": [
    "1. 类似于元组具有不可更改性  \n",
    "2. 从0开始（和C相同）  \n",
    "3. 切片通常写成 start:end 这种形式，包括\\[start索引\\]所对应的元素，不包括\\[end索引\\]所对应的元素\n",
    "4. 索引值可正可负，正索引从0开始，从左向右，负索引从-1开始，从右向左。"
   ]
  },
  {
   "cell_type": "markdown",
   "id": "348bde0a",
   "metadata": {},
   "source": [
    "# 3.字符串的常用内置方法"
   ]
  },
  {
   "cell_type": "markdown",
   "id": "208354ce",
   "metadata": {},
   "source": [
    "### capitalize() 将字符串中的第一个字符转换为大写"
   ]
  },
  {
   "cell_type": "code",
   "execution_count": 7,
   "id": "ee177e96",
   "metadata": {},
   "outputs": [
    {
     "name": "stdout",
     "output_type": "stream",
     "text": [
      "Xiaoxie\n"
     ]
    }
   ],
   "source": [
    "str1 = 'xiaoxie'\n",
    "print(str1.capitalize())"
   ]
  },
  {
   "cell_type": "markdown",
   "id": "caf55bbe",
   "metadata": {},
   "source": [
    "### lower()转换字符串中所有大写字符为小写"
   ]
  },
  {
   "cell_type": "markdown",
   "id": "904a56b4",
   "metadata": {},
   "source": [
    "### upper()转换字符串中所有小写字符为大写"
   ]
  },
  {
   "cell_type": "markdown",
   "id": "381a495c",
   "metadata": {},
   "source": [
    "### swapcase()将字符串中大写转换为小写，小写转换为大写"
   ]
  },
  {
   "cell_type": "markdown",
   "id": "cbf7fcb4",
   "metadata": {},
   "source": [
    "### count(str, beg=0, end=len(string))返回str在string里面出现的次数，如果beg或者end指定，则返回指定范围内str出现的次数"
   ]
  },
  {
   "cell_type": "code",
   "execution_count": 8,
   "id": "ef4f0327",
   "metadata": {},
   "outputs": [
    {
     "name": "stdout",
     "output_type": "stream",
     "text": [
      "2\n"
     ]
    }
   ],
   "source": [
    "str2 = \"DAXIExiaoxie\"\n",
    "print(str2.count('xi'))"
   ]
  },
  {
   "cell_type": "markdown",
   "id": "819ce828",
   "metadata": {},
   "source": [
    "### endswith(suffix, beg=0, end=len(string))检查字符串是否以指定字符串suffix结尾，如果是，返回True，否则返回False\n",
    "### startswith(substr, beg=0, end=len(string))检查字符串是否以指定字符串substr开头，如果是，返回True，否则返回False"
   ]
  },
  {
   "cell_type": "code",
   "execution_count": 9,
   "id": "4bddc494",
   "metadata": {},
   "outputs": [
    {
     "name": "stdout",
     "output_type": "stream",
     "text": [
      "True\n",
      "False\n",
      "False\n",
      "True\n"
     ]
    }
   ],
   "source": [
    "str2 = \"DAXIExiaoxie\"\n",
    "print(str2.endswith('ie'))\n",
    "print(str2.endswith('xi'))\n",
    "print(str2.startswith('Da'))\n",
    "print(str2.startswith('DA'))"
   ]
  },
  {
   "cell_type": "markdown",
   "id": "fddc9a3d",
   "metadata": {},
   "source": [
    "### find(str, beg=0, end=len(string))检测str是否包含在字符串中，如果指定范围beg和end，则检查是否包含在指定范围内，如果包含，返回开始的索引值，否则返回-1\n",
    "### rfind(str, beg=0, end=len(string))类似于find()函数，不过是从右边开始查找"
   ]
  },
  {
   "cell_type": "code",
   "execution_count": 1,
   "id": "8c3ea9ff",
   "metadata": {},
   "outputs": [
    {
     "name": "stdout",
     "output_type": "stream",
     "text": [
      "5\n",
      "-1\n",
      "9\n"
     ]
    }
   ],
   "source": [
    "str2 = \"DAXIExiaoxie\"\n",
    "print(str2.find('xi'))\n",
    "print(str2.find('ix'))\n",
    "print(str2.rfind('xi'))"
   ]
  },
  {
   "cell_type": "markdown",
   "id": "82b8d014",
   "metadata": {},
   "source": [
    "### isnumeric()如果字符串中只包含数字字符，则返回True，否则返回False"
   ]
  },
  {
   "cell_type": "code",
   "execution_count": 3,
   "id": "b613c1da",
   "metadata": {},
   "outputs": [
    {
     "name": "stdout",
     "output_type": "stream",
     "text": [
      "True\n",
      "False\n"
     ]
    }
   ],
   "source": [
    "str3 = '12345'\n",
    "print(str3.isnumeric())\n",
    "str3 += 'a'\n",
    "print(str3.isnumeric())"
   ]
  },
  {
   "cell_type": "markdown",
   "id": "93ae2b08",
   "metadata": {},
   "source": [
    "### ljust(width\\[, fillchar\\])返回一个原字符串左对齐，并使用fillchar(默认空格)填充至长度width的新字符串\n",
    "### rjust(width\\[, fillchar\\])返回一个原字符串右对齐，并使用fillchar(默认空格)填充至长度width的新字符串"
   ]
  },
  {
   "cell_type": "code",
   "execution_count": 4,
   "id": "e323b847",
   "metadata": {},
   "outputs": [
    {
     "name": "stdout",
     "output_type": "stream",
     "text": [
      "11010000\n",
      "00001101\n"
     ]
    }
   ],
   "source": [
    "str4 = '1101'\n",
    "print(str4.ljust(8, '0'))\n",
    "print(str4.rjust(8, '0'))"
   ]
  },
  {
   "cell_type": "markdown",
   "id": "7310080b",
   "metadata": {},
   "source": [
    "### lstrip(\\[chars\\])  裁掉字符串左边的空格或指定字符\n",
    "### rstrip(\\[chars\\])  裁掉字符串右边的空格或指定字符\n",
    "### strip(\\[chars\\])  在字符串上执行lstrip()和rstrip()"
   ]
  },
  {
   "cell_type": "code",
   "execution_count": 5,
   "id": "82b376d6",
   "metadata": {},
   "outputs": [
    {
     "name": "stdout",
     "output_type": "stream",
     "text": [
      "I love LsgoGroup \n",
      " love LsgoGroup \n",
      " I love LsgoGroup\n",
      "I love LsgoGroup\n",
      "I love LsgoGrou\n"
     ]
    }
   ],
   "source": [
    "str5 = ' I love LsgoGroup '\n",
    "print(str5.lstrip())\n",
    "print(str5.lstrip().strip('I'))\n",
    "print(str5.rstrip())\n",
    "print(str5.strip())\n",
    "print(str5.strip().strip('p'))"
   ]
  },
  {
   "cell_type": "markdown",
   "id": "f52eb4c6",
   "metadata": {},
   "source": [
    "### partition(sub) 找到子字符串sub，把字符串分为一个三元组(pre_sub, sub, fol_sub)，如果字符串中不包含sub，则返回('原字符串','' ,'' )\n",
    "### rpartation(sub) 与partition()类似，只不过是从右侧开始查找"
   ]
  },
  {
   "cell_type": "code",
   "execution_count": 6,
   "id": "1dd83c51",
   "metadata": {},
   "outputs": [
    {
     "name": "stdout",
     "output_type": "stream",
     "text": [
      "('I l', 'o', 've LsgoGroup')\n",
      "('I love LsgoGroup', '', '')\n",
      "('I love LsgoGr', 'o', 'up')\n"
     ]
    }
   ],
   "source": [
    "str5 = ' I love LsgoGroup '\n",
    "print(str5.strip().partition('o'))\n",
    "print(str5.strip().partition('m'))\n",
    "print(str5.strip().rpartition('o'))"
   ]
  },
  {
   "cell_type": "markdown",
   "id": "e2809ae5",
   "metadata": {},
   "source": [
    "### replace(old, new\\[, max\\]) 把字符串中的old替换成new， 如果max指定，则替换不超过max次"
   ]
  },
  {
   "cell_type": "code",
   "execution_count": 7,
   "id": "3d58f565",
   "metadata": {},
   "outputs": [
    {
     "name": "stdout",
     "output_type": "stream",
     "text": [
      "We love LsgoGroup\n"
     ]
    }
   ],
   "source": [
    "str5 = ' I love LsgoGroup ' \n",
    "print(str5.strip().replace('I', 'We'))"
   ]
  },
  {
   "cell_type": "markdown",
   "id": "192cf00f",
   "metadata": {},
   "source": [
    "### split(str=\"\", num) 不带参数默认是以空格为分隔符切片字符串，如果num参数有设置，则仅分隔num个子字符串，返回切片后的子字符串拼接的列表"
   ]
  },
  {
   "cell_type": "code",
   "execution_count": 8,
   "id": "1347ea1a",
   "metadata": {},
   "outputs": [
    {
     "name": "stdout",
     "output_type": "stream",
     "text": [
      "['I', 'love', 'LsgoGroup']\n",
      "['I l', 've Lsg', 'Gr', 'up']\n"
     ]
    }
   ],
   "source": [
    "str5 = ' I love LsgoGroup '\n",
    "print(str5.strip().split())\n",
    "print(str5.strip().split('o'))"
   ]
  },
  {
   "cell_type": "code",
   "execution_count": 9,
   "id": "995a524a",
   "metadata": {},
   "outputs": [
    {
     "name": "stdout",
     "output_type": "stream",
     "text": [
      "['www.baidu.com.cn']\n",
      "['www', 'baidu', 'com', 'cn']\n",
      "['www.baidu.com.cn']\n",
      "['www', 'baidu.com.cn']\n",
      "['www', 'baidu', 'com.cn']\n",
      "baidu\n"
     ]
    }
   ],
   "source": [
    "u = \"www.baidu.com.cn\"\n",
    "print(u.split())\n",
    "print(u.split('.'))\n",
    "print(u.split('.', 0))\n",
    "print(u.split('.', 1))\n",
    "print(u.split('.', 2))\n",
    "print(u.split('.', 2)[1])"
   ]
  },
  {
   "cell_type": "code",
   "execution_count": 11,
   "id": "70e5da08",
   "metadata": {},
   "outputs": [
    {
     "name": "stdout",
     "output_type": "stream",
     "text": [
      "www\n",
      "baidu\n",
      "com.cn\n"
     ]
    }
   ],
   "source": [
    "u1, u2, u3 = u.split('.', 2)\n",
    "print(u1, u2, u3, sep='\\n')"
   ]
  },
  {
   "cell_type": "markdown",
   "id": "98440298",
   "metadata": {},
   "source": [
    "### splitlines(\\[keepends\\]) 按照行('\\r', '\\r\\n', '\\n')分隔，返回一个包含各行作为元素的列表，如果参数keepends为False，不包含换行符，如果为True，则保留换行符"
   ]
  },
  {
   "cell_type": "code",
   "execution_count": 12,
   "id": "75705b8d",
   "metadata": {},
   "outputs": [
    {
     "name": "stdout",
     "output_type": "stream",
     "text": [
      "['I ', ' Love ', ' LsgoGroup']\n",
      "['I \\n', ' Love \\n', ' LsgoGroup']\n"
     ]
    }
   ],
   "source": [
    "str6 = 'I \\n Love \\n LsgoGroup'\n",
    "print(str6.splitlines())\n",
    "print(str6.splitlines(True))"
   ]
  },
  {
   "cell_type": "markdown",
   "id": "9b2f9e65",
   "metadata": {},
   "source": [
    "### maketrans(intab, outtab) 创建字符映射的转换表，第一个参数是字符串，表示需要转换的字符，第二个参数也是字符串表示转换的目标\n",
    "### translate(table, deletechars=\"\") 根据参数table给出的表，转换字符串中的字符，要过滤掉的字符放到deletechars参数中"
   ]
  },
  {
   "cell_type": "code",
   "execution_count": 13,
   "id": "6de2abc4",
   "metadata": {},
   "outputs": [
    {
     "name": "stdout",
     "output_type": "stream",
     "text": [
      "{97: 49, 101: 50, 105: 51, 111: 52, 117: 53}\n",
      "th3s 3s str3ng 2x1mpl2....w4w!!!\n"
     ]
    }
   ],
   "source": [
    "str = 'this is string example....wow!!!'\n",
    "intab = 'aeiou'\n",
    "outtab = '12345'\n",
    "trantab = str.maketrans(intab, outtab)\n",
    "print(trantab) \n",
    "print(str.translate(trantab)) "
   ]
  },
  {
   "cell_type": "markdown",
   "id": "ebbd4692",
   "metadata": {},
   "source": [
    "# 4.字符串格式化"
   ]
  },
  {
   "cell_type": "markdown",
   "id": "1a08e568",
   "metadata": {},
   "source": [
    "### format格式化函数"
   ]
  },
  {
   "cell_type": "code",
   "execution_count": 14,
   "id": "1a46df28",
   "metadata": {},
   "outputs": [
    {
     "name": "stdout",
     "output_type": "stream",
     "text": [
      "I Love Lsgogroup\n",
      "I Love Lsgogroup\n",
      "I Love Lsgogroup\n",
      "27.66GB\n"
     ]
    }
   ],
   "source": [
    "str = \"{0} Love {1}\".format('I', 'Lsgogroup') \n",
    "print(str) \n",
    "str = \"{a} Love {b}\".format(a='I', b='Lsgogroup') \n",
    "print(str)\n",
    "str = \"{0} Love {b}\".format('I', b='Lsgogroup')\n",
    "print(str) \n",
    "str = '{0:.2f}{1}'.format(27.658, 'GB') \n",
    "print(str) "
   ]
  },
  {
   "cell_type": "markdown",
   "id": "0bff3a68",
   "metadata": {},
   "source": [
    "Python中的格式化符号与C完全一致"
   ]
  },
  {
   "cell_type": "markdown",
   "id": "f37f62b9",
   "metadata": {},
   "source": [
    "##### 格式化操作符辅助指令\n",
    "|符号|功能|\n",
    "|---|---|\n",
    "|m.n|m是显示的最小总宽度,n是小数点后的位数(如果可用的话)|\n",
    "|-|用作左对齐|\n",
    "|+|在正数前面显示正号|\n",
    "|#|在八进制数前面显示'0'，在十六进制前面显示'0x'或者'0X'(取决于用的是'x'还是'X')|\n",
    "|0| 显示的数字前面填充'0'而不是默认的空格|"
   ]
  },
  {
   "cell_type": "code",
   "execution_count": null,
   "id": "b04a6764",
   "metadata": {},
   "outputs": [],
   "source": []
  }
 ],
 "metadata": {
  "kernelspec": {
   "display_name": "Python 3",
   "language": "python",
   "name": "python3"
  },
  "language_info": {
   "codemirror_mode": {
    "name": "ipython",
    "version": 3
   },
   "file_extension": ".py",
   "mimetype": "text/x-python",
   "name": "python",
   "nbconvert_exporter": "python",
   "pygments_lexer": "ipython3",
   "version": "3.8.8"
  }
 },
 "nbformat": 4,
 "nbformat_minor": 5
}
