{
 "cells": [
  {
   "cell_type": "markdown",
   "id": "615bffd7",
   "metadata": {},
   "source": [
    "# 1.元组的定义"
   ]
  },
  {
   "cell_type": "markdown",
   "id": "d635d08d",
   "metadata": {},
   "source": [
    "元组的定义语法为：(元素1，元素2，...，元素n)\n",
    "1. 小括号把所有元素绑在一起\n",
    "2. 逗号将每个元素一一分开"
   ]
  },
  {
   "cell_type": "markdown",
   "id": "8ae879c1",
   "metadata": {},
   "source": [
    "# 2.创建和访问一个元组"
   ]
  },
  {
   "cell_type": "markdown",
   "id": "c9f762ec",
   "metadata": {},
   "source": [
    "1. Python的元组与列表类似，不同之处在于tuple被创建之后**不可修改**\n",
    "2. 元组使用小括号，列表使用方括号"
   ]
  },
  {
   "cell_type": "markdown",
   "id": "3699b2e2",
   "metadata": {},
   "source": [
    "### 元组的创建"
   ]
  },
  {
   "cell_type": "code",
   "execution_count": 1,
   "id": "c8aef123",
   "metadata": {},
   "outputs": [
    {
     "name": "stdout",
     "output_type": "stream",
     "text": [
      "(1, 10.31, 'Python') <class 'tuple'>\n",
      "(1, 10.31, 'Python') <class 'tuple'>\n"
     ]
    }
   ],
   "source": [
    "t1 = (1, 10.31, 'Python')\n",
    "t2 = 1, 10.31, 'Python'\n",
    "\n",
    "print(t1, type(t1))\n",
    "print(t2, type(t2))"
   ]
  },
  {
   "cell_type": "markdown",
   "id": "4551d381",
   "metadata": {},
   "source": [
    "- 由此可见，创建元组可以使用小括号，也可以什么都不用，但为了保证代码可读性，建议使用小括号"
   ]
  },
  {
   "cell_type": "markdown",
   "id": "4358258c",
   "metadata": {},
   "source": [
    "- 此外，需要注意的是，元组中只包含一个元素时，需要在此元素后面添加逗号，否则括号会被视为运算符。见下例："
   ]
  },
  {
   "cell_type": "code",
   "execution_count": 2,
   "id": "86c5b2d3",
   "metadata": {},
   "outputs": [
    {
     "name": "stdout",
     "output_type": "stream",
     "text": [
      "1 <class 'int'>\n"
     ]
    }
   ],
   "source": [
    "temp = (1)\n",
    "print(temp, type(temp))"
   ]
  },
  {
   "cell_type": "code",
   "execution_count": 4,
   "id": "b5061418",
   "metadata": {},
   "outputs": [
    {
     "name": "stdout",
     "output_type": "stream",
     "text": [
      "(1,) <class 'tuple'>\n"
     ]
    }
   ],
   "source": [
    "temp = (1,)\n",
    "print(temp, type(temp))"
   ]
  },
  {
   "cell_type": "code",
   "execution_count": 5,
   "id": "9223517c",
   "metadata": {},
   "outputs": [
    {
     "name": "stdout",
     "output_type": "stream",
     "text": [
      "(2, 3, 4, 5) <class 'tuple'>\n"
     ]
    }
   ],
   "source": [
    "temp = 2, 3, 4, 5\n",
    "print(temp, type(temp))"
   ]
  },
  {
   "cell_type": "markdown",
   "id": "32edffd5",
   "metadata": {},
   "source": [
    "### 元组的访问"
   ]
  },
  {
   "cell_type": "markdown",
   "id": "2fb3a678",
   "metadata": {},
   "source": [
    "元组可以通过索引与切片访问，其形式与列表相同"
   ]
  },
  {
   "cell_type": "markdown",
   "id": "119e498b",
   "metadata": {},
   "source": [
    "# 3.更新和删除一个元组"
   ]
  },
  {
   "cell_type": "code",
   "execution_count": 7,
   "id": "bbebb0f0",
   "metadata": {},
   "outputs": [
    {
     "data": {
      "text/plain": [
       "('Monday', 'Tuesday', 'Wednesday', 'Thursday', 'Friday')"
      ]
     },
     "execution_count": 7,
     "metadata": {},
     "output_type": "execute_result"
    }
   ],
   "source": [
    "week = ('Monday', 'Tuesday', 'Thursday', 'Friday')\n",
    "week = week[:2] + ('Wednesday',) + week[2:]\n",
    "week"
   ]
  },
  {
   "cell_type": "markdown",
   "id": "7d3474cc",
   "metadata": {},
   "source": [
    "由于元组不可更改，所以并不能直接给元组中的元素赋值，但如果元组中的元素可更改，就可以直接改变其元素"
   ]
  },
  {
   "cell_type": "code",
   "execution_count": 8,
   "id": "57b3e6c3",
   "metadata": {},
   "outputs": [
    {
     "name": "stdout",
     "output_type": "stream",
     "text": [
      "(1, 2, 3, [4, 5, 6])\n",
      "(1, 2, 3, [9, 5, 6])\n"
     ]
    }
   ],
   "source": [
    "t1 = (1, 2, 3, [4, 5, 6])\n",
    "print(t1)\n",
    "t1[3][0] = 9\n",
    "print(t1)"
   ]
  },
  {
   "cell_type": "markdown",
   "id": "fc780192",
   "metadata": {},
   "source": [
    "# 4.元组相关的操作符"
   ]
  },
  {
   "cell_type": "markdown",
   "id": "82b75089",
   "metadata": {},
   "source": [
    "和列表基本完全一致"
   ]
  },
  {
   "cell_type": "markdown",
   "id": "61006951",
   "metadata": {},
   "source": [
    "# 5.内置方法"
   ]
  },
  {
   "cell_type": "markdown",
   "id": "9a844b21",
   "metadata": {},
   "source": [
    "只有 count 和 index 两种方法，这两种方法与列表类似"
   ]
  },
  {
   "cell_type": "markdown",
   "id": "25ddb84c",
   "metadata": {},
   "source": [
    "# 6.解压元组"
   ]
  },
  {
   "cell_type": "code",
   "execution_count": 9,
   "id": "d2e22a3e",
   "metadata": {},
   "outputs": [
    {
     "name": "stdout",
     "output_type": "stream",
     "text": [
      "1 10.31 Python\n"
     ]
    }
   ],
   "source": [
    "t = (1, 10.31, 'Python')\n",
    "(a, b, c) = t\n",
    "print(a, b, c)"
   ]
  },
  {
   "cell_type": "code",
   "execution_count": 10,
   "id": "2c15de1f",
   "metadata": {},
   "outputs": [
    {
     "name": "stdout",
     "output_type": "stream",
     "text": [
      "1 10.31 C Python\n"
     ]
    }
   ],
   "source": [
    "t = (1, 10.31, ('C', 'Python'))\n",
    "(a, b, (c, d)) = t\n",
    "print(a, b, c, d)"
   ]
  },
  {
   "cell_type": "markdown",
   "id": "0ce6284c",
   "metadata": {},
   "source": [
    "如果只想要元组其中几个元素，用通配符\\*,下例就是把多个元素丢给了rest变量"
   ]
  },
  {
   "cell_type": "code",
   "execution_count": 12,
   "id": "8b7d1474",
   "metadata": {},
   "outputs": [
    {
     "name": "stdout",
     "output_type": "stream",
     "text": [
      "1 2 5\n",
      "[3, 4]\n",
      "3 4\n"
     ]
    }
   ],
   "source": [
    "t = 1, 2, 3, 4, 5\n",
    "a, b, *rest, c = t\n",
    "print(a, b, c)\n",
    "print(rest)\n",
    "print(*rest)"
   ]
  },
  {
   "cell_type": "markdown",
   "id": "b484c5fd",
   "metadata": {},
   "source": [
    "如果不在乎rest变量，就用通配符加上下划线"
   ]
  },
  {
   "cell_type": "code",
   "execution_count": 14,
   "id": "331515fd",
   "metadata": {},
   "outputs": [
    {
     "name": "stdout",
     "output_type": "stream",
     "text": [
      "1 2\n"
     ]
    }
   ],
   "source": [
    "a, b, *_ = t\n",
    "print(a, b)"
   ]
  }
 ],
 "metadata": {
  "kernelspec": {
   "display_name": "Python 3",
   "language": "python",
   "name": "python3"
  },
  "language_info": {
   "codemirror_mode": {
    "name": "ipython",
    "version": 3
   },
   "file_extension": ".py",
   "mimetype": "text/x-python",
   "name": "python",
   "nbconvert_exporter": "python",
   "pygments_lexer": "ipython3",
   "version": "3.8.8"
  }
 },
 "nbformat": 4,
 "nbformat_minor": 5
}
