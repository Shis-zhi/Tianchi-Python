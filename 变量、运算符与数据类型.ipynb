{
 "cells": [
  {
   "cell_type": "markdown",
   "metadata": {},
   "source": [
    "# 注释"
   ]
  },
  {
   "cell_type": "markdown",
   "metadata": {},
   "source": [
    "符号 \\# 表示注释，作用于整行  \n",
    "符号 '''  ''' 或者 \"\"\" \"\"\" 表示区间注释，即其内部的所有内容均为注释  \n",
    "注释在程序运行时会被完全忽视"
   ]
  },
  {
   "cell_type": "markdown",
   "metadata": {},
   "source": [
    "# 运算符"
   ]
  },
  {
   "cell_type": "markdown",
   "metadata": {},
   "source": [
    "### 算术运算符"
   ]
  },
  {
   "cell_type": "markdown",
   "metadata": {},
   "source": [
    "+（加）   -（减）   \\*（乘）    \\/ (除)   \\//（整除）   %（取余）   **（幂）"
   ]
  },
  {
   "cell_type": "code",
   "execution_count": 10,
   "metadata": {},
   "outputs": [
    {
     "data": {
      "text/plain": [
       "1.3333333333333333"
      ]
     },
     "execution_count": 10,
     "metadata": {},
     "output_type": "execute_result"
    }
   ],
   "source": [
    "4 / 3"
   ]
  },
  {
   "cell_type": "markdown",
   "metadata": {},
   "source": [
    "Python中，两个变量相除会得到真实值，而非C语言中，两个int值相除只会保留数部分"
   ]
  },
  {
   "cell_type": "code",
   "execution_count": 7,
   "metadata": {},
   "outputs": [
    {
     "data": {
      "text/plain": [
       "1"
      ]
     },
     "execution_count": 7,
     "metadata": {},
     "output_type": "execute_result"
    }
   ],
   "source": [
    "4//3"
   ]
  },
  {
   "cell_type": "markdown",
   "metadata": {},
   "source": [
    "整除相当于只取商的整数部分"
   ]
  },
  {
   "cell_type": "code",
   "execution_count": 9,
   "metadata": {},
   "outputs": [
    {
     "data": {
      "text/plain": [
       "8"
      ]
     },
     "execution_count": 9,
     "metadata": {},
     "output_type": "execute_result"
    }
   ],
   "source": [
    "2**3"
   ]
  },
  {
   "cell_type": "markdown",
   "metadata": {},
   "source": [
    "### 比较运算符"
   ]
  },
  {
   "cell_type": "markdown",
   "metadata": {},
   "source": [
    "\\>(大于) \\>=(大于等于) \\<(小于) \\<=(小于等于) ==(等于) !=(不等于)     \n",
    "此类运算符的运算结果为bool值（True 或者 False）"
   ]
  },
  {
   "cell_type": "markdown",
   "metadata": {},
   "source": [
    "### 逻辑运算符"
   ]
  },
  {
   "cell_type": "markdown",
   "metadata": {},
   "source": [
    "and(与) or(或) not(非)   \n",
    "分别对应C语言中的 &&，||，！"
   ]
  },
  {
   "cell_type": "markdown",
   "metadata": {},
   "source": [
    "### 位运算符"
   ]
  },
  {
   "cell_type": "markdown",
   "metadata": {},
   "source": [
    "~(按位取反) \n",
    "&(按位与) \n",
    "|(按位或) \n",
    "^(按位异或) \n",
    "<<(左移) \n",
    "\\>>(右移)    \n",
    "和C语言完全一致"
   ]
  },
  {
   "cell_type": "markdown",
   "metadata": {},
   "source": [
    "### 三元运算符"
   ]
  },
  {
   "cell_type": "markdown",
   "metadata": {},
   "source": [
    "= if else    \n",
    "类比于C中的 ? :"
   ]
  },
  {
   "cell_type": "code",
   "execution_count": 20,
   "metadata": {},
   "outputs": [
    {
     "data": {
      "text/plain": [
       "4"
      ]
     },
     "execution_count": 20,
     "metadata": {},
     "output_type": "execute_result"
    }
   ],
   "source": [
    "x, y = 4, 5\n",
    "smaller = x if x < y else y\n",
    "smaller\n",
    "'''\n",
    "如果用C语言，代码为\n",
    "smaller = x < y ? x : y\n",
    "'''"
   ]
  },
  {
   "cell_type": "markdown",
   "metadata": {},
   "source": [
    "### 其他运算符"
   ]
  },
  {
   "cell_type": "markdown",
   "metadata": {},
   "source": [
    "is(是) &nbsp; is not(不是) &nbsp; in(存在)  &nbsp;not in(不存在)"
   ]
  },
  {
   "cell_type": "markdown",
   "metadata": {},
   "source": [
    "- is 和 is not 对比的是两个变量的内存地址，而 == 和 ！= 对比的是两个变量的值   \n",
    "- 如果比较的两个变量指向的都是内存不可变的类型，那么 is, is not 和 ==, != 等价"
   ]
  },
  {
   "cell_type": "markdown",
   "metadata": {},
   "source": [
    "### 运算符的优先级"
   ]
  },
  {
   "cell_type": "markdown",
   "metadata": {},
   "source": [
    "1. 一元运算符优先于二元运算符\n",
    "2. 先算术运算，后移位运算，最后位运算\n",
    "3. 逻辑运算最后进行"
   ]
  },
  {
   "cell_type": "markdown",
   "metadata": {},
   "source": [
    "# 变量和赋值"
   ]
  },
  {
   "cell_type": "markdown",
   "metadata": {},
   "source": [
    "1. 使用变量前要进赋值\n",
    "2. 变量名可以包括字母，数字，下划线，但不能以数字开头\n",
    "3. Python变量名是大小写敏感的"
   ]
  },
  {
   "cell_type": "markdown",
   "metadata": {},
   "source": [
    "# 数据类型与转换"
   ]
  },
  {
   "cell_type": "markdown",
   "metadata": {},
   "source": [
    "### 数据类型"
   ]
  },
  {
   "cell_type": "markdown",
   "metadata": {},
   "source": [
    "|类型|名称|示例|  \n",
    "|---|---|---|\n",
    "|int|整型|10，-14|\n",
    "|float|浮点型|1.1415，111.11|\n",
    "|bool|布尔型|True，False|"
   ]
  },
  {
   "cell_type": "markdown",
   "metadata": {},
   "source": [
    "对于bool(x):  \n",
    "- 若x为数值变量，x = 0 或者 x = 0.0 等情况都可以认为值为False\n",
    "- 若x为容器变量(列表，词典等)，内部无元素就是空的"
   ]
  },
  {
   "cell_type": "markdown",
   "metadata": {},
   "source": [
    "### 类型转换"
   ]
  },
  {
   "cell_type": "markdown",
   "metadata": {},
   "source": [
    "1. 转换为整型 int(x,base = 10) &nbsp; 其中参数base表示进制  \n",
    "2. 转换为字符串 str(object = '')   \n",
    "3. 转换为字符串 float(x)"
   ]
  },
  {
   "cell_type": "markdown",
   "metadata": {},
   "source": [
    "# print函数"
   ]
  },
  {
   "cell_type": "markdown",
   "metadata": {},
   "source": [
    "print(\\*objects, sep='', end='\\n', file=sys.stdout, flush=False)\n",
    "- sep为分隔符  \n",
    "- end为输出结束时的字符，默认换行  "
   ]
  },
  {
   "cell_type": "code",
   "execution_count": null,
   "metadata": {},
   "outputs": [],
   "source": []
  }
 ],
 "metadata": {
  "kernelspec": {
   "display_name": "Python 3",
   "language": "python",
   "name": "python3"
  },
  "language_info": {
   "codemirror_mode": {
    "name": "ipython",
    "version": 3
   },
   "file_extension": ".py",
   "mimetype": "text/x-python",
   "name": "python",
   "nbconvert_exporter": "python",
   "pygments_lexer": "ipython3",
   "version": "3.8.5"
  }
 },
 "nbformat": 4,
 "nbformat_minor": 4
}
